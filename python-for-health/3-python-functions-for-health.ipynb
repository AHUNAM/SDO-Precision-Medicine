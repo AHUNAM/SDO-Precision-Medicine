{
 "cells": [
  {
   "cell_type": "markdown",
   "id": "59bca37f",
   "metadata": {},
   "source": [
    "# ¡Buenas Noches!🌜\n",
    "\n",
    "We’ve come this far, and I’m not stopping! From mastering Data Types to dancing through Data Structures — now it’s time to explore Python Functions for healthcare!  My growth story is powered by Standard Data Ocean.✨"
   ]
  },
  {
   "cell_type": "markdown",
   "id": "355d3ddd",
   "metadata": {},
   "source": [
    "### What’s All This Python Function Noise? 🐍\n",
    "\n",
    "We’ve been hearing it everywhere — functions, functions, functions! But wait, what exactly is a function? Like, let’s not rush. In simple, everyday talk — what does it really mean when you say something has a function? It means it has a job! It does something. It’s useful. It’s not just sitting there looking pretty. Now, bring that same energy to Python functions. In Python, when we say function, we mean: “A reusable block of code that does something automatically when you call it — without writing it all over again.” Yep! You create it once, and anytime you call its name — it will run the exact instructions you gave it, like a loyal assistant. It’s like saving a shortcut for tasks you know you’ll do more than once.\n",
    "\n",
    "*So, when should you create a function? When you know you’ll repeat that task again and again.* \n",
    "\n",
    "Just save yourself the wahala abeg! 😂"
   ]
  },
  {
   "cell_type": "markdown",
   "id": "edfa3f11",
   "metadata": {},
   "source": [
    "##### Carefully look at the code below, then run it 👇"
   ]
  },
  {
   "cell_type": "code",
   "execution_count": 1,
   "id": "bf59a8e9",
   "metadata": {},
   "outputs": [],
   "source": [
    "#Function that teaches you how to create functions 😂\n",
    "\n",
    "def explain_python_function():\n",
    "    print(\"Hey you! Welcome to Python functions – let’s break this down like gist 😅\\n\")\n",
    "    print(\"Step One: Start your function using 'def' – this is how you tell Python, 'Oya I want to define something.'\")\n",
    "    print(\"Step Two: Give your function a name that SHOUTS what it does.\")\n",
    "    print(\"Example: say_hello, check_bp, register_patient – make it so clear that even your best friend will know what it does without checking the code.\")\n",
    "    print(\"Please don't use names Python already owns, like 'print' or 'if' – Python will vex for you.\")\n",
    "    print(\"Step Three: After the name, always put a colon ':' – this is like saying, 'Story is coming!'\")\n",
    "    print(\"Step Four: On the next line, press your spacebar four times (or press TAB once) to give Python some breathing space.\")\n",
    "    print(\"Write your task – that's what we call the 'function body.' That’s the real work the function will do. This is where your assistant does the work you gave them.\\n\")\n",
    "    print(\"And that’s it! Your function is ready to work for you anytime you call it.\")\n",
    "    print(\"💡 Bonus: Just call the function’s name to use it anytime, anywhere in your code. No need to rewrite the whole thing again.\\n\")\n",
    "    print(\"Thank you for attending my TED Talk on Python functions. 🙇\")\n"
   ]
  },
  {
   "cell_type": "markdown",
   "id": "4ce58c88",
   "metadata": {},
   "source": [
    "### Using the Code above - You just need to know four things:\n",
    "\n",
    "How to Start a Function — Use def\n",
    "\n",
    "How to Name Your Function — Be Clear, My Dear! The function name should describe what it does in the simplest, clearest way.\n",
    "- It should either be in snake_case (like_this) or camelCase (likeThis).\n",
    "- Don’t use reserved Python keywords like print, for, if as function names. Python already owns those ones globally. No dragging with Python, please. 😂\n",
    "\n",
    "What Comes After the Name? — Add a Colon : Simple. The colon tells Python: \"The body is coming!\"\n",
    "\n",
    "What Comes After the Colon? — Indent and Type the Body\n",
    "\n",
    "### Now run the code below 👇 \n",
    "\n",
    "##### What did you notice?\n",
    "\n",
    "That’s it! 🥳 Python functions are like your personal assistants — create them well, and they’ll save you tons of stress!"
   ]
  },
  {
   "cell_type": "code",
   "execution_count": 2,
   "id": "051a83fc",
   "metadata": {},
   "outputs": [
    {
     "name": "stdout",
     "output_type": "stream",
     "text": [
      "Hey you! Welcome to Python functions – let’s break this down like gist 😅\n",
      "\n",
      "Step One: Start your function using 'def' – this is how you tell Python, 'Oya I want to define something.'\n",
      "Step Two: Give your function a name that SHOUTS what it does.\n",
      "Example: say_hello, check_bp, register_patient – make it so clear that even your best friend will know what it does without checking the code.\n",
      "Please don't use names Python already owns, like 'print' or 'if' – Python will vex for you.\n",
      "Step Three: After the name, always put a colon ':' – this is like saying, 'Story is coming!'\n",
      "Step Four: On the next line, press your spacebar four times (or press TAB once) to give Python some breathing space.\n",
      "Write your task – that's what we call the 'function body.' That’s the real work the function will do. This is where your assistant does the work you gave them.\n",
      "\n",
      "And that’s it! Your function is ready to work for you anytime you call it.\n",
      "💡 Bonus: Just call the function’s name to use it anytime, anywhere in your code. No need to rewrite the whole thing again.\n",
      "\n",
      "Thank you for attending my TED Talk on Python functions. 🙇\n"
     ]
    }
   ],
   "source": [
    "# Let’s call the function to see the magic\n",
    "\n",
    "explain_python_function()"
   ]
  },
  {
   "cell_type": "code",
   "execution_count": 3,
   "id": "507550be",
   "metadata": {},
   "outputs": [],
   "source": [
    "def greet_staffs(name):\n",
    "    print (f\"good morning, {name}\")"
   ]
  },
  {
   "cell_type": "code",
   "execution_count": 4,
   "id": "2ebb4422",
   "metadata": {},
   "outputs": [
    {
     "name": "stdout",
     "output_type": "stream",
     "text": [
      "good morning, chidinma\n"
     ]
    }
   ],
   "source": [
    "greet_staffs(\"chidinma\")"
   ]
  },
  {
   "cell_type": "markdown",
   "id": "4636f411",
   "metadata": {},
   "source": [
    "Make sure that you run the cell that defines the function before calling the function, otherwise you will get an error message"
   ]
  },
  {
   "cell_type": "markdown",
   "id": "4a4fb2c2",
   "metadata": {},
   "source": [
    "### How Do We Make Functions Work Sensibly for Us? 🤔\n",
    "\n",
    "If you look at the code again, you will see that in a short form, functions are like creating our own keywords (like ```print```) that we can use in our program.\n",
    "\n",
    "The only difference is: we are creating it for ourselves — it’s not a global Python keyword.  And guess what? We can even customize what it does.\n",
    "\n",
    "If we want to call a function we created, we just need its name and parenthesis (brackets).\n",
    "\n",
    "Let’s try this:\n"
   ]
  },
  {
   "cell_type": "code",
   "execution_count": 5,
   "id": "0095fbfe",
   "metadata": {},
   "outputs": [
    {
     "ename": "NameError",
     "evalue": "name 'name' is not defined",
     "output_type": "error",
     "traceback": [
      "\u001b[31m---------------------------------------------------------------------------\u001b[39m",
      "\u001b[31mNameError\u001b[39m                                 Traceback (most recent call last)",
      "\u001b[36mCell\u001b[39m\u001b[36m \u001b[39m\u001b[32mIn[5]\u001b[39m\u001b[32m, line 8\u001b[39m\n\u001b[32m      4\u001b[39m     \u001b[38;5;28mprint\u001b[39m(\u001b[33mf\u001b[39m\u001b[33m\"\u001b[39m\u001b[33mGood morning, \u001b[39m\u001b[38;5;132;01m{\u001b[39;00mname\u001b[38;5;132;01m}\u001b[39;00m\u001b[33m\"\u001b[39m)\n\u001b[32m      6\u001b[39m \u001b[38;5;66;03m# Now, let’s try to call it\u001b[39;00m\n\u001b[32m----> \u001b[39m\u001b[32m8\u001b[39m \u001b[43mgreet_staffs\u001b[49m\u001b[43m(\u001b[49m\u001b[43m)\u001b[49m\n",
      "\u001b[36mCell\u001b[39m\u001b[36m \u001b[39m\u001b[32mIn[5]\u001b[39m\u001b[32m, line 4\u001b[39m, in \u001b[36mgreet_staffs\u001b[39m\u001b[34m()\u001b[39m\n\u001b[32m      3\u001b[39m \u001b[38;5;28;01mdef\u001b[39;00m\u001b[38;5;250m \u001b[39m\u001b[34mgreet_staffs\u001b[39m():\n\u001b[32m----> \u001b[39m\u001b[32m4\u001b[39m     \u001b[38;5;28mprint\u001b[39m(\u001b[33mf\u001b[39m\u001b[33m\"\u001b[39m\u001b[33mGood morning, \u001b[39m\u001b[38;5;132;01m{\u001b[39;00m\u001b[43mname\u001b[49m\u001b[38;5;132;01m}\u001b[39;00m\u001b[33m\"\u001b[39m)\n",
      "\u001b[31mNameError\u001b[39m: name 'name' is not defined"
     ]
    }
   ],
   "source": [
    "# This is our first function\n",
    "\n",
    "def greet_staffs():\n",
    "    print(f\"Good morning, {name}\")\n",
    "\n",
    "# Now, let’s try to call it\n",
    "\n",
    "greet_staffs()\n"
   ]
  },
  {
   "cell_type": "markdown",
   "id": "9888b61c",
   "metadata": {},
   "source": [
    "#### Eiii See Error! 🚨\n",
    "\n",
    "Do you know why this throws an error?  Because the `print` function inside our custom `greet_staffs` function **is expecting a name**.  \n",
    "\n",
    "But when we created `greet_staffs`, we **didn’t tell Python to expect anything**.  That place inside the brackets `()` is called **the parameter.**  \n",
    "\n",
    "If you don’t add it there, Python will act confused and will just throw wahala (error).\n",
    "\n",
    ".... and hey let me give you another gist all of what is inside the print function together ```(f\"Good morning, {name}\")``` is called an **arguement**\n",
    "\n",
    "---\n",
    "\n",
    "#### So How Do We Solve This? 🛠️\n",
    "\n",
    "Let’s tell Python clearly:  \"This function will take a name as input. Please wait for it!\"\n",
    "\n",
    "We do it like this:\n"
   ]
  },
  {
   "cell_type": "code",
   "execution_count": null,
   "id": "e700c7e7",
   "metadata": {},
   "outputs": [
    {
     "name": "stdout",
     "output_type": "stream",
     "text": [
      "Good morning, Chidinma\n"
     ]
    }
   ],
   "source": [
    "# Now we are doing it correctly\n",
    "\n",
    "def greet_staffs(name):\n",
    "    print(f\"Good morning, {name}\")\n",
    "\n",
    "# Let’s call it now with the correct input\n",
    "\n",
    "greet_staffs(\"Chidinma\")\n"
   ]
  },
  {
   "cell_type": "markdown",
   "id": "479b9fd9",
   "metadata": {},
   "source": [
    "Now Python is happy because we told it exactly what to expect.\n",
    "\n",
    "Quick Summary:\n",
    "-  A function can have **parameters** (what goes inside the brackets).\n",
    "-  When you call the function, you must **provide a value** for those parameters.\n",
    "-  If your function has no parameters, you can call it directly with empty brackets.\n",
    "\n",
    "Let’s keep building! You’re doing so well! 🫶\n",
    "\n",
    "---"
   ]
  },
  {
   "cell_type": "markdown",
   "id": "e7a64650",
   "metadata": {},
   "source": [
    "### What if We Want Our Function to Run Repeatedly? 🔁\n",
    "\n",
    "What does this remind you of? Hint… remember the **loop?** 💡  Yeah! Go back to the previous notebook! Loops help us repeat things.\n",
    "\n",
    "With **for loops**, we can actually make our function run many times — even with **ranges!**\n",
    "\n",
    "Let’s see an example 👇🏽\n"
   ]
  },
  {
   "cell_type": "code",
   "execution_count": null,
   "id": "481b3aab",
   "metadata": {},
   "outputs": [
    {
     "name": "stdout",
     "output_type": "stream",
     "text": [
      "Good morning, Chidinma!\n",
      "Good morning, Chidinma!\n",
      "Good morning, Chidinma!\n",
      "Good morning, Chidinma!\n",
      "Good morning, Chidinma!\n",
      "Good morning, Chidinma!\n"
     ]
    }
   ],
   "source": [
    "# Repeating a function using for loop and range\n",
    "\n",
    "def greet_staffs(name):\n",
    "    for number in range(0, 6):\n",
    "        print(f\"Good morning, {name}!\") \n",
    "\n",
    "# Let’s call the function\n",
    "\n",
    "greet_staffs(\"Chidinma\")"
   ]
  },
  {
   "cell_type": "markdown",
   "id": "2632ea0e",
   "metadata": {},
   "source": [
    "We told Python: \"For every number from 0 to 5 (because Python always skips the last number), print 'Good morning, Chidinma! **six times.** (Remember: Python starts counting from 0!)"
   ]
  },
  {
   "cell_type": "markdown",
   "id": "c4d0f68b",
   "metadata": {},
   "source": [
    "\n",
    "### What if We Have a List of Names? 📃\n",
    "\n",
    "Let’s say you have this patient list:\n",
    "```names = [\"Chidinma\", \"Joy\", \"Happiness\", \"Felicity\", \"Ijeoma\", \"Frances\"]```\n",
    "\n",
    "We can write our function to go through each name automatically. Python will even help us call their names one by one! 👏🏽\n"
   ]
  },
  {
   "cell_type": "code",
   "execution_count": null,
   "id": "41fb0c58",
   "metadata": {},
   "outputs": [
    {
     "name": "stdout",
     "output_type": "stream",
     "text": [
      "Good morning, Chidinma!\n",
      "Good morning, Joy!\n",
      "Good morning, Happiness!\n",
      "Good morning, Felicity!\n",
      "Good morning, Ijeoma!\n",
      "Good morning, Frances!\n"
     ]
    }
   ],
   "source": [
    "def greet_staffs():\n",
    "    names = [\"Chidinma\", \"Joy\", \"Happiness\", \"Felicity\", \"Ijeoma\", \"Frances\"]\n",
    "    for name in names:\n",
    "        print(f\"Good morning, {name}!\")  #\"For each name in the list of names, print 'Good morning' with their name.\"\n",
    "\n",
    "# Let’s call it\n",
    "\n",
    "greet_staffs()"
   ]
  },
  {
   "cell_type": "markdown",
   "id": "97c7989e",
   "metadata": {},
   "source": [
    "\n",
    "### What if We Don't Have a Name List? 🤷🏽‍♀️\n",
    "\n",
    "You can still repeat the action using a loop and a placeholder.\n",
    "\n",
    "When you don’t need to use the value inside the loop (you just want to repeat something), you can use **underscore `_`** as a throwaway variable.\n",
    "\n",
    "```python\n",
    "for _ in range(5):\n",
    "    # Do something here\n",
    "```\n",
    "\n",
    "Let’s see it in action 👇🏽\n"
   ]
  },
  {
   "cell_type": "code",
   "execution_count": null,
   "id": "655166b1",
   "metadata": {},
   "outputs": [
    {
     "name": "stdout",
     "output_type": "stream",
     "text": [
      "Good morning, staff!\n",
      "Good morning, staff!\n",
      "Good morning, staff!\n",
      "Good morning, staff!\n",
      "Good morning, staff!\n"
     ]
    }
   ],
   "source": [
    "# Repeating a message without using the loop value\n",
    "\n",
    "def greet_staffs():\n",
    "    for _ in range(5):\n",
    "        print(\"Good morning, staff!\")  #How to read this: Repeat 'Good morning, staff!' five times. I don’t care about the loop variable — just keep running it!\"\n",
    "\n",
    "# Let’s call it\n",
    "\n",
    "greet_staffs()"
   ]
  },
  {
   "cell_type": "markdown",
   "id": "b66411b9",
   "metadata": {},
   "source": [
    "When you use `_`, Python knows you don’t need the variable — you’re just looping for the sake of looping."
   ]
  },
  {
   "cell_type": "markdown",
   "id": "49d0a0b4",
   "metadata": {},
   "source": [
    "##### 🔥 We’ve just made our functions smart and repetitive — just like hospital reminders that won’t let you forget your appointment 😂.\n",
    "\n",
    "---"
   ]
  },
  {
   "cell_type": "markdown",
   "id": "1353fe44",
   "metadata": {},
   "source": [
    "### Python Return Statements — Sometimes It’s About Getting the Answer Quietly 🤫\n",
    "\n",
    "You know what? We don’t always have to print something out loud for Python to work.\n",
    "\n",
    "Sometimes, Python likes to just process it internally and give us the answer *quietly*—like a smart lab technician working in the background. 🧑🏽‍🔬\n",
    "\n",
    "That’s where the **return statement** comes in.\n",
    "\n",
    "The return statement tells Python:\n",
    "👉🏽 \"Hey, keep this answer and send it back to me. I’ll use it later, no need to shout (print) about it now.\"\n",
    "\n",
    "---\n",
    "\n",
    "##### A Healthcare Example — Ovulation Temperature Check 🌡️\n",
    "\n",
    "Let’s say we want to write a function that calculates the temperature of a woman on her 14th day of her menstrual cycle.\n",
    "\n",
    "We know that ovulation often increases body temperature by about 1°C.\n",
    "\n",
    "So let’s write a function to do that!\n"
   ]
  },
  {
   "cell_type": "code",
   "execution_count": null,
   "id": "ca720444",
   "metadata": {},
   "outputs": [
    {
     "data": {
      "text/plain": [
       "38"
      ]
     },
     "execution_count": 103,
     "metadata": {},
     "output_type": "execute_result"
    }
   ],
   "source": [
    "# Function to calculate ovulation temperature\n",
    "\n",
    "def ovulating_temp(temp):\n",
    "    return temp + 1\n",
    "\n",
    "# Let’s test it:\n",
    "\n",
    "ovulating_temp(37)\n"
   ]
  },
  {
   "cell_type": "markdown",
   "id": "914f3479",
   "metadata": {},
   "source": [
    "But wait! Why didn’t anything print? 🤔\n",
    "\n",
    "Return ≠ Print 💡\n",
    "\n",
    "Print is like saying it out loud to everyone. Return is like passing the answer quietly to the next part of your code.\n",
    "\n",
    "Because we didn’t ask Python to *print* — we only told Python to *return* the answer.\n",
    "\n",
    "The return statement is like saying:\"Take the value from inside the function and send it back to me at the point where I called you.\"\n",
    "\n",
    "If you want to see the answer, you have to ask Python politely to show it: ```print(ovulating_temp(37))```\n",
    "\n",
    "Why Use Return?  Return is for when you want to keep the answer and use it later. It’s like when a doctor calculates a dosage but doesn’t announce it immediately — she just writes it in your file for the next step."
   ]
  },
  {
   "cell_type": "code",
   "execution_count": null,
   "id": "4bfa9d85",
   "metadata": {},
   "outputs": [
    {
     "name": "stdout",
     "output_type": "stream",
     "text": [
      "38\n"
     ]
    }
   ],
   "source": [
    "#You can even store the returned value inside another variable like this:\n",
    "\n",
    "patient_ovulation_temp = ovulating_temp(37)\n",
    "\n",
    "print(patient_ovulation_temp)\n"
   ]
  },
  {
   "cell_type": "markdown",
   "id": "c79ab49b",
   "metadata": {},
   "source": [
    "Real-Life Tip: You can return anything! Strings, numbers, lists, even another function’s result.\n",
    "\n",
    "---\n",
    "\n",
    "## Returning More Than One Thing — Python Can Multitask Too! 🧑🏽‍⚕️\n",
    "\n",
    "Did you know? You can actually **return multiple things** in Python — just separate them with commas.\n",
    "\n",
    "It’s like when a doctor checks both your blood pressure and your temperature at once. The results come back together!\n",
    "\n",
    "Let’s say we want a function that checks:\n",
    "- A patient’s ovulation temperature (original temperature + 1)\n",
    "- Whether the temperature is normal or shows a fever \n",
    "\n",
    "Let’s go!\n"
   ]
  },
  {
   "cell_type": "code",
   "execution_count": null,
   "id": "522f7d52",
   "metadata": {},
   "outputs": [
    {
     "name": "stdout",
     "output_type": "stream",
     "text": [
      "Calculated Ovulation Temperature: 38°C\n",
      "Status: Fever Alert 🚨\n"
     ]
    }
   ],
   "source": [
    "def ovulation_check(temp):\n",
    "    ovulation_temp = temp + 1\n",
    "    if ovulation_temp > 37.5:\n",
    "        status = \"Fever Alert 🚨\"\n",
    "    else:\n",
    "        status = \"Normal ✅\"\n",
    "    return ovulation_temp, status   #When I call ovulation_check, I get two answers back — the new temperature and the status.\"\n",
    "\n",
    "# Let’s call it:\n",
    "\n",
    "temp_result, temp_status = ovulation_check(37)    #I can save them in two variables like this:temp_result, temp_status = ovulation_check(37)\n",
    "\n",
    "print(f\"Calculated Ovulation Temperature: {temp_result}°C\")\n",
    "print(f\"Status: {temp_status}\")\n"
   ]
  },
  {
   "cell_type": "markdown",
   "id": "cd87f75b",
   "metadata": {},
   "source": [
    "### Real-Life Healthcare Example: BMI Calculator ⚖️\n",
    "Let’s say we want a function that:\n",
    "\n",
    "- Calculates BMI (Body Mass Index)\n",
    "- Tells if the patient is Underweight, Normal, or Overweight"
   ]
  },
  {
   "cell_type": "code",
   "execution_count": null,
   "id": "85d79deb",
   "metadata": {},
   "outputs": [
    {
     "name": "stdout",
     "output_type": "stream",
     "text": [
      "Patient’s BMI: 23.88\n",
      "Status: Normal weight\n"
     ]
    }
   ],
   "source": [
    "\n",
    "def calculate_bmi(weight, height):\n",
    "    bmi = weight / (height ** 2)\n",
    "\n",
    "    if bmi < 18.5:\n",
    "        status = \"Underweight\"\n",
    "    elif bmi < 25:\n",
    "        status = \"Normal weight\"\n",
    "    else:\n",
    "        status = \"Overweight\"\n",
    "\n",
    "    return bmi, status\n",
    "\n",
    "# Let’s try it:\n",
    "\n",
    "bmi_value, bmi_status = calculate_bmi(65, 1.65) #For each patient, calculate BMI and tell me their status — all in one go\n",
    "\n",
    "print(f\"Patient’s BMI: {bmi_value:.2f}\")\n",
    "print(f\"Status: {bmi_status}\")\n"
   ]
  },
  {
   "cell_type": "markdown",
   "id": "31120499",
   "metadata": {},
   "source": []
  },
  {
   "cell_type": "markdown",
   "id": "c0803ff1",
   "metadata": {},
   "source": [
    "### Mapping Diseases to Their Causes — Using Return Like a Pro 🦟🦠\n",
    "\n",
    "Let’s say we want to quickly know what causes what.\n",
    "\n",
    "We can write a function that tells us the vector or cause of a disease. Just type the disease, and Python will whisper the culprit to you.\n",
    "\n",
    "Let’s go! 🩺\n"
   ]
  },
  {
   "cell_type": "code",
   "execution_count": null,
   "id": "e244aa85",
   "metadata": {},
   "outputs": [
    {
     "name": "stdout",
     "output_type": "stream",
     "text": [
      "Malaria is caused by: mosquito 🦟\n",
      "Typhoid is caused by: salmonella bacteria 🦠\n",
      "Cholera is caused by: contaminated water 💧\n",
      "The cause of cancer is: Unknown vector ❓\n"
     ]
    }
   ],
   "source": [
    "def disease_vector(disease):\n",
    "    if disease.lower() == \"malaria\":\n",
    "        return \"mosquito 🦟\"\n",
    "    elif disease.lower() == \"typhoid\":\n",
    "        return \"salmonella bacteria 🦠\"\n",
    "    elif disease.lower() == \"covid\":\n",
    "        return \"coronavirus 🦠\"\n",
    "    elif disease.lower() == \"cholera\":\n",
    "        return \"contaminated water 💧\"\n",
    "    elif disease.lower() == \"tuberculosis\":\n",
    "        return \"mycobacterium 🧫\"\n",
    "    else:\n",
    "        return \"Unknown vector ❓\"\n",
    "\n",
    "# Let’s call it \n",
    "\n",
    "print(f\"Malaria is caused by: {disease_vector('malaria')}\")\n",
    "print(f\"Typhoid is caused by: {disease_vector('typhoid')}\")  #Read this as: \"For the disease I give Python, return the cause of that disease.\"\n",
    "print(f\"Cholera is caused by: {disease_vector('cholera')}\")\n",
    "print(f\"The cause of cancer is: {disease_vector('cancer')}\")   "
   ]
  },
  {
   "cell_type": "markdown",
   "id": "819a3772",
   "metadata": {},
   "source": [
    "This is so cool because:\n",
    "- The function is smart — it knows different diseases and their vectors.\n",
    "- It can handle both small letters and big letters because we used `.lower()`.\n",
    "- It has a backup plan — when it doesn’t know, it says \"Unknown vector ❓.\""
   ]
  },
  {
   "cell_type": "markdown",
   "id": "0fce054d",
   "metadata": {},
   "source": [
    "### An SDO Exercise: \n",
    "\n",
    "**Create a function named personal_info() that requires a dictionary, containing personal information about a person, to be passed in as a parameter. Use the dictionary below.**\n",
    "\n",
    "The function should neatly print out the details about the person. The output should look as follows:\n",
    "\n",
    "Name: Alan Mills\n",
    "Age: 47\n",
    "Children: ['Carrie', 'Sara', 'Ben']"
   ]
  },
  {
   "cell_type": "code",
   "execution_count": null,
   "id": "0f4fc22a",
   "metadata": {},
   "outputs": [
    {
     "name": "stdout",
     "output_type": "stream",
     "text": [
      "These are the information of our first patient for today: \n",
      "Name:Joy Okoro\n",
      "Age: 35\n",
      "Children: ['Paul', 'Peace']\n"
     ]
    }
   ],
   "source": [
    "\n",
    "dict_personal = {\n",
    "    \"patient1\": {\"Name\": \"Alan Mills\", \"Age\": 47, \"Children\": [\"Carrie\", \"Sara\", \"Ben\"]},\n",
    "    \"patient2\": {\"Name\": \"Joy Okoro\", \"Age\": 35, \"Children\": [\"Paul\", \"Peace\"]}\n",
    "}\n",
    "\n",
    "def personal_info(person):\n",
    "    return f\"\\nName:{person['Name']}\\nAge: {person['Age']}\\nChildren: {person['Children']}\"\n",
    "\n",
    "print(f\"These are the information of our first patient for today: {personal_info(dict_personal['patient2'])}\")"
   ]
  },
  {
   "cell_type": "code",
   "execution_count": null,
   "id": "00f0d3a6",
   "metadata": {},
   "outputs": [
    {
     "name": "stdout",
     "output_type": "stream",
     "text": [
      "\n",
      "Name:Alan Mills\n",
      "Age: 47\n",
      "Children: ['Carrie', 'Sara', 'Ben']\n",
      "\n",
      "Name:Joy Okoro\n",
      "Age: 35\n",
      "Children: ['Paul', 'Peace']\n"
     ]
    }
   ],
   "source": [
    "for key, values in dict_personal.items():\n",
    "    print(personal_info(values))"
   ]
  },
  {
   "cell_type": "markdown",
   "id": "998939b8",
   "metadata": {},
   "source": [
    "### Will you jump on this Quick Exercise? \n",
    "---\n",
    "1. Write a function that takes a patient’s pulse and returns:\n",
    "   - The pulse value.\n",
    "   - \"Normal Pulse\" if the pulse is less than 100 bpm.\n",
    "   - \"High Pulse Alert 🚨\" if the pulse is 100 bpm or more.\n",
    "\n",
    "2. Try to **return both answers** and print them out.\n",
    "\n",
    "3. Bonus: Write a function that calculates the medicine dosage based on patient weight and returns the dosage."
   ]
  },
  {
   "cell_type": "markdown",
   "id": "38b0ab63",
   "metadata": {},
   "source": [
    "## ¡Nos vemos pronto! \n",
    "\n",
    "Okay, this is me signing out (for now). I really hope you learnt a lot from this sweet journey through Python — I had so much fun making it playful and super practical just for you.\n",
    "\n",
    "Don't forget, you can always apply this in real-life health work, your projects, or just to flex at a hackathon. And hey — if you ever get stuck, confused, or hit a coding roadblock, don't panic! You can ```reach out to me``` — I'm just one DM away, frmo my [**bio**](https://github.com/AHUNAM). 💌\n",
    "\n",
    "\n",
    "Also, if you're looking to dive deeper into health data or precision medicine, ```you can apply to join Standard Data Ocean (SDO)```. We don’t gatekeep knowledge here. 😉\n",
    "\n",
    "**Pro Tip:**  For maximum experience, please open this on ```Jupyter Notebook```. The vibe hits differently there. Trust me. 🫶\n",
    "\n",
    "# ¡Cuídate mucho! \n",
    "# ¡Nos vemos pronto otra vez! 👋🙋‍♀️😴\n"
   ]
  }
 ],
 "metadata": {
  "kernelspec": {
   "display_name": "base",
   "language": "python",
   "name": "python3"
  },
  "language_info": {
   "codemirror_mode": {
    "name": "ipython",
    "version": 3
   },
   "file_extension": ".py",
   "mimetype": "text/x-python",
   "name": "python",
   "nbconvert_exporter": "python",
   "pygments_lexer": "ipython3",
   "version": "3.12.10"
  }
 },
 "nbformat": 4,
 "nbformat_minor": 5
}
