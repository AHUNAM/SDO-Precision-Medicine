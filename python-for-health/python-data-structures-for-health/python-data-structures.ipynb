{
 "cells": [
  {
   "cell_type": "markdown",
   "id": "bf623125",
   "metadata": {},
   "source": [
    "# ¡Buenas Tardes! 🕑🌤️"
   ]
  },
  {
   "cell_type": "markdown",
   "id": "f8818432",
   "metadata": {},
   "source": [
    "Guess what? I’ve grown!  \n",
    "\n",
    "*watch me demonstrate my understanding and practical experience in applying Python Data Structures (chill, i mean lists, tuples, if statements, dictionaries and sets 😅) to healthcare concepts - Inspired by my training at Standard Data Ocean.*"
   ]
  },
  {
   "cell_type": "markdown",
   "id": "270e9ab2",
   "metadata": {},
   "source": [
    "### Lists - shall we?\n",
    "\n",
    "You know zero (0) is a number right?\n",
    "\n",
    "Don't worry i got you!\n",
    "\n",
    "We will use this list of numbers: 0 1 2 3 4 5 6 7 8 9 10 to better understand concepts before diving fully\n",
    "\n",
    "Like i said before you know zero 0 is a number right? even if we both know that if you want to count the number of items in your marketcart u'd start counting from 1. Anyways, in python that's not the case, we always acknowledge zero 0, and give it it's rightful position as 1 (index 1). Meaning in the real word position 5 will take,  number ```5```, but what do you think position 5 will be in python? \n",
    "\n",
    "I know uve gotten it now!!! 🤭😀 \n",
    "\n",
    "positions are indexes, and python uses indexes to call an item from a list, taking an off-by-one error format.\n",
    "\n",
    "Meanwhile the answer above was number ```4```."
   ]
  },
  {
   "cell_type": "code",
   "execution_count": 53,
   "id": "02a99404",
   "metadata": {},
   "outputs": [
    {
     "data": {
      "text/plain": [
       "'Ginika'"
      ]
     },
     "execution_count": 53,
     "metadata": {},
     "output_type": "execute_result"
    }
   ],
   "source": [
    "# remember variables? yes, say you want to put different things inside one variable, like store a string, a number, variable, even another list etc, in on place. the list is for you.\n",
    "#a list will usually be a row in a table\n",
    "#use a comma , to separate items in a list and a [] square bracket to wrap them.\n",
    "# Python considers the first item in a list to be at position 0, not position 1. \n",
    "#Also if you want to call the items inside the list, use the [] with its index position, got it? lets go!\n",
    "ORG_NAME = \"Standard Data Ocean\"\n",
    "patient_data = [\"Ginika\", 15, 36.6, ORG_NAME]\n",
    "patient_data[0] # calling Ginika"
   ]
  },
  {
   "cell_type": "code",
   "execution_count": 54,
   "id": "43f042ef",
   "metadata": {},
   "outputs": [
    {
     "data": {
      "text/plain": [
       "'Standard Data Ocean'"
      ]
     },
     "execution_count": 54,
     "metadata": {},
     "output_type": "execute_result"
    }
   ],
   "source": [
    "patient_data[-1] #calling ORG_NAME, see the value was outputted?"
   ]
  },
  {
   "cell_type": "markdown",
   "id": "67fc4694",
   "metadata": {},
   "source": [
    "did you notice how we minused 1 for the desired item position we want? this is due to zero indexing. "
   ]
  },
  {
   "cell_type": "code",
   "execution_count": 55,
   "id": "c0a80e41",
   "metadata": {},
   "outputs": [
    {
     "data": {
      "text/plain": [
       "15"
      ]
     },
     "execution_count": 55,
     "metadata": {},
     "output_type": "execute_result"
    }
   ],
   "source": [
    "patient_data[1]"
   ]
  },
  {
   "cell_type": "code",
   "execution_count": 56,
   "id": "676bbda5",
   "metadata": {},
   "outputs": [
    {
     "name": "stdout",
     "output_type": "stream",
     "text": [
      "this is the patient's data: ['Ginika', 15, 36.6, 'Standard Data Ocean']\n"
     ]
    }
   ],
   "source": [
    "#let's try this\n",
    "print(f\"this is the patient's data: {patient_data}\")"
   ]
  },
  {
   "cell_type": "code",
   "execution_count": 57,
   "id": "6c3ada7e",
   "metadata": {},
   "outputs": [
    {
     "name": "stdout",
     "output_type": "stream",
     "text": [
      "The patient is registered at: Standard Data Ocean\n"
     ]
    }
   ],
   "source": [
    "#or this\n",
    "print(f\"The patient is registered at: {patient_data[-1]}\")"
   ]
  },
  {
   "cell_type": "markdown",
   "id": "ec84e5dd",
   "metadata": {},
   "source": [
    "Can We Alter an Item in a List? \n",
    "- Modifying lists"
   ]
  },
  {
   "cell_type": "code",
   "execution_count": 58,
   "id": "893db9ab",
   "metadata": {},
   "outputs": [
    {
     "name": "stdout",
     "output_type": "stream",
     "text": [
      "Ginika\n"
     ]
    }
   ],
   "source": [
    "#say we want to label this list and then change an item within the list\n",
    "#patient_data = [\"Ginika\", 15, 36.6, ORG_NAME]\n",
    "[name, age, temperature, organisation_name] = patient_data\n",
    "print(name)"
   ]
  },
  {
   "cell_type": "markdown",
   "id": "2b63fedd",
   "metadata": {},
   "source": [
    "*To modify an element in a list, we use square brackets with index notation and set it equal to a desired value. For example, to modify the first, third item in patient_data, we would set index position 0 and 2 to the respective new values.*"
   ]
  },
  {
   "cell_type": "code",
   "execution_count": 59,
   "id": "858dfde8",
   "metadata": {},
   "outputs": [
    {
     "name": "stdout",
     "output_type": "stream",
     "text": [
      "['Chidinma', 15, 36.6, 'Standard Data Ocean']\n"
     ]
    }
   ],
   "source": [
    "#change Ginika to Chidinma\n",
    "patient_data[0]=\"Chidinma\"\n",
    "print(patient_data)"
   ]
  },
  {
   "cell_type": "code",
   "execution_count": 60,
   "id": "def953ce",
   "metadata": {},
   "outputs": [
    {
     "name": "stdout",
     "output_type": "stream",
     "text": [
      "['Chidinma', 15, 37, 'Standard Data Ocean']\n"
     ]
    }
   ],
   "source": [
    "#so chidinma's temperature changed to 37, can we change and show this on the list?\n",
    "patient_data[2]=37\n",
    "print(patient_data)"
   ]
  },
  {
   "cell_type": "markdown",
   "id": "b49a0bdf",
   "metadata": {},
   "source": [
    "Append : ```.append()```\n",
    "- The simplest way to add a new element to a list is to use the append() method. When you append an item to a list, the new element is added to the end of the list. For example, each time you run the append method below, another 5 will be added to the end of the list."
   ]
  },
  {
   "cell_type": "code",
   "execution_count": 61,
   "id": "989bc641",
   "metadata": {},
   "outputs": [
    {
     "name": "stdout",
     "output_type": "stream",
     "text": [
      "['Chidinma', 15, 37, 'Standard Data Ocean', 'Lagos, Nigeria']\n"
     ]
    }
   ],
   "source": [
    "# used to add an item to a list\n",
    "# append only takes in one arguement, meaning you cannot have upto 2 arguements in the parenthesis\n",
    "patient_data.append(\"Lagos, Nigeria\")\n",
    "print (patient_data)"
   ]
  },
  {
   "cell_type": "code",
   "execution_count": 62,
   "id": "16fa026e",
   "metadata": {},
   "outputs": [
    {
     "name": "stdout",
     "output_type": "stream",
     "text": [
      "['Chidinma', 15, 37, 'Standard Data Ocean', 'Lagos, Nigeria', 161]\n"
     ]
    }
   ],
   "source": [
    "patient_data.append(161)\n",
    "print(patient_data)"
   ]
  },
  {
   "cell_type": "markdown",
   "id": "e0644510",
   "metadata": {},
   "source": [
    "Length : ```len()```\n",
    "\n",
    "- we can also find the length, count of variables/elements within a list, or the count of characters within an item"
   ]
  },
  {
   "cell_type": "code",
   "execution_count": 63,
   "id": "65e5ef79",
   "metadata": {},
   "outputs": [
    {
     "data": {
      "text/plain": [
       "6"
      ]
     },
     "execution_count": 63,
     "metadata": {},
     "output_type": "execute_result"
    }
   ],
   "source": [
    "# length of a list\n",
    "len(patient_data)"
   ]
  },
  {
   "cell_type": "code",
   "execution_count": 64,
   "id": "75cdf1f5",
   "metadata": {},
   "outputs": [
    {
     "data": {
      "text/plain": [
       "19"
      ]
     },
     "execution_count": 64,
     "metadata": {},
     "output_type": "execute_result"
    }
   ],
   "source": [
    "# length of the element in index 3\n",
    "len(patient_data[3])"
   ]
  },
  {
   "cell_type": "markdown",
   "id": "0cddf793",
   "metadata": {},
   "source": [
    "Delete : ```del```\n",
    "- how about  deleting an item from a list?\n",
    "- the del function is used for deletion in python\n",
    "\n",
    "*if you run del function more than once, the action is repeated again the number of times it was run*"
   ]
  },
  {
   "cell_type": "code",
   "execution_count": 65,
   "id": "1c57fb8a",
   "metadata": {},
   "outputs": [
    {
     "name": "stdout",
     "output_type": "stream",
     "text": [
      "['Chidinma', 15, 37, 'Standard Data Ocean', 'Lagos, Nigeria', 161]\n",
      "['Chidinma', 37, 'Standard Data Ocean', 'Lagos, Nigeria', 161]\n"
     ]
    }
   ],
   "source": [
    "#lets's delete 15 from the list, shall we?\n",
    "\n",
    "print(patient_data)\n",
    "del patient_data[1]\n",
    "print(patient_data)"
   ]
  },
  {
   "cell_type": "code",
   "execution_count": 66,
   "id": "ecd20deb",
   "metadata": {},
   "outputs": [
    {
     "name": "stdout",
     "output_type": "stream",
     "text": [
      "['Chidinma', 'Standard Data Ocean', 'Lagos, Nigeria', 161]\n"
     ]
    }
   ],
   "source": [
    "# run this, and note what happens\n",
    "del patient_data[1]\n",
    "print(patient_data)\n",
    "\n",
    "#did you notice another deletion?,just like we said before, if you run del function more than once, the action is repeated again the number of times it was run"
   ]
  },
  {
   "cell_type": "markdown",
   "id": "159c7622",
   "metadata": {},
   "source": [
    "Do you know that you can combine 2 lists?\n",
    "\n",
    "List Concatenation\n",
    "\n",
    "- You can merge 2 lists together by concatenating them\n",
    "- use the + sign for this\n",
    "\n",
    "*concatenation means combination or bring together*"
   ]
  },
  {
   "cell_type": "code",
   "execution_count": 67,
   "id": "2b8a8414",
   "metadata": {},
   "outputs": [
    {
     "name": "stdout",
     "output_type": "stream",
     "text": [
      "['Chidinma', 'Standard Data Ocean', 'Lagos, Nigeria', 161, 'Ikechukwu', 50, 'Oil & Gas', 'Portharcourt, Rivers']\n"
     ]
    }
   ],
   "source": [
    "# we can update the patient-data by adding more information from the new patient-bio list\n",
    "\n",
    "#new list\n",
    "patient_bio = [\"Ikechukwu\", 50, \"Oil & Gas\", \"Portharcourt, Rivers\"]\n",
    "[spouse_name, spouse_age, spouse_occupation, spouse_location] = patient_bio\n",
    "\n",
    "#concatenation\n",
    "patient_data = patient_data + patient_bio\n",
    "print (patient_data)"
   ]
  },
  {
   "cell_type": "markdown",
   "id": "67de13eb",
   "metadata": {},
   "source": [
    "Heard of \"List Slicing?\"\n",
    "\n",
    "Well let's go back to Understanding Indexing"
   ]
  },
  {
   "cell_type": "code",
   "execution_count": 68,
   "id": "e220b8a7",
   "metadata": {},
   "outputs": [
    {
     "name": "stdout",
     "output_type": "stream",
     "text": [
      "Ikechukwu\n",
      "Portharcourt, Rivers\n"
     ]
    }
   ],
   "source": [
    "# say you want to return list info, based on different need levels\n",
    "\n",
    "#1 return return the first item\n",
    "print(patient_bio[0])\n",
    "\n",
    "#2 return the eight item from patient data\n",
    "print(patient_data[7])\n"
   ]
  },
  {
   "cell_type": "markdown",
   "id": "052fbddd",
   "metadata": {},
   "source": [
    "So what is Slicing? How do we better understand it in a way that it isn't so confusing?\n",
    "\n",
    "*Oh yes! this is what it is, it is deciding where we want python to start calling the items of a list from? and where we want it to end it? Yes using colon (:) as the separator.*\n",
    "\n",
    "- Indexes are always read as \"for this result give me that list in this manner: start counting from the index i mentioned first but dont count the index i mentioned last\"\n",
    "- ```any last position indicated must be excluded and any first position indicated must be included...``` and ```:``` indicates all positions... so let's go!"
   ]
  },
  {
   "cell_type": "code",
   "execution_count": 69,
   "id": "502bfe59",
   "metadata": {},
   "outputs": [
    {
     "name": "stdout",
     "output_type": "stream",
     "text": [
      "[0, 1, 2, 3, 4, 5, 6, 7, 8, 9, 10]\n"
     ]
    }
   ],
   "source": [
    "#3 using semicolons to separate the start and end of a list\n",
    "# : indicates everything / the index zero position\n",
    "\n",
    "number_list = [0,1,2,3,4,5,6,7,8,9,10]\n",
    "\n",
    "print(number_list[:]) #prints everything, still can be printed without the [] brackets\n"
   ]
  },
  {
   "cell_type": "code",
   "execution_count": 70,
   "id": "74a67160",
   "metadata": {},
   "outputs": [
    {
     "name": "stdout",
     "output_type": "stream",
     "text": [
      "[0, 1]\n",
      "[2, 3, 4, 5, 6, 7, 8, 9, 10]\n",
      "[10]\n",
      "[0, 1, 2, 3, 4, 5, 6, 7, 8, 9]\n",
      "['Chidinma', 'Standard Data Ocean', 'Lagos, Nigeria', 161]\n",
      "['Ikechukwu', 50, 'Oil & Gas', 'Portharcourt, Rivers']\n"
     ]
    }
   ],
   "source": [
    "print(number_list[:2]) # prints everything in front of index 2 (position 2)\n",
    "print(number_list[2:]) # prints everything from index 2 (position 2)\n",
    "print(number_list[-1:])# prints everything from from index -1\n",
    "print(number_list[:-1])# prints everything in front of index -1\n",
    "print(patient_data[:4])# prints everything in front of index 4\n",
    "print(patient_data[4:])#prints everything from the 4th index to the end"
   ]
  },
  {
   "cell_type": "code",
   "execution_count": 71,
   "id": "4384218e",
   "metadata": {},
   "outputs": [
    {
     "name": "stdout",
     "output_type": "stream",
     "text": [
      "[5, 6, 7, 8, 9, 10]\n"
     ]
    }
   ],
   "source": [
    "print(number_list[5:11]) #prints from the sixth position to the 10th position"
   ]
  },
  {
   "cell_type": "markdown",
   "id": "a408b897",
   "metadata": {},
   "source": [
    "Step-size Listing\n",
    "\n",
    "- so what if we want to print items from a list in a particular kind of sequence or pattern or steps\n",
    "- this is done by adding a third index indicator to the slice, this third index indicator will be indicating the steps not the position, we can represent it as this ```x = [a:b:c]``` \n",
    "\n",
    "*```a``` is the start of the slice*\n",
    "*```b``` is the end of the slice*\n",
    "*```c``` is the step size*"
   ]
  },
  {
   "cell_type": "code",
   "execution_count": 72,
   "id": "39a085a2",
   "metadata": {},
   "outputs": [
    {
     "name": "stdout",
     "output_type": "stream",
     "text": [
      "['Chidinma', 'Standard Data Ocean', 'Lagos, Nigeria', 161, 'Ikechukwu', 50, 'Oil & Gas', 'Portharcourt, Rivers']\n",
      "\n",
      "\n",
      "[161, 50, 'Portharcourt, Rivers']\n"
     ]
    }
   ],
   "source": [
    "# print patient data in the sequence of 2 intervals/steps, starting from the 3rd index to the 7th index\n",
    "\n",
    "#before\n",
    "print(patient_data)\n",
    "\n",
    "#new line \n",
    "print(\"\\n\")\n",
    "\n",
    "#after\n",
    "print(patient_data[3:8:2])\n"
   ]
  },
  {
   "cell_type": "code",
   "execution_count": 73,
   "id": "475e939d",
   "metadata": {},
   "outputs": [
    {
     "name": "stdout",
     "output_type": "stream",
     "text": [
      "['Alan Mills', 'Chioma Eze', 'Peter Obi', 'Linda Brown', 'Ahmed Sule', 'Rachel Green', 'John Doe']\n"
     ]
    }
   ],
   "source": [
    "#let create a stratified sampling method of patients using a list with their patient names\n",
    "#we will choose participants for the research using 3 count interval stratification method\n",
    "patient_names = [\n",
    "    \"Alan Mills\",\n",
    "    \"Sandra Okoro\",\n",
    "    \"David Johnson\",\n",
    "    \"Chioma Eze\",\n",
    "    \"Michael Smith\",\n",
    "    \"Fatima Bello\",\n",
    "    \"Peter Obi\",\n",
    "    \"Grace Thompson\",\n",
    "    \"Musa Ibrahim\",\n",
    "    \"Linda Brown\",\n",
    "    \"Emeka Uche\",\n",
    "    \"Jennifer Adams\",\n",
    "    \"Ahmed Sule\",\n",
    "    \"Sophia Williams\",\n",
    "    \"Chinedu Nwachukwu\",\n",
    "    \"Rachel Green\",\n",
    "    \"Kelvin Adeyemi\",\n",
    "    \"Ifeoma Nwosu\",\n",
    "    \"John Doe\",\n",
    "    \"Amina Yusuf\"\n",
    "]\n",
    "\n",
    "print(patient_names[:21:3]) #print everything in front of index 21 in the intervals or steps of 3"
   ]
  },
  {
   "cell_type": "code",
   "execution_count": 74,
   "id": "33ddf782",
   "metadata": {},
   "outputs": [
    {
     "name": "stdout",
     "output_type": "stream",
     "text": [
      "['Alan Mills', 'David Johnson', 'Michael Smith', 'Peter Obi', 'Musa Ibrahim', 'Emeka Uche', 'Ahmed Sule', 'Chinedu Nwachukwu', 'Kelvin Adeyemi', 'John Doe']\n"
     ]
    }
   ],
   "source": [
    "print(patient_names[::2]) # returns every other item in the list, from beginning to end, in the intervals or step of 2"
   ]
  },
  {
   "cell_type": "code",
   "execution_count": 75,
   "id": "57c23f92",
   "metadata": {},
   "outputs": [
    {
     "name": "stdout",
     "output_type": "stream",
     "text": [
      "['Amina Yusuf', 'John Doe', 'Ifeoma Nwosu', 'Kelvin Adeyemi', 'Rachel Green', 'Chinedu Nwachukwu', 'Sophia Williams', 'Ahmed Sule', 'Jennifer Adams', 'Emeka Uche', 'Linda Brown', 'Musa Ibrahim', 'Grace Thompson', 'Peter Obi', 'Fatima Bello', 'Michael Smith', 'Chioma Eze', 'David Johnson', 'Sandra Okoro', 'Alan Mills']\n"
     ]
    }
   ],
   "source": [
    "#returns every item in a list, starting from the end, say in a reversed way.\n",
    "print(patient_names[::-1])"
   ]
  },
  {
   "cell_type": "code",
   "execution_count": 76,
   "id": "fd63f0e7",
   "metadata": {},
   "outputs": [
    {
     "name": "stdout",
     "output_type": "stream",
     "text": [
      "['Amina Yusuf', 'Ifeoma Nwosu', 'Rachel Green']\n",
      "['Alan Mills', 'David Johnson', 'Michael Smith', 'Peter Obi', 'Musa Ibrahim', 'Emeka Uche', 'Ahmed Sule']\n"
     ]
    }
   ],
   "source": [
    "#print everything infront of the negative 6th index with a reverse step size\n",
    "print(patient_names[:-6:-2])\n",
    "\n",
    "print(patient_names[:-6:2])"
   ]
  },
  {
   "cell_type": "markdown",
   "id": "c2ccff60",
   "metadata": {},
   "source": [
    "The Main Conditionals\n",
    "\n",
    "- Loops\n",
    " Used when you want to perform a particular task for a given number of times (repetitively)\n",
    "\n",
    "*# Say we want to write a script that calls each patient to the GOPD for booking with the list we have and they are told to \"Please come on board for your GOPD booking\" - how do we do this?*\n",
    "\n",
    "- ```for``` loops"
   ]
  },
  {
   "cell_type": "code",
   "execution_count": 77,
   "id": "c9fcc150",
   "metadata": {},
   "outputs": [
    {
     "name": "stdout",
     "output_type": "stream",
     "text": [
      "Please come on board for your GOPD booking\n",
      "Please come on board for your GOPD booking\n",
      "Please come on board for your GOPD booking\n",
      "Please come on board for your GOPD booking\n",
      "Please come on board for your GOPD booking\n",
      "Please come on board for your GOPD booking\n",
      "Please come on board for your GOPD booking\n",
      "Please come on board for your GOPD booking\n",
      "Please come on board for your GOPD booking\n",
      "Please come on board for your GOPD booking\n",
      "Please come on board for your GOPD booking\n",
      "Please come on board for your GOPD booking\n",
      "Please come on board for your GOPD booking\n",
      "Please come on board for your GOPD booking\n",
      "Please come on board for your GOPD booking\n",
      "Please come on board for your GOPD booking\n",
      "Please come on board for your GOPD booking\n",
      "Please come on board for your GOPD booking\n",
      "Please come on board for your GOPD booking\n",
      "Please come on board for your GOPD booking\n"
     ]
    }
   ],
   "source": [
    "# Using for loops\n",
    "\n",
    "for item in patient_names:\n",
    "    print(\"Please come on board for your GOPD booking\")\n",
    "\n",
    "# the statement above reads as for each item in patient_names list print \"Please come on board for your GOPD booking\""
   ]
  },
  {
   "cell_type": "markdown",
   "id": "7be1275a",
   "metadata": {},
   "source": [
    "WOW! it's obvious the code above didn't give us what we wanted. We wanted to be able to call the patient's name before we give them the order. Instead it just printed the directives. How do we make sure it calls their names first before telling them what to do?"
   ]
  },
  {
   "cell_type": "code",
   "execution_count": 78,
   "id": "e58d7772",
   "metadata": {},
   "outputs": [
    {
     "name": "stdout",
     "output_type": "stream",
     "text": [
      "Alan Mills, Please come on board for your GOPD booking\n",
      "Sandra Okoro, Please come on board for your GOPD booking\n",
      "David Johnson, Please come on board for your GOPD booking\n",
      "Chioma Eze, Please come on board for your GOPD booking\n",
      "Michael Smith, Please come on board for your GOPD booking\n",
      "Fatima Bello, Please come on board for your GOPD booking\n"
     ]
    }
   ],
   "source": [
    "for item in patient_names[:6]: #item is just a placeholder for anything you want to \n",
    "    print(item + \", Please come on board for your GOPD booking\")\n",
    "\n",
    "    #the for loop reads, for every item in patient_name list print the item plus the sentence please come on board for your GOPD booking."
   ]
  },
  {
   "cell_type": "code",
   "execution_count": 79,
   "id": "cffdb0de",
   "metadata": {},
   "outputs": [
    {
     "name": "stdout",
     "output_type": "stream",
     "text": [
      "where are you? Mr. Alan Mills, Can you hear me Mr. Alan Mills?\n",
      "where are you? Mr. Sandra Okoro, Can you hear me Mr. Sandra Okoro?\n",
      "where are you? Mr. David Johnson, Can you hear me Mr. David Johnson?\n",
      "where are you? Mr. Chioma Eze, Can you hear me Mr. Chioma Eze?\n",
      "where are you? Mr. Michael Smith, Can you hear me Mr. Michael Smith?\n",
      "where are you? Mr. Fatima Bello, Can you hear me Mr. Fatima Bello?\n"
     ]
    }
   ],
   "source": [
    "# you can choose any name you want for the temporary variable that will be associated with each value in the list.\n",
    "\n",
    "for name in patient_names[:6]:\n",
    "    print(\"where are you? Mr. \" + name + \", Can you hear me Mr. \" + name + \"?\")\n",
    "\n",
    "    #this reads for every name in patient_name list, print th sentnece \"where are you? Mr X, Can you hear me Mr. X?\""
   ]
  },
  {
   "cell_type": "markdown",
   "id": "5d31e075",
   "metadata": {},
   "source": [
    "Notice we have an issue, on the call above? Obviously the women above are addressed Mr. because thats the output of our code. Can we change this?\n",
    "\n",
    "### Yes we can!!!\n",
    "\n",
    "We can modify the call above to our needed format with conditionals, in if statements and list comprehensions. But let's hold on on that first."
   ]
  },
  {
   "cell_type": "markdown",
   "id": "445dba47",
   "metadata": {},
   "source": [
    "*Let's be innovative with the ```for loops```, can we?*\n",
    "\n",
    "For loops with Print Formats\n",
    "- We can also modify our for loops using print formats"
   ]
  },
  {
   "cell_type": "code",
   "execution_count": 80,
   "id": "8066af50",
   "metadata": {},
   "outputs": [
    {
     "name": "stdout",
     "output_type": "stream",
     "text": [
      "['Ikechukwu', 50, 'Oil & Gas', 'Portharcourt, Rivers']\n"
     ]
    }
   ],
   "source": [
    "#Recall\n",
    "# patient_bio = [\"Ikechukwu\", 50, \"Oil & Gas\", \"Portharcourt, Rivers\"]\n",
    "# [spouse_name, spouse_age, spouse_occupation, spouse_location] = patient_bio \n",
    "print (patient_bio)"
   ]
  },
  {
   "cell_type": "code",
   "execution_count": 81,
   "id": "c6b59db7",
   "metadata": {},
   "outputs": [
    {
     "name": "stdout",
     "output_type": "stream",
     "text": [
      "The patient's name is Ikechukwu. He is 50 years of age, and works in Oil & Gas\n",
      "The patient's name is Ikechukwu. He is 50 years of age, and works in Oil & Gas\n",
      "The patient's name is Ikechukwu. He is 50 years of age, and works in Oil & Gas\n",
      "The patient's name is Ikechukwu. He is 50 years of age, and works in Oil & Gas\n"
     ]
    }
   ],
   "source": [
    "for element in patient_bio:\n",
    "    print(\"The patient's name is {}. He is {} years of age, and works in {}\".format(spouse_name, spouse_age, spouse_occupation))"
   ]
  },
  {
   "cell_type": "code",
   "execution_count": 82,
   "id": "67ce3485",
   "metadata": {},
   "outputs": [
    {
     "name": "stdout",
     "output_type": "stream",
     "text": [
      "The patient's name is Ikechukwu. He is 50 years of age, and works in Oil & Gas\n",
      "The patient's name is Ikechukwu. He is 50 years of age, and works in Oil & Gas\n",
      "The patient's name is Ikechukwu. He is 50 years of age, and works in Oil & Gas\n",
      "The patient's name is Ikechukwu. He is 50 years of age, and works in Oil & Gas\n"
     ]
    }
   ],
   "source": [
    "#we can also work with th f string formatting method\n",
    "for element in patient_bio:\n",
    "    print(f\"The patient's name is {spouse_name}. He is {spouse_age} years of age, and works in {spouse_occupation}\")"
   ]
  },
  {
   "cell_type": "markdown",
   "id": "dfe0f85a",
   "metadata": {},
   "source": [
    "For Loops & Ranges ```range()```\n",
    "- We can also repeat tasks in based on a stipulated number or interval within a range, be it returning a list of numbers, strings etc.\n",
    "\n",
    "it's safe to say that the range() function in Python generates a list of numbers or the number of items an item could be called.\n"
   ]
  },
  {
   "cell_type": "markdown",
   "id": "115d8aa1",
   "metadata": {},
   "source": []
  },
  {
   "cell_type": "code",
   "execution_count": 83,
   "id": "e50c0436",
   "metadata": {},
   "outputs": [
    {
     "name": "stdout",
     "output_type": "stream",
     "text": [
      "0\n",
      "1\n",
      "2\n",
      "3\n",
      "4\n",
      "5\n",
      "6\n",
      "7\n",
      "8\n",
      "9\n"
     ]
    }
   ],
   "source": [
    "#Recall our number lists? number_list = [0,1,2,3,4,5,6,7,8,9,10], you can see that the range of numbers within the list is between 0 t0 10. But when using ranges, you do not bother about the list itself. range() is enough to ive you the desired output.\n",
    "\n",
    "for numbers in range(10):\n",
    "    print (numbers)"
   ]
  },
  {
   "cell_type": "code",
   "execution_count": 84,
   "id": "528b9126",
   "metadata": {},
   "outputs": [
    {
     "name": "stdout",
     "output_type": "stream",
     "text": [
      "6\n",
      "7\n",
      "8\n",
      "9\n"
     ]
    }
   ],
   "source": [
    "#range can also be written in the slicing formats, just like tuples, the differrence here is that u would be using comma , instead of colon :.\n",
    "#in loops, just like indexes, the last number is always excluded.\n",
    "\n",
    "for numbers in range(6,10):\n",
    "    print(numbers)"
   ]
  },
  {
   "cell_type": "code",
   "execution_count": 85,
   "id": "f7cf1553",
   "metadata": {},
   "outputs": [
    {
     "name": "stdout",
     "output_type": "stream",
     "text": [
      "Welocme to the SDO Precision Medicine Training\n",
      "Welocme to the SDO Precision Medicine Training\n",
      "Welocme to the SDO Precision Medicine Training\n"
     ]
    }
   ],
   "source": [
    "#for loops with range can also return elements, say a string with the number of times or counts the range describes.\n",
    "\n",
    "for numbers in range(2, 5):\n",
    "    print(\"Welocme to the SDO Precision Medicine Training\")"
   ]
  },
  {
   "cell_type": "code",
   "execution_count": 86,
   "id": "1783a5f3",
   "metadata": {},
   "outputs": [
    {
     "name": "stdout",
     "output_type": "stream",
     "text": [
      "Chidinma\n",
      "Chidinma\n",
      "Chidinma\n",
      "Chidinma\n",
      "Chidinma\n"
     ]
    }
   ],
   "source": [
    "#Some exercise for you 🤭: Use a for loop and the range() function to print out your name 5 times.\n",
    "\n",
    "for name in range(5):\n",
    "    print(\"Chidinma\")"
   ]
  },
  {
   "cell_type": "markdown",
   "id": "fb7d1f4d",
   "metadata": {},
   "source": [
    "List Compreheeeennnsions!\n",
    "\n",
    "Yes we finally arrived here!!\n",
    "\n",
    "Remember when i said we can, we've gotten here!!!\n",
    "\n",
    "- A list comprehension is a list that is created based upon an existing list. You loop through the existing list and, optionally, perform some operation on each successive value before adding that value to the new list."
   ]
  },
  {
   "cell_type": "code",
   "execution_count": 87,
   "id": "d7487b13",
   "metadata": {},
   "outputs": [
    {
     "name": "stdout",
     "output_type": "stream",
     "text": [
      "['Ikechukwu', 50, 'Oil & Gas', 'Portharcourt, Rivers']\n"
     ]
    }
   ],
   "source": [
    "#for example you can use a old list to create a new list, and then put an expression or condition within it.\n",
    "\n",
    "# let us use this list\n",
    "\n",
    "print(patient_bio)\n"
   ]
  },
  {
   "cell_type": "code",
   "execution_count": null,
   "id": "bba71832",
   "metadata": {},
   "outputs": [
    {
     "name": "stdout",
     "output_type": "stream",
     "text": [
      "['Ikechukwu scents', '50 scents', 'Oil & Gas scents', 'Portharcourt, Rivers scents']\n"
     ]
    }
   ],
   "source": [
    "# List comprehension with for loop\n",
    "patient_bio = ['Ikechukwu', 50, 'Oil & Gas', 'Portharcourt, Rivers']\n",
    "about_ikechukwu = [str(about) + ' scents' for about in patient_bio]  #we added str to force 50 into a string, if not it will thhrow an error because concatenaation can not be done on inteers and strings.\n",
    "print(about_ikechukwu)\n",
    "\n",
    "# the expression in the second line reads as \"for each item in patient_bio, add the word \" scents\" to it, then save it as about_ikechukwu\""
   ]
  },
  {
   "cell_type": "code",
   "execution_count": 92,
   "id": "c3da59a8",
   "metadata": {},
   "outputs": [
    {
     "name": "stdout",
     "output_type": "stream",
     "text": [
      "['Hello Tim', 'Hello Kim', 'Hello Bill', 'Hello Jill']\n"
     ]
    }
   ],
   "source": [
    "# Lets do some execrise again 😀: \n",
    "# Use a list comprehension, based upon the following list, to concatenate \"Hello \" to each name before adding it to the new list being constructed. Print the new list.\n",
    "names = [\"Tim\", \"Kim\", \"Bill\", \"Jill\"]\n",
    "name_conc = [\"Hello \" + name for name in names]\n",
    "print(name_conc)\n"
   ]
  },
  {
   "cell_type": "markdown",
   "id": "47bcc167",
   "metadata": {},
   "source": [
    "Do you know we can also use Lisct comprehensions with if statements? to sole that our problem we experienced earlier?\n",
    "    \n",
    "    Anyways what are If statements? 🤔"
   ]
  },
  {
   "cell_type": "markdown",
   "id": "37464dbb",
   "metadata": {},
   "source": [
    "### if statements \n",
    "\n",
    "- used when you want to write an expression that has to be validated based on certain conditions, for example if you want to know if a patient has a high body tmperatur or not\n",
    "\n",
    "Recall boolean operators? True, False?\n",
    "\n",
    "- if statements are written with boolean operators \n",
    "\n",
    "*Python uses the values True and False to decide whether the code in an if statement should be executed.*\n",
    "*If a conditional test evaluates to True, Python executes the indented code block following the if statement.* \n",
    "*If the test evaluates to False, Python ignores the code following the if statement.*\n",
    "\n",
    "if statements can be in 3 steps if conditions are not met, this is the sample code\n",
    "if <condition>:\n",
    "    block of code\n",
    "elif <condition>:\n",
    "    block of code\n",
    "else:\n",
    "    block of code\n",
    "\n",
    "```if``` introduces the block of codes for the condition, if the condition is false or not satisfied ```elif``` is used to introduce the next condition deemed to be true, and then the ```else``` for the last condition."
   ]
  },
  {
   "cell_type": "code",
   "execution_count": null,
   "id": "797c0f47",
   "metadata": {},
   "outputs": [
    {
     "name": "stdout",
     "output_type": "stream",
     "text": [
      "['Chidinma', 'Standard Data Ocean', 'Lagos, Nigeria', 161, 'Ikechukwu', 50, 'Oil & Gas', 'Portharcourt, Rivers']\n"
     ]
    }
   ],
   "source": [
    "#Multiple if statements\n",
    "print (patient_data)\n",
    "[name, age, temperature, organisation_name] = patient_data"
   ]
  },
  {
   "cell_type": "code",
   "execution_count": 109,
   "id": "00142a6d",
   "metadata": {},
   "outputs": [
    {
     "name": "stdout",
     "output_type": "stream",
     "text": [
      "she's a patient\n"
     ]
    }
   ],
   "source": [
    "[name, age, temperature, organisation_name, spouse_name, spouse_age, spouse_occupation, spouse_location] = patient_data\n",
    "patient_data = ['Chidinma', 'Standard Data Ocean', 'Lagos, Nigeria', 161, 'Ikechukwu', 50, 'Oil & Gas', 'Portharcourt, Rivers']\n",
    "if name == \"Chidinma\":\n",
    "    print(\"she's a patient\")\n",
    "else:\n",
    "    print(\"not a patient\")"
   ]
  }
 ],
 "metadata": {
  "kernelspec": {
   "display_name": "base",
   "language": "python",
   "name": "python3"
  },
  "language_info": {
   "codemirror_mode": {
    "name": "ipython",
    "version": 3
   },
   "file_extension": ".py",
   "mimetype": "text/x-python",
   "name": "python",
   "nbconvert_exporter": "python",
   "pygments_lexer": "ipython3",
   "version": "3.12.10"
  }
 },
 "nbformat": 4,
 "nbformat_minor": 5
}
