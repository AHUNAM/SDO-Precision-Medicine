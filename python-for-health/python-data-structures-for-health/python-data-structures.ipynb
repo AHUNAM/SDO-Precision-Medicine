{
 "cells": [
  {
   "cell_type": "markdown",
   "id": "bf623125",
   "metadata": {},
   "source": [
    "# ¡Buenas Tardes! 🕑🌤️"
   ]
  },
  {
   "cell_type": "markdown",
   "id": "f8818432",
   "metadata": {},
   "source": [
    "Guess what? I’ve grown!  \n",
    "\n",
    "*Come, come — let me show you how far I’ve come! This is me learning and applying Python Data Structures (chill, I mean Lists, Tuples, If Statements, Dictionaries, and Sets 😅) to healthcare — Inspired by my training at Standard Data Ocean.*\n",
    "\n"
   ]
  },
  {
   "cell_type": "markdown",
   "id": "270e9ab2",
   "metadata": {},
   "source": [
    "### Lists - shall we?\n",
    "\n",
    "You know zero (0) is a number right?\n",
    "\n",
    "Don't worry i got you!\n",
    "\n",
    "We will use this list of numbers: 0 1 2 3 4 5 6 7 8 9 10 to better understand concepts before diving fully\n",
    "\n",
    "Like I said — you know zero is a number, right? But in real life, when you’re counting the number of items in your market cart, you’d start counting from 1. Well, in python that's not the case, we always acknowledge zero 0. Zero is a star here.\n",
    "\n",
    "In Python, we always start counting from zero (index 0).\n",
    "\n",
    "So let’s imagine: in real life, position 5 will hold the number ```5```, but what do you think position 5 will hold in Python?\n",
    "\n",
    "(Whispers… It’s number ```4```. Got it now? 😏)"
   ]
  },
  {
   "cell_type": "markdown",
   "id": "481eb866",
   "metadata": {},
   "source": [
    "#### What is a List? 🤔"
   ]
  },
  {
   "cell_type": "code",
   "execution_count": 1401,
   "id": "02a99404",
   "metadata": {},
   "outputs": [
    {
     "data": {
      "text/plain": [
       "'Ginika'"
      ]
     },
     "execution_count": 1401,
     "metadata": {},
     "output_type": "execute_result"
    }
   ],
   "source": [
    "# remember variables? yes, say you want to put different things inside one variable, (like string, number, another list, etc.) in on place. That’s what a list is for.\n",
    "#A list will usually be a row in a table, it can hold anything: a row of names, numbers, mixed data, even another list.\n",
    "#We use commas , to separate the items and square brackets [] to wrap them.\n",
    "#Python always starts counting from index 0.\n",
    "#We access list items using their index position in square brackets.\n",
    "#Let’s try this:\n",
    "\n",
    "ORG_NAME = \"Standard Data Ocean\"\n",
    "patient_data = [\"Ginika\", 15, 36.6, ORG_NAME]\n",
    "patient_data[0] # calling Ginika"
   ]
  },
  {
   "cell_type": "code",
   "execution_count": 1402,
   "id": "43f042ef",
   "metadata": {},
   "outputs": [
    {
     "data": {
      "text/plain": [
       "'Standard Data Ocean'"
      ]
     },
     "execution_count": 1402,
     "metadata": {},
     "output_type": "execute_result"
    }
   ],
   "source": [
    "patient_data[-1] #calling ORG_NAME, see the value was outputted?"
   ]
  },
  {
   "cell_type": "markdown",
   "id": "67fc4694",
   "metadata": {},
   "source": [
    "did you notice how we -1 to call the last item position we want? this is due to zero indexing. "
   ]
  },
  {
   "cell_type": "code",
   "execution_count": 1403,
   "id": "c0a80e41",
   "metadata": {},
   "outputs": [
    {
     "data": {
      "text/plain": [
       "15"
      ]
     },
     "execution_count": 1403,
     "metadata": {},
     "output_type": "execute_result"
    }
   ],
   "source": [
    "patient_data[1]"
   ]
  },
  {
   "cell_type": "code",
   "execution_count": 1404,
   "id": "676bbda5",
   "metadata": {},
   "outputs": [
    {
     "name": "stdout",
     "output_type": "stream",
     "text": [
      "this is the patient's data: ['Ginika', 15, 36.6, 'Standard Data Ocean']\n"
     ]
    }
   ],
   "source": [
    "#let's try this\n",
    "print(f\"this is the patient's data: {patient_data}\")"
   ]
  },
  {
   "cell_type": "code",
   "execution_count": 1405,
   "id": "6c3ada7e",
   "metadata": {},
   "outputs": [
    {
     "name": "stdout",
     "output_type": "stream",
     "text": [
      "The patient is registered at: Standard Data Ocean\n"
     ]
    }
   ],
   "source": [
    "#or this\n",
    "print(f\"The patient is registered at: {patient_data[-1]}\")"
   ]
  },
  {
   "cell_type": "markdown",
   "id": "ec84e5dd",
   "metadata": {},
   "source": [
    "### Can We Alter an Item in a List? \n",
    "- Modifying lists\n",
    "\n",
    "Yes, we can!\n",
    "\n",
    "Let’s label this list and change an item inside it."
   ]
  },
  {
   "cell_type": "code",
   "execution_count": 1406,
   "id": "893db9ab",
   "metadata": {},
   "outputs": [
    {
     "name": "stdout",
     "output_type": "stream",
     "text": [
      "Ginika\n"
     ]
    }
   ],
   "source": [
    "#patient_data = [\"Ginika\", 15, 36.6, ORG_NAME]\n",
    "[name, age, temperature, organisation_name] = patient_data\n",
    "print(name)"
   ]
  },
  {
   "cell_type": "markdown",
   "id": "2b63fedd",
   "metadata": {},
   "source": [
    "##### To modify an element in a list, we use square brackets with index notation and set it equal to a desired value. For example, to modify the first, third item in patient_data, we would set index position 0 and 2 to the respective new values."
   ]
  },
  {
   "cell_type": "code",
   "execution_count": 1407,
   "id": "858dfde8",
   "metadata": {},
   "outputs": [
    {
     "name": "stdout",
     "output_type": "stream",
     "text": [
      "['Chidinma', 15, 36.6, 'Standard Data Ocean']\n"
     ]
    }
   ],
   "source": [
    "#Let’s say we want to update Ginika’s name to Chidinma...\n",
    "patient_data[0]=\"Chidinma\"\n",
    "print(patient_data)"
   ]
  },
  {
   "cell_type": "code",
   "execution_count": 1408,
   "id": "def953ce",
   "metadata": {},
   "outputs": [
    {
     "name": "stdout",
     "output_type": "stream",
     "text": [
      "['Chidinma', 15, 37, 'Standard Data Ocean']\n"
     ]
    }
   ],
   "source": [
    "#and update her temperature.\n",
    "patient_data[2]=37\n",
    "print(patient_data)"
   ]
  },
  {
   "cell_type": "markdown",
   "id": "b49a0bdf",
   "metadata": {},
   "source": [
    "### Adding to a List - Append  ```.append()```\n",
    "- The simplest way to add a new element to a list is to use the append() method. When you append an item to a list, the new element is added to the end of the list. For example, each time you run the append method below, another 5 will be added to the end of the list.\n",
    "\n",
    "When you want to add new items to a list:"
   ]
  },
  {
   "cell_type": "code",
   "execution_count": 1409,
   "id": "989bc641",
   "metadata": {},
   "outputs": [
    {
     "name": "stdout",
     "output_type": "stream",
     "text": [
      "['Chidinma', 15, 37, 'Standard Data Ocean', 'Lagos, Nigeria']\n"
     ]
    }
   ],
   "source": [
    "# used to add an item to a list\n",
    "\n",
    "patient_data.append(\"Lagos, Nigeria\")\n",
    "print (patient_data)\n",
    "\n",
    "#NB: append only takes in one arguement, meaning you cannot have upto 2 arguements in the parenthesis"
   ]
  },
  {
   "cell_type": "code",
   "execution_count": 1410,
   "id": "16fa026e",
   "metadata": {},
   "outputs": [
    {
     "name": "stdout",
     "output_type": "stream",
     "text": [
      "['Chidinma', 15, 37, 'Standard Data Ocean', 'Lagos, Nigeria', 161]\n"
     ]
    }
   ],
   "source": [
    "patient_data.append(161)\n",
    "print(patient_data)"
   ]
  },
  {
   "cell_type": "markdown",
   "id": "e0644510",
   "metadata": {},
   "source": [
    "### Finding the Length — Length : ```len()```\n",
    "\n",
    "- we can also find the length, count of variables/elements within a list, or the count of characters within an item"
   ]
  },
  {
   "cell_type": "code",
   "execution_count": 1411,
   "id": "65e5ef79",
   "metadata": {},
   "outputs": [
    {
     "name": "stdout",
     "output_type": "stream",
     "text": [
      "6\n"
     ]
    }
   ],
   "source": [
    "# length of a list\n",
    "print(len(patient_data))"
   ]
  },
  {
   "cell_type": "code",
   "execution_count": 1412,
   "id": "75cdf1f5",
   "metadata": {},
   "outputs": [
    {
     "name": "stdout",
     "output_type": "stream",
     "text": [
      "19\n"
     ]
    }
   ],
   "source": [
    "# length of the element in index 3\n",
    "print(len(patient_data[3]))"
   ]
  },
  {
   "cell_type": "markdown",
   "id": "0cddf793",
   "metadata": {},
   "source": [
    "### Delete : ```del```\n",
    "- how about  deleting an item from a list?\n",
    "- the del function is used for deletion in python\n",
    "\n",
    "*if you run del function more than once, the action is repeated again the number of times it was run; Python will keep deleting that index position like a greedy Pac-Man 🍒.*"
   ]
  },
  {
   "cell_type": "code",
   "execution_count": 1413,
   "id": "1c57fb8a",
   "metadata": {},
   "outputs": [
    {
     "name": "stdout",
     "output_type": "stream",
     "text": [
      "['Chidinma', 15, 37, 'Standard Data Ocean', 'Lagos, Nigeria', 161]\n",
      "['Chidinma', 37, 'Standard Data Ocean', 'Lagos, Nigeria', 161]\n"
     ]
    }
   ],
   "source": [
    "#lets's delete 15 from the list, shall we?\n",
    "\n",
    "print(patient_data)\n",
    "del patient_data[1]\n",
    "print(patient_data)"
   ]
  },
  {
   "cell_type": "code",
   "execution_count": 1414,
   "id": "ecd20deb",
   "metadata": {},
   "outputs": [
    {
     "name": "stdout",
     "output_type": "stream",
     "text": [
      "['Chidinma', 'Standard Data Ocean', 'Lagos, Nigeria', 161]\n"
     ]
    }
   ],
   "source": [
    "# run this, and note what happens\n",
    "del patient_data[1]\n",
    "print(patient_data)\n",
    "\n",
    "#did you notice another deletion?,just like we said before, if you run del function more than once, the action is repeated again the number of times it was run"
   ]
  },
  {
   "cell_type": "markdown",
   "id": "159c7622",
   "metadata": {},
   "source": [
    "### List Concatenation — Do you know that you can combine 2 lists?*\n",
    "\n",
    "- Yeah, with the + sign.\n",
    "\n",
    "- Concatenation just means: “Come together, let’s be one big list!” 😂"
   ]
  },
  {
   "cell_type": "code",
   "execution_count": 1415,
   "id": "2b8a8414",
   "metadata": {},
   "outputs": [
    {
     "name": "stdout",
     "output_type": "stream",
     "text": [
      "['Chidinma', 'Standard Data Ocean', 'Lagos, Nigeria', 161, 'Ikechukwu', 50, 'Oil & Gas', 'Portharcourt, Rivers']\n"
     ]
    }
   ],
   "source": [
    "# we can update the patient-data by adding more information from the new patient-bio list\n",
    "\n",
    "#new list\n",
    "patient_bio = [\"Ikechukwu\", 50, \"Oil & Gas\", \"Portharcourt, Rivers\"]\n",
    "[spouse_name, spouse_age, spouse_occupation, spouse_location] = patient_bio\n",
    "\n",
    "#concatenation\n",
    "patient_data = patient_data + patient_bio\n",
    "print (patient_data)"
   ]
  },
  {
   "cell_type": "markdown",
   "id": "67de13eb",
   "metadata": {},
   "source": [
    "### List Slicing — Cutting a Piece of Cake 🎂🔪\n",
    "\n",
    "Well let’s go back to understanding indexing:"
   ]
  },
  {
   "cell_type": "code",
   "execution_count": 1416,
   "id": "e220b8a7",
   "metadata": {},
   "outputs": [
    {
     "name": "stdout",
     "output_type": "stream",
     "text": [
      "Ikechukwu\n",
      "Portharcourt, Rivers\n"
     ]
    }
   ],
   "source": [
    "# say you want to return list info, based on different need levels\n",
    "\n",
    "#1 return return the first item\n",
    "print(patient_bio[0])\n",
    "\n",
    "#2 return the eight item from patient data\n",
    "print(patient_data[7])\n"
   ]
  },
  {
   "cell_type": "markdown",
   "id": "052fbddd",
   "metadata": {},
   "source": [
    "### So What is Slicing? \n",
    "#### How do we better understand it in a way that it isn't so confusing?\n",
    "\n",
    "Oh yes! Slicing is telling Python where to start and where to stop picking from a list, using colon (:) as the separator.\n",
    "\n",
    "- Always include the start position.\n",
    "- Always exclude the stop position. \n",
    "- Indexes are always read as \"for this result give me the list in this manner: start counting from the index i mentioned first but dont count the index i mentioned last\"\n",
    "- ```any last position indicated must be excluded and any first position indicated must be included...``` and ```:``` indicates all positions... so let's go!"
   ]
  },
  {
   "cell_type": "code",
   "execution_count": 1417,
   "id": "502bfe59",
   "metadata": {},
   "outputs": [
    {
     "name": "stdout",
     "output_type": "stream",
     "text": [
      "[0, 1, 2, 3, 4, 5, 6, 7, 8, 9, 10]\n"
     ]
    }
   ],
   "source": [
    "#3 using semicolons to separate the start and end of a list\n",
    "# : indicates everything / the index zero position\n",
    "\n",
    "number_list = [0,1,2,3,4,5,6,7,8,9,10]\n",
    "\n",
    "print(number_list[:]) #prints everything, still can be printed without the [] brackets\n"
   ]
  },
  {
   "cell_type": "code",
   "execution_count": 1418,
   "id": "74a67160",
   "metadata": {},
   "outputs": [
    {
     "name": "stdout",
     "output_type": "stream",
     "text": [
      "[0, 1]\n",
      "[2, 3, 4, 5, 6, 7, 8, 9, 10]\n",
      "[10]\n",
      "[0, 1, 2, 3, 4, 5, 6, 7, 8, 9]\n",
      "['Chidinma', 'Standard Data Ocean', 'Lagos, Nigeria', 161]\n",
      "['Ikechukwu', 50, 'Oil & Gas', 'Portharcourt, Rivers']\n"
     ]
    }
   ],
   "source": [
    "print(number_list[:2]) # prints everything in front of index 2 (position 2)\n",
    "print(number_list[2:]) # prints everything from index 2 (position 2)\n",
    "print(number_list[-1:])# prints everything from from index -1\n",
    "print(number_list[:-1])# prints everything in front of index -1\n",
    "print(patient_data[:4])# prints everything in front of index 4\n",
    "print(patient_data[4:])#prints everything from the 4th index to the end"
   ]
  },
  {
   "cell_type": "code",
   "execution_count": 1419,
   "id": "4384218e",
   "metadata": {},
   "outputs": [
    {
     "name": "stdout",
     "output_type": "stream",
     "text": [
      "[5, 6, 7, 8, 9, 10]\n"
     ]
    }
   ],
   "source": [
    "print(number_list[5:11]) #prints from the sixth position to the 10th position"
   ]
  },
  {
   "cell_type": "markdown",
   "id": "a408b897",
   "metadata": {},
   "source": [
    "### Step-Size Listing — Skipping Like a Boss\n",
    "\n",
    "So, what if you want to select items from a list but in a particular style, pattern, or skipping steps like a boss?\n",
    "\n",
    "That’s where step-size listing comes in. You can add a third index to your slice to tell Python:\n",
    "\"Hey Python, don’t take everything one by one — skip some for me, abeg.\"\n",
    "\n",
    "Let’s represent it like this: ```x = [a:b:c]``` \n",
    "\n",
    "*```a``` is where Python should start slicing from.*\n",
    "*```b``` is where Python should stop (remember, Python will not include this stop index).*\n",
    "*```c``` is the step size (how many items to skip).*\n",
    "\n",
    "💡 Think of step size like walking into a clinic and skipping every second chair in the waiting room. Python will skip them for you!\n",
    "\n",
    "Let’s try it out:"
   ]
  },
  {
   "cell_type": "code",
   "execution_count": 1420,
   "id": "39a085a2",
   "metadata": {},
   "outputs": [
    {
     "name": "stdout",
     "output_type": "stream",
     "text": [
      "['Chidinma', 'Standard Data Ocean', 'Lagos, Nigeria', 161, 'Ikechukwu', 50, 'Oil & Gas', 'Portharcourt, Rivers']\n",
      "\n",
      "\n",
      "[161, 50, 'Portharcourt, Rivers']\n"
     ]
    }
   ],
   "source": [
    "# print patient data in the sequence of 2 intervals/steps, starting from the 3rd index to the 7th index\n",
    "\n",
    "#before\n",
    "print(patient_data)\n",
    "\n",
    "#new line \n",
    "print(\"\\n\")\n",
    "\n",
    "#after\n",
    "print(patient_data[3:8:2])  # Every 2nd item from index 3 to index 7"
   ]
  },
  {
   "cell_type": "markdown",
   "id": "b53acfb7",
   "metadata": {},
   "source": [
    "### A Health Sampling Application 📝\n",
    "- Imagine you are conducting research in a hospital and you want to pick every third patient for screening."
   ]
  },
  {
   "cell_type": "code",
   "execution_count": 1421,
   "id": "475e939d",
   "metadata": {},
   "outputs": [
    {
     "name": "stdout",
     "output_type": "stream",
     "text": [
      "['Alan Mills', 'Chioma Eze', 'Peter Obi', 'Linda Brown', 'Ahmed Sule', 'Rachel Green', 'John Doe']\n"
     ]
    }
   ],
   "source": [
    "#let create a stratified sampling method of patients using a list with their patient names\n",
    "#we will choose participants for the research using 3 count interval stratification method\n",
    "patient_names = [\n",
    "    \"Alan Mills\",\n",
    "    \"Sandra Okoro\",\n",
    "    \"David Johnson\",\n",
    "    \"Chioma Eze\",\n",
    "    \"Michael Smith\",\n",
    "    \"Fatima Bello\",\n",
    "    \"Peter Obi\",\n",
    "    \"Grace Thompson\",\n",
    "    \"Musa Ibrahim\",\n",
    "    \"Linda Brown\",\n",
    "    \"Emeka Uche\",\n",
    "    \"Jennifer Adams\",\n",
    "    \"Ahmed Sule\",\n",
    "    \"Sophia Williams\",\n",
    "    \"Chinedu Nwachukwu\",\n",
    "    \"Rachel Green\",\n",
    "    \"Kelvin Adeyemi\",\n",
    "    \"Ifeoma Nwosu\",\n",
    "    \"John Doe\",\n",
    "    \"Amina Yusuf\"\n",
    "]\n",
    "\n",
    "print(patient_names[:21:3]) #print everything in front of index 21 in the intervals or steps of 3"
   ]
  },
  {
   "cell_type": "markdown",
   "id": "70e84873",
   "metadata": {},
   "source": [
    "Oh wait, you can also tell Python:\n",
    "“Select every other patient.”"
   ]
  },
  {
   "cell_type": "code",
   "execution_count": 1422,
   "id": "33ddf782",
   "metadata": {},
   "outputs": [
    {
     "name": "stdout",
     "output_type": "stream",
     "text": [
      "['Alan Mills', 'David Johnson', 'Michael Smith', 'Peter Obi', 'Musa Ibrahim', 'Emeka Uche', 'Ahmed Sule', 'Chinedu Nwachukwu', 'Kelvin Adeyemi', 'John Doe']\n"
     ]
    }
   ],
   "source": [
    "print(patient_names[::2]) # returns every other item in the list, from beginning to end, in the intervals or step of 2"
   ]
  },
  {
   "cell_type": "markdown",
   "id": "d436a3c6",
   "metadata": {},
   "source": [
    "Reverse it like a mirror? Python can do that too!"
   ]
  },
  {
   "cell_type": "code",
   "execution_count": 1423,
   "id": "57c23f92",
   "metadata": {},
   "outputs": [
    {
     "name": "stdout",
     "output_type": "stream",
     "text": [
      "['Amina Yusuf', 'John Doe', 'Ifeoma Nwosu', 'Kelvin Adeyemi', 'Rachel Green', 'Chinedu Nwachukwu', 'Sophia Williams', 'Ahmed Sule', 'Jennifer Adams', 'Emeka Uche', 'Linda Brown', 'Musa Ibrahim', 'Grace Thompson', 'Peter Obi', 'Fatima Bello', 'Michael Smith', 'Chioma Eze', 'David Johnson', 'Sandra Okoro', 'Alan Mills']\n"
     ]
    }
   ],
   "source": [
    "#returns every item in a list, starting from the end, say in a reversed way.\n",
    "print(patient_names[::-1])"
   ]
  },
  {
   "cell_type": "markdown",
   "id": "6cd7dbd6",
   "metadata": {},
   "source": [
    "Want to skip backwards in steps? Just say it! Or just skip forward till you almost reach the end:"
   ]
  },
  {
   "cell_type": "code",
   "execution_count": 1424,
   "id": "fd63f0e7",
   "metadata": {},
   "outputs": [
    {
     "name": "stdout",
     "output_type": "stream",
     "text": [
      "['Amina Yusuf', 'Ifeoma Nwosu', 'Rachel Green']\n",
      "['Alan Mills', 'David Johnson', 'Michael Smith', 'Peter Obi', 'Musa Ibrahim', 'Emeka Uche', 'Ahmed Sule']\n"
     ]
    }
   ],
   "source": [
    "#print everything infront of the negative 6th index with a reverse step size\n",
    "print(patient_names[:-6:-2])\n",
    "\n",
    "print(patient_names[:-6:2])"
   ]
  },
  {
   "cell_type": "markdown",
   "id": "b88a8fc8",
   "metadata": {},
   "source": [
    "Real-Life Tip:\n",
    "This is super useful in sampling patients for surveys, screenings, or drug distributions. You can decide to pick every 2nd, 3rd, or 4th person on the hospital log."
   ]
  },
  {
   "cell_type": "markdown",
   "id": "c2ccff60",
   "metadata": {},
   "source": [
    "### The Main Conditionals — Let’s Loop it Up ➿➰\n",
    "\n",
    "- Loops\n",
    "Loops are used when you want to do something over and over again, that is perform a particular task for a given number of times (repetitively) (repetition is love in Python 💌).\n",
    "\n",
    "*For example we want to write a script that calls each patient to the GOPD for booking with the list we have and they are told to \"Please come on board for your GOPD booking\" - how do we do this?*\n",
    "\n",
    "- ```for``` loops"
   ]
  },
  {
   "cell_type": "code",
   "execution_count": 1425,
   "id": "c9fcc150",
   "metadata": {},
   "outputs": [
    {
     "name": "stdout",
     "output_type": "stream",
     "text": [
      "Please come on board for your GOPD booking\n",
      "Please come on board for your GOPD booking\n",
      "Please come on board for your GOPD booking\n",
      "Please come on board for your GOPD booking\n",
      "Please come on board for your GOPD booking\n",
      "Please come on board for your GOPD booking\n"
     ]
    }
   ],
   "source": [
    "# call patients to the GOPD for booking.\n",
    "\n",
    "for item in patient_names[:6]:\n",
    "    print(\"Please come on board for your GOPD booking\")\n",
    "\n",
    "# the statement above reads as for each item in patient_names list print \"Please come on board for your GOPD booking\""
   ]
  },
  {
   "cell_type": "markdown",
   "id": "7be1275a",
   "metadata": {},
   "source": [
    "Hmmmm… this is good but…\n",
    "How will they know we are calling them specifically? it's obvious the code above didn't give us what we wanted. We wanted to be able to call the patient's name before we give them the order.\n",
    "It’s just printing the instruction.\n",
    "\n",
    "Let’s add their names jare:"
   ]
  },
  {
   "cell_type": "code",
   "execution_count": 1426,
   "id": "e58d7772",
   "metadata": {},
   "outputs": [
    {
     "name": "stdout",
     "output_type": "stream",
     "text": [
      "Alan Mills, Please come on board for your GOPD booking\n",
      "Sandra Okoro, Please come on board for your GOPD booking\n",
      "David Johnson, Please come on board for your GOPD booking\n",
      "Chioma Eze, Please come on board for your GOPD booking\n",
      "Michael Smith, Please come on board for your GOPD booking\n",
      "Fatima Bello, Please come on board for your GOPD booking\n"
     ]
    }
   ],
   "source": [
    "for item in patient_names[:6]: #item is just a placeholder for anything you want to \n",
    "    print(item + \", Please come on board for your GOPD booking\")\n",
    "\n",
    "    #the for loop reads, for every item in patient_name list print the item plus the sentence please come on board for your GOPD booking."
   ]
  },
  {
   "cell_type": "markdown",
   "id": "0f390079",
   "metadata": {},
   "source": [
    "Now they know we are calling them one by one. 💃🕺\n",
    "\n",
    "But wait — see the next one we wrote:"
   ]
  },
  {
   "cell_type": "code",
   "execution_count": 1427,
   "id": "cffdb0de",
   "metadata": {},
   "outputs": [
    {
     "name": "stdout",
     "output_type": "stream",
     "text": [
      "where are you? Mr. Alan Mills, Can you hear me Mr. Alan Mills?\n",
      "where are you? Mr. Sandra Okoro, Can you hear me Mr. Sandra Okoro?\n",
      "where are you? Mr. David Johnson, Can you hear me Mr. David Johnson?\n",
      "where are you? Mr. Chioma Eze, Can you hear me Mr. Chioma Eze?\n",
      "where are you? Mr. Michael Smith, Can you hear me Mr. Michael Smith?\n",
      "where are you? Mr. Fatima Bello, Can you hear me Mr. Fatima Bello?\n"
     ]
    }
   ],
   "source": [
    "# you can choose any name you want for the temporary variable that will be associated with each value in the list.\n",
    "\n",
    "for name in patient_names[:6]:\n",
    "    print(\"where are you? Mr. \" + name + \", Can you hear me Mr. \" + name + \"?\")\n",
    "\n",
    "    #this reads for every name in patient_name list, print th sentnece \"where are you? Mr X, Can you hear me Mr. X?\""
   ]
  },
  {
   "cell_type": "markdown",
   "id": "5d31e075",
   "metadata": {},
   "source": [
    "Wahala! 😂 Notice we have an issue, on the call above? Even our beautiful Sandra Okoro and Chioma Eze are now being called Mr.! 🤦‍♀️\n",
    "\n",
    "We can modify the call above to our needed format with conditionals, in if statements and list comprehensions.\n",
    "\n",
    "Let’s fix it! "
   ]
  },
  {
   "cell_type": "markdown",
   "id": "9eb2be62",
   "metadata": {},
   "source": [
    "### Solving the Mr./Ms. 💑 Issue - Genders and Use If Statements\n",
    "\n",
    "*NB: You can skip this for now, if you tried and it starts becoming confusing, move to the next section, fiinsh all and come back here, i promise you will understand ```pinky promise```.*  That been said. 😛"
   ]
  },
  {
   "cell_type": "code",
   "execution_count": 1428,
   "id": "12c38f1e",
   "metadata": {},
   "outputs": [
    {
     "name": "stdout",
     "output_type": "stream",
     "text": [
      "Where are you? Mr. Alan Mills, can you hear me Mr. Alan Mills?\n",
      "Where are you? Ms. Sandra Okoro, can you hear me Ms. Sandra Okoro?\n",
      "Where are you? Mr. David Johnson, can you hear me Mr. David Johnson?\n",
      "Where are you? Ms. Chioma Eze, can you hear me Ms. Chioma Eze?\n",
      "Where are you? Mr. Michael Smith, can you hear me Mr. Michael Smith?\n",
      "Where are you? Ms. Fatima Bello, can you hear me Ms. Fatima Bello?\n"
     ]
    }
   ],
   "source": [
    "#for starters we would create a small dataset with their names and genders:\n",
    "\n",
    "patients = [\n",
    "    {\"name\": \"Alan Mills\", \"gender\": \"Male\"},\n",
    "    {\"name\": \"Sandra Okoro\", \"gender\": \"Female\"},\n",
    "    {\"name\": \"David Johnson\", \"gender\": \"Male\"},\n",
    "    {\"name\": \"Chioma Eze\", \"gender\": \"Female\"},\n",
    "    {\"name\": \"Michael Smith\", \"gender\": \"Male\"},\n",
    "    {\"name\": \"Fatima Bello\", \"gender\": \"Female\"}\n",
    "]\n",
    "\n",
    "for patient in patients:\n",
    "    if patient[\"gender\"] == \"Male\":\n",
    "        title = \"Mr.\"\n",
    "    else:\n",
    "        title = \"Ms.\"\n",
    "    \n",
    "    print(f\"Where are you? {title} {patient['name']}, can you hear me {title} {patient['name']}?\")\n",
    "\n",
    "#💡 Boom! Fixed! Now Python is respecting the ladies. 👑"
   ]
  },
  {
   "cell_type": "markdown",
   "id": "445dba47",
   "metadata": {},
   "source": [
    "*Let's be innovative with the ```for loops```, can we?*\n",
    "\n",
    "### For loops with Print Formats\n",
    "- We can also modify our for loops using print formats"
   ]
  },
  {
   "cell_type": "code",
   "execution_count": 1429,
   "id": "8066af50",
   "metadata": {},
   "outputs": [
    {
     "name": "stdout",
     "output_type": "stream",
     "text": [
      "['Ikechukwu', 50, 'Oil & Gas', 'Portharcourt, Rivers']\n"
     ]
    }
   ],
   "source": [
    "#Recall\n",
    "# patient_bio = [\"Ikechukwu\", 50, \"Oil & Gas\", \"Portharcourt, Rivers\"]\n",
    "# [spouse_name, spouse_age, spouse_occupation, spouse_location] = patient_bio \n",
    "print (patient_bio)"
   ]
  },
  {
   "cell_type": "code",
   "execution_count": 1430,
   "id": "c6b59db7",
   "metadata": {},
   "outputs": [
    {
     "name": "stdout",
     "output_type": "stream",
     "text": [
      "The patient's name is Ikechukwu. He is 50 years of age, and works in Oil & Gas\n",
      "The patient's name is Ikechukwu. He is 50 years of age, and works in Oil & Gas\n",
      "The patient's name is Ikechukwu. He is 50 years of age, and works in Oil & Gas\n",
      "The patient's name is Ikechukwu. He is 50 years of age, and works in Oil & Gas\n"
     ]
    }
   ],
   "source": [
    "for element in patient_bio:\n",
    "    print(\"The patient's name is {}. He is {} years of age, and works in {}\".format(spouse_name, spouse_age, spouse_occupation))"
   ]
  },
  {
   "cell_type": "code",
   "execution_count": 1431,
   "id": "67ce3485",
   "metadata": {},
   "outputs": [
    {
     "name": "stdout",
     "output_type": "stream",
     "text": [
      "The patient's name is Ikechukwu. He is 50 years of age, and works in Oil & Gas\n",
      "The patient's name is Ikechukwu. He is 50 years of age, and works in Oil & Gas\n",
      "The patient's name is Ikechukwu. He is 50 years of age, and works in Oil & Gas\n",
      "The patient's name is Ikechukwu. He is 50 years of age, and works in Oil & Gas\n"
     ]
    }
   ],
   "source": [
    "#we can also work with th f string formatting method\n",
    "for element in patient_bio:\n",
    "    print(f\"The patient's name is {spouse_name}. He is {spouse_age} years of age, and works in {spouse_occupation}\")"
   ]
  },
  {
   "cell_type": "markdown",
   "id": "dfe0f85a",
   "metadata": {},
   "source": [
    "### For Loops & Ranges ```range()```  — Counting Like a Pro 📊\n",
    "- The range() function is your counting machine.\n",
    "- We can also repeat tasks in based on a stipulated number or interval within a range, be it returning a list of numbers, strings etc.\n",
    "\n",
    "it's safe to say that the range() function in Python generates a list of numbers or the number of items an item could be called.\n"
   ]
  },
  {
   "cell_type": "code",
   "execution_count": 1432,
   "id": "e50c0436",
   "metadata": {},
   "outputs": [
    {
     "name": "stdout",
     "output_type": "stream",
     "text": [
      "0\n",
      "1\n",
      "2\n",
      "3\n",
      "4\n",
      "5\n",
      "6\n",
      "7\n",
      "8\n",
      "9\n"
     ]
    }
   ],
   "source": [
    "#Recall our number lists? number_list = [0,1,2,3,4,5,6,7,8,9,10], you can see that the range of numbers within the list is between 0 t0 10. But when using ranges, you do not bother about the list itself. range() is enough to ive you the desired output.\n",
    "\n",
    "for numbers in range(10):\n",
    "    print (numbers)"
   ]
  },
  {
   "cell_type": "markdown",
   "id": "d27ee575",
   "metadata": {},
   "source": [
    "This will count from 0 to 9 — remember Python will always exclude the last number.\n",
    "\n",
    "Want to count from 6 to 9?"
   ]
  },
  {
   "cell_type": "code",
   "execution_count": 1433,
   "id": "528b9126",
   "metadata": {},
   "outputs": [
    {
     "name": "stdout",
     "output_type": "stream",
     "text": [
      "6\n",
      "7\n",
      "8\n",
      "9\n"
     ]
    }
   ],
   "source": [
    "#range can also be written in the slicing formats, just like tuples, the differrence here is that u would be using comma , instead of colon :.\n",
    "#in loops, just like indexes, the last number is always excluded.\n",
    "\n",
    "for numbers in range(6,10):\n",
    "    print(numbers)"
   ]
  },
  {
   "cell_type": "markdown",
   "id": "39f1fa20",
   "metadata": {},
   "source": [
    "Want to repeat a message 3 times? Python can do that."
   ]
  },
  {
   "cell_type": "code",
   "execution_count": 1434,
   "id": "f7cf1553",
   "metadata": {},
   "outputs": [
    {
     "name": "stdout",
     "output_type": "stream",
     "text": [
      "Welocme to the SDO Precision Medicine Training\n",
      "Welocme to the SDO Precision Medicine Training\n",
      "Welocme to the SDO Precision Medicine Training\n"
     ]
    }
   ],
   "source": [
    "#for loops with range can also return elements, say a string with the number of times or counts the range describes.\n",
    "\n",
    "for numbers in range(2, 5):\n",
    "    print(\"Welocme to the SDO Precision Medicine Training\")"
   ]
  },
  {
   "cell_type": "code",
   "execution_count": 1435,
   "id": "1783a5f3",
   "metadata": {},
   "outputs": [],
   "source": [
    "#Some exercise for you 🤭: Use a for loop and the range() function to print out your name 5 times. \n",
    "#This will run but it's incorrect, correct it!\n",
    "\n",
    "for name in range(0):\n",
    "    print(1)"
   ]
  },
  {
   "cell_type": "markdown",
   "id": "fb7d1f4d",
   "metadata": {},
   "source": [
    "### List Compreheeeennnsions! 🎉✨\n",
    "\n",
    "Yes we finally arrived here!! List comprehension is like writing a whole for loop in one sweet line.\n",
    "\n",
    "- A list comprehension is a list that is created based upon an existing list. You loop through the existing list and, optionally, perform some operation on each successive value before adding that value to the new list.\n",
    "\n",
    "Let’s say you want to add something to every item in a list:"
   ]
  },
  {
   "cell_type": "code",
   "execution_count": 1436,
   "id": "bba71832",
   "metadata": {},
   "outputs": [
    {
     "name": "stdout",
     "output_type": "stream",
     "text": [
      "['Ikechukwu scents', '50 scents', 'Oil & Gas scents', 'Portharcourt, Rivers scents']\n"
     ]
    }
   ],
   "source": [
    "# List comprehension with for loop\n",
    "patient_bio = ['Ikechukwu', 50, 'Oil & Gas', 'Portharcourt, Rivers']\n",
    "about_ikechukwu = [str(about) + ' scents' for about in patient_bio]  #we added str to force 50 into a string, if not it will thhrow an error because concatenaation can not be done on inteers and strings.\n",
    "print(about_ikechukwu)\n",
    "\n",
    "# the expression in the second line reads as \"for each item in patient_bio, add the word \" scents\" to it, then save it as about_ikechukwu\""
   ]
  },
  {
   "cell_type": "markdown",
   "id": "651d1965",
   "metadata": {},
   "source": [
    "Why did we use str(about)? Because you can’t add strings to numbers directly. Python will complain like a stubborn baby if you try it."
   ]
  },
  {
   "cell_type": "code",
   "execution_count": 1437,
   "id": "c3da59a8",
   "metadata": {},
   "outputs": [
    {
     "name": "stdout",
     "output_type": "stream",
     "text": [
      "['Hello Tim', 'Hello Kim', 'Hello Bill', 'Hello Jill']\n"
     ]
    }
   ],
   "source": [
    "# Lets do some execrise again 😀: \n",
    "# Use a list comprehension, based upon the following list, to concatenate \"Hello \" to each name before adding it to the new list being constructed. Print the new list.\n",
    "names = [\"Tim\", \"Kim\", \"Bill\", \"Jill\"]\n",
    "name_conc = [\"Hello \" + name for name in names]\n",
    "print(name_conc)\n"
   ]
  },
  {
   "cell_type": "markdown",
   "id": "47bcc167",
   "metadata": {},
   "source": [
    "Do You Remember the Mr./Ms. Problem?\n",
    "We can actually solve it directly with list comprehension and an if condition. Dont worry wee will revisit it properly again in the next section as we explore If Statements.\n",
    "    \n",
    "    Anyways what are If statements? 🤔"
   ]
  },
  {
   "cell_type": "markdown",
   "id": "37464dbb",
   "metadata": {},
   "source": [
    "### If statements — Let’s Talk About Decisions\n",
    "Sometimes you want to make Python decide what to do based on the situation.\n",
    "\n",
    "- this is usually used when you want to write an expression that has to be validated based on certain conditions, for example if you want to know if a patient has a high body tmperatur or not\n",
    "\n",
    "Recall boolean operators? True, False? if statements are written with boolean operators \n",
    "\n",
    "*Python uses the values True and False to decide whether the code in an if statement should be executed.*\n",
    "*If a conditional test evaluates to True, Python executes the indented code block following the if statement.* \n",
    "*If the test evaluates to False, Python ignores the code following the if statement.*\n",
    "\n",
    "- if statements can be in 3 steps if conditions are not met, this is the sample code\n",
    "if <condition>:\n",
    "    block of code\n",
    "elif <condition>:\n",
    "    block of code\n",
    "else:\n",
    "    block of code\n",
    "\n",
    "    How to read this out loud:\n",
    "👉 \"If the first condition is true, do this.\n",
    "If not, check the second one.\n",
    "If none of them is true, just do the last one.\"\n",
    "\n",
    "```if``` introduces the block of codes for the condition, if the condition is false or not satisfied ```elif``` is used to introduce the next condition deemed to be true, and then the ```else``` for the last condition.\n",
    "\n",
    "For example: If a patient’s name is Chidinma, say she’s a patient. Otherwise, say she’s not"
   ]
  },
  {
   "cell_type": "code",
   "execution_count": 1438,
   "id": "00142a6d",
   "metadata": {},
   "outputs": [
    {
     "name": "stdout",
     "output_type": "stream",
     "text": [
      "she's a patient\n"
     ]
    }
   ],
   "source": [
    "[name, age, temperature, organisation_name, spouse_name, spouse_age, spouse_occupation, spouse_location] = patient_data\n",
    "patient_data = ['Chidinma', 'Standard Data Ocean', 'Lagos, Nigeria', 161, 'Ikechukwu', 50, 'Oil & Gas', 'Portharcourt, Rivers']\n",
    "if name == \"Chidinma\":\n",
    "    print(\"she's a patient\")\n",
    "else:\n",
    "    print(\"not a patient\")"
   ]
  },
  {
   "cell_type": "markdown",
   "id": "d75465ff",
   "metadata": {},
   "source": [
    "Reminder:\n",
    "- if introduces the first condition.\n",
    "- elif gives Python other options to check.\n",
    "- else is like saying: \"If all else fails, do this one.\""
   ]
  },
  {
   "cell_type": "markdown",
   "id": "7d7e454d",
   "metadata": {},
   "source": [
    "### If-Elif Statements — Giving Python More Choices 🎯\n",
    "\n",
    "Sometimes you want Python to check multiple conditions and pick the first one that is true.\n",
    "\n",
    "Let’s say we want to categorize patients by age:"
   ]
  },
  {
   "cell_type": "code",
   "execution_count": 1439,
   "id": "004204e6",
   "metadata": {},
   "outputs": [
    {
     "name": "stdout",
     "output_type": "stream",
     "text": [
      "You're good to go!\n"
     ]
    }
   ],
   "source": [
    "age = 25\n",
    "\n",
    "if age < 10:\n",
    "    print(\"Just a kid.\") #\"If the patient's age is less than 10, say 'Just a kid.'\n",
    "elif age < 16:\n",
    "    print(\"Can't drive yet!\") #If that is not true, but the age is less than 16, say 'Can't drive yet!'\n",
    "elif age < 21:\n",
    "    print(\"No drinking for you!\") #If that is also not true, but the age is less than 21, say 'No drinking for you!'\n",
    "else:\n",
    "    print(\"You're good to go!\") #If none of these is true, say 'You're good to go!'\"\n",
    "\n",
    "#Note: Even though each condition above is actually True, only the first condition that returns True is executed; the code block is then exited. So, it's important to strategically order your conditions to achieve the expected result."
   ]
  },
  {
   "cell_type": "markdown",
   "id": "d3ab7b43",
   "metadata": {},
   "source": [
    "### If-Else Statements — Always Have a Backup Plan 💼\n",
    "\n",
    "Sometimes you want Python to ALWAYS do something. Even if all the ifs fail, there should be a backup plan.\n",
    "\n",
    "check the example below:"
   ]
  },
  {
   "cell_type": "code",
   "execution_count": 1440,
   "id": "c0af303b",
   "metadata": {},
   "outputs": [
    {
     "name": "stdout",
     "output_type": "stream",
     "text": [
      "Just a kid.\n"
     ]
    }
   ],
   "source": [
    "age = 5\n",
    "\n",
    "if age < 10:\n",
    "    print(\"Just a kid.\") #\"If the age is less than 10, say 'Just a kid.'\n",
    "else:\n",
    "    print(\"This patient is not a kid.\") #If not, just say 'This patient is not a kid.'\""
   ]
  },
  {
   "cell_type": "markdown",
   "id": "7581a92c",
   "metadata": {},
   "source": [
    "### List Comprehensions with If Statements — Smart One-Liners for Healthcare 🩺💊\n",
    "\n",
    "Let’s say you want to quickly create a new patient list but only include those who meet a condition."
   ]
  },
  {
   "cell_type": "code",
   "execution_count": 1441,
   "id": "de258f33",
   "metadata": {},
   "outputs": [
    {
     "name": "stdout",
     "output_type": "stream",
     "text": [
      "['Alan Mills', 'Sandra Okoro', 'David Johnson', 'Chioma Eze', 'Fatima Bello', 'Grace Thompson']\n"
     ]
    }
   ],
   "source": [
    "patient_names = [\n",
    "    \"Alan Mills\",\n",
    "    \"Sandra Okoro\",\n",
    "    \"David Johnson\",\n",
    "    \"Chioma Eze\",\n",
    "    \"Michael Smith\",\n",
    "    \"Fatima Bello\",\n",
    "    \"Peter Obi\",\n",
    "    \"Grace Thompson\"\n",
    "]\n",
    "\n",
    "filtered_patients = [name for name in patient_names if name not in [\"Peter Obi\", \"Michael Smith\"]] #\"For each name in the patient_names list, if the name is not Peter Obi or Michael Smith, add it to the new list we are building.\"\n",
    "\n",
    "print(filtered_patients)"
   ]
  },
  {
   "cell_type": "code",
   "execution_count": 1442,
   "id": "356bd10a",
   "metadata": {},
   "outputs": [
    {
     "name": "stdout",
     "output_type": "stream",
     "text": [
      "['Normal ✅', 'Fever Alert 🚨', 'Fever Alert 🚨', 'Normal ✅', 'Fever Alert 🚨', 'Normal ✅']\n"
     ]
    }
   ],
   "source": [
    "# Let’s try something more clinical — patient temperature readings.\n",
    "\n",
    "patient_temperatures = [36.4, 39.2, 37.8, 36.9, 38.5, 35.7]\n",
    "\n",
    "patient_status = [\"Fever Alert 🚨\" if temp > 37.5 else \"Normal ✅\" for temp in patient_temperatures]\n",
    "\n",
    "print(patient_status)\n",
    "\n",
    "\n",
    "#above is read: \"For each temperature in the patient_temperatures list, if the temperature is greater than 37.5, add 'Fever Alert 🚨' to the list. If not, add 'Normal ✅' to the list.\""
   ]
  },
  {
   "cell_type": "markdown",
   "id": "45613bb6",
   "metadata": {},
   "source": [
    "Keep in mind: When evaluating a list comprehension, always start reading from the for statement, and end at everything that precedes the for statement."
   ]
  },
  {
   "cell_type": "markdown",
   "id": "ac426a67",
   "metadata": {},
   "source": [
    "### Dictionaries — The Patient’s Medical File 📋🗂️\n",
    "\n",
    "Wrapped in curly braces {}, a dictionary in Python is a collection of key-value pairs. \n",
    "\n",
    "A dictionary in Python is like the patient’s health record folder — it stores information using labels (keys) and their details (values).\n",
    "\n",
    "Each key, in a dictionary, is associated with a value, and you can use a key to access the value associated with that key. A key’s value can be a number, a string, a list, or even another dictionary. In fact, you can use any object that you can create in Python as a value in a dictionary. We can access data using a key rather than using its index position as we do with lists.\n",
    "\n",
    "Every key is connected to its value by a colon, and individual key-value pairs are separated by commas. You can store as many key-value pairs as you desire in a dictionary.\n"
   ]
  },
  {
   "cell_type": "code",
   "execution_count": 1443,
   "id": "0b2f5c68",
   "metadata": {},
   "outputs": [
    {
     "name": "stdout",
     "output_type": "stream",
     "text": [
      "Chidinma Peace\n",
      "Pulse: 76 bpm\n"
     ]
    }
   ],
   "source": [
    "# This is a dictionary called patient_record. It has a Name, an Age, and Vitals.\"\n",
    "patient_record = {\n",
    "    \"Name\": \"Chidinma Peace\",\n",
    "    \"Age\": 29,\n",
    "    \"Vitals\": [\"BP: 120/80\", \"Temp: 37°C\", \"Pulse: 76 bpm\"]\n",
    "}\n",
    "\n",
    "#To get the patient’s name: Look inside the patient_record dictionary and bring out the Name.\n",
    "print(patient_record[\"Name\"])\n",
    "\n",
    "#To get the third vital sign:\"Look inside the patient_record dictionary, go to the Vitals, and bring out the item at index 2.\"\n",
    "print(patient_record[\"Vitals\"][2])"
   ]
  },
  {
   "cell_type": "markdown",
   "id": "8ff060e3",
   "metadata": {},
   "source": [
    "### Adding to a Dictionary/ Modifying a Dictionary — Updating the Patient’s File — Correcting the Records  📝💉🩺✍️"
   ]
  },
  {
   "cell_type": "code",
   "execution_count": 1444,
   "id": "14e52736",
   "metadata": {},
   "outputs": [
    {
     "name": "stdout",
     "output_type": "stream",
     "text": [
      "{'Name': 'Chidinma Peace', 'Age': 29, 'Vitals': ['BP: 120/80', 'Temp: 37°C', 'Pulse: 76 bpm'], 'Diagnosis': 'Malaria'}\n"
     ]
    }
   ],
   "source": [
    "#In the patient_record dictionary, add a new key called Diagnosis and give it the value Malaria.\n",
    "patient_record[\"Diagnosis\"] = \"Malaria\"\n",
    "print(patient_record)"
   ]
  },
  {
   "cell_type": "code",
   "execution_count": 1445,
   "id": "be6d5c41",
   "metadata": {},
   "outputs": [
    {
     "name": "stdout",
     "output_type": "stream",
     "text": [
      "{'Name': 'Chidinma Peace', 'Age': 29, 'Vitals': ['BP: 120/80', 'Temp: 37°C', 'Pulse: 76 bpm'], 'Diagnosis': 'Typhoid'}\n"
     ]
    }
   ],
   "source": [
    "#Update the Diagnosis in the patient_record dictionary and change it to Typhoid.\n",
    "patient_record[\"Diagnosis\"] = \"Typhoid\"\n",
    "print((patient_record))\n"
   ]
  },
  {
   "cell_type": "code",
   "execution_count": 1446,
   "id": "f276af32",
   "metadata": {},
   "outputs": [
    {
     "name": "stdout",
     "output_type": "stream",
     "text": [
      "{'Name': 'Chidinma Peace', 'Age': 29, 'Vitals': ['BP: 120/80', 'Temp: 37°C', 'Pulse: 88bpm'], 'Diagnosis': 'Typhoid'}\n"
     ]
    }
   ],
   "source": [
    "#Go to the Vitals in the patient_record dictionary, find the third item (index 2) and change it to Pulse: 88 bpm\n",
    "\n",
    "patient_record[\"Vitals\"][2]= \"Pulse: 88bpm\"\n",
    "print(patient_record)"
   ]
  },
  {
   "cell_type": "markdown",
   "id": "0be6d586",
   "metadata": {},
   "source": [
    "### Deleting from a Dictionary — Removing Old Records ❌🗑️"
   ]
  },
  {
   "cell_type": "code",
   "execution_count": 1447,
   "id": "f8c6c324",
   "metadata": {},
   "outputs": [
    {
     "name": "stdout",
     "output_type": "stream",
     "text": [
      "{'Name': 'Chidinma Peace', 'Vitals': ['BP: 120/80', 'Temp: 37°C', 'Pulse: 88bpm'], 'Diagnosis': 'Typhoid'}\n"
     ]
    }
   ],
   "source": [
    "#\"Remove the Age record from the patient_record dictionary.\"\n",
    "del patient_record[\"Age\"] \n",
    "\n",
    "print(patient_record)\n"
   ]
  },
  {
   "cell_type": "markdown",
   "id": "71e9b0c1",
   "metadata": {},
   "source": [
    "### Do you even know we can Loop Through Dictionaries 😀\n",
    "\n",
    "- Reading the Whole File 📂\n",
    "- Or print each record directly:"
   ]
  },
  {
   "cell_type": "code",
   "execution_count": 1448,
   "id": "5305325b",
   "metadata": {},
   "outputs": [
    {
     "name": "stdout",
     "output_type": "stream",
     "text": [
      "Name\n",
      "Chidinma Peace\n",
      "Vitals\n",
      "['BP: 120/80', 'Temp: 37°C', 'Pulse: 88bpm']\n",
      "Diagnosis\n",
      "Typhoid\n"
     ]
    }
   ],
   "source": [
    "#print everything in the dictionary:\n",
    "for key, value in patient_record.items():\n",
    "    print(key)\n",
    "    print(value)\n",
    "\n",
    "#For every key and value in the patient_record dictionary, print the key, then print the value.    "
   ]
  },
  {
   "cell_type": "code",
   "execution_count": 1449,
   "id": "97503967",
   "metadata": {},
   "outputs": [
    {
     "name": "stdout",
     "output_type": "stream",
     "text": [
      "Chidinma Peace\n",
      "['BP: 120/80', 'Temp: 37°C', 'Pulse: 88bpm']\n",
      "Typhoid\n"
     ]
    }
   ],
   "source": [
    "#just the patient’s records (the values)\n",
    "for value in patient_record.values():\n",
    "    print(value)\n",
    "\n",
    "#reads: For every value in the patient_record dictionary, print the value.    "
   ]
  },
  {
   "cell_type": "code",
   "execution_count": 1450,
   "id": "9edfe95d",
   "metadata": {},
   "outputs": [
    {
     "name": "stdout",
     "output_type": "stream",
     "text": [
      "Chidinma Peace\n",
      "['BP: 120/80', 'Temp: 37°C', 'Pulse: 88bpm']\n",
      "Typhoid\n"
     ]
    }
   ],
   "source": [
    "#print each record directly:\n",
    "for key in patient_record:\n",
    "    print(patient_record[key])\n",
    "\n",
    "#For every key in the patient_record dictionary, bring out the value connected to that key    "
   ]
  },
  {
   "cell_type": "code",
   "execution_count": 1451,
   "id": "c9094167",
   "metadata": {},
   "outputs": [
    {
     "name": "stdout",
     "output_type": "stream",
     "text": [
      "Name\n",
      "Vitals\n",
      "Diagnosis\n"
     ]
    }
   ],
   "source": [
    "#to print only the key\n",
    "for key in patient_record.keys():\n",
    "    print((key))"
   ]
  },
  {
   "cell_type": "markdown",
   "id": "be3a55c6",
   "metadata": {},
   "source": [
    "items() in dictionary prints everythin in a dictionary, values() prints only the values, and keys() prints only the keys. Use this approach and thank me later 😀🤭."
   ]
  },
  {
   "cell_type": "markdown",
   "id": "38dffcaa",
   "metadata": {},
   "source": [
    "### Tuples — Unchangeable Health Records 📁🔒  - The Immutables\n",
    "\n",
    "- Now imagine you have some patient information that should never change. For example, a patient’s date of birth or their unique hospital ID.\n",
    "- In Python, that’s where tuples come in. Tuples are like locked files. Once you create them, you can’t edit them — not even by mistake!\n",
    "- Tuples use parentheses () instead of square brackets [].\n",
    "- You can read, loop, and slice them like lists, but you can’t change their content.\n",
    "- Tuples can ontain only one item: If you want to create a tuple with just one item, you must add a comma like this: ```one_item_tuple = (\"Chidinma\",)``` Without the comma, Python will think it’s just a string, not a tuple!\n",
    "\n",
    "Let’s see one:"
   ]
  },
  {
   "cell_type": "code",
   "execution_count": 1452,
   "id": "7d37f472",
   "metadata": {},
   "outputs": [
    {
     "name": "stdout",
     "output_type": "stream",
     "text": [
      "12-June-2005\n"
     ]
    }
   ],
   "source": [
    "#Access the first item on a tuple, just like a list 🥰🤗😆\n",
    "\n",
    "patient_dob = (\"Chidinma Peace\", \"12-June-2005\", \"Female\") #\"This is a tuple called patient_dob. It stores Chidinma’s name, date of birth, and gender.\"\n",
    "\n",
    "print(patient_dob[1])\n",
    "\n",
    "#Look inside the patient_dob tuple and bring out the item in index 1 — that’s the date of birth."
   ]
  },
  {
   "cell_type": "markdown",
   "id": "30ede69a",
   "metadata": {},
   "source": [
    "### Can we change a tuple?\n",
    "\n",
    "Okay fine let's do that."
   ]
  },
  {
   "cell_type": "code",
   "execution_count": 1453,
   "id": "c38d59db",
   "metadata": {},
   "outputs": [],
   "source": [
    "#change the year of birth to 2002\n",
    "#patient_dob[1]= \"12-June-2002\""
   ]
  },
  {
   "cell_type": "markdown",
   "id": "f74b23c4",
   "metadata": {},
   "source": [
    "⚠️ Ouch! TypeError!! Python will not allow it.\n",
    "\n",
    "Tuples are immutable — meaning once you create them, you can’t change them.\n",
    "\n",
    "This is perfect for storing permanent records like patient ID numbers, registration dates, or nationalities.\n",
    "\n",
    "### Although you can loop through a loop as you would in a list, let me show you:"
   ]
  },
  {
   "cell_type": "code",
   "execution_count": 1454,
   "id": "a431795c",
   "metadata": {},
   "outputs": [
    {
     "name": "stdout",
     "output_type": "stream",
     "text": [
      "Chidinma Peace\n",
      "12-June-2005\n",
      "Female\n"
     ]
    }
   ],
   "source": [
    "#For every detail in the patient_dob tuple, print the detail\n",
    "\n",
    "for detail in patient_dob:\n",
    "    print(detail)\n"
   ]
  },
  {
   "cell_type": "markdown",
   "id": "e73baaf5",
   "metadata": {},
   "source": [
    "### Sets — Keeping Only Unique Patient IDs 💎🆔 ```set()```\n",
    "\n",
    "A set is a data structure that can only contain unique elements. \n",
    "\n",
    "- A set is unordered so it can't be accessed using indexing.\n",
    "- A set can formally be created using curly braces and ensures that each item within it is unique. \n",
    "- The elements are returned in alphabetical order.\n",
    "- A set is very useful when you only care about the unique elements within a dataset.\n",
    "\n",
    "A set in Python is like your hospital’s electronic medical records (EMR) that automatically flags duplicate patient IDs. It’s perfect when you want to keep your patient records clean, unique, and error-free.\n",
    "\n",
    "Let’s say you mistakenly recorded patient IDs like this:"
   ]
  },
  {
   "cell_type": "code",
   "execution_count": 1455,
   "id": "6a0b1b96",
   "metadata": {},
   "outputs": [
    {
     "name": "stdout",
     "output_type": "stream",
     "text": [
      "{101, 202, 303, 404, 505, 606}\n"
     ]
    }
   ],
   "source": [
    "#can you try picking only the uniques patient IDs here?  \n",
    "patient_ids = [101, 202, 101, 303, 404, 202, 505, 606, 101, 505, 202, 606]\n",
    "\n",
    "#ets clean it up using a set\n",
    "set_patient_ids = set(patient_ids)      #From the patient_ids list, create a new set called unique_patient_ids. The set will automatically remove duplicates and only show unique IDs.\n",
    "print(set_patient_ids)\n",
    "\n",
    "#this mean i dont want duplicate values, i am not interested in the number of times each item appear, but i want to know each type of thing inside this collectio or container (set)"
   ]
  },
  {
   "cell_type": "markdown",
   "id": "6fa08bcc",
   "metadata": {},
   "source": [
    "*Sets are not ordered. You can’t call items by their index — no more ‘patient_ids[3]’ here!*\n",
    "*Sets are super fast at cleaning duplicates. They love unique things — just like every patient record should be.*\n",
    "*Sets are your go-to tool when you want to quickly de-duplicate lists.*"
   ]
  },
  {
   "cell_type": "markdown",
   "id": "5ef48ed4",
   "metadata": {},
   "source": [
    "### A Quick Comparison of Lists, Tuples, Dictionaries and Sets."
   ]
  },
  {
   "cell_type": "code",
   "execution_count": 1456,
   "id": "5abfbea1",
   "metadata": {},
   "outputs": [
    {
     "name": "stdout",
     "output_type": "stream",
     "text": [
      "Requirement already satisfied: tabulate in c:\\users\\ahuna\\miniconda3\\lib\\site-packages (0.9.0)\n",
      "╒══════════════════╤════════════════════════════╤═══════════════════════════════════════════╤══════════════════════╕\n",
      "│ Data Structure   │ Simple Meaning             │ Python Behavior                           │ Healthcare Example   │\n",
      "╞══════════════════╪════════════════════════════╪═══════════════════════════════════════════╪══════════════════════╡\n",
      "│ List             │ You can change and reorder │ Ordered, Editable, Duplicates Allowed     │ Patient Queue        │\n",
      "├──────────────────┼────────────────────────────┼───────────────────────────────────────────┼──────────────────────┤\n",
      "│ Tuple            │ You cannot change it       │ Ordered, Not Editable, Duplicates Allowed │ Birth Details        │\n",
      "├──────────────────┼────────────────────────────┼───────────────────────────────────────────┼──────────────────────┤\n",
      "│ Dictionary       │ Labels linked to details   │ Key-Value, Editable, Fast Lookups         │ Patient File         │\n",
      "├──────────────────┼────────────────────────────┼───────────────────────────────────────────┼──────────────────────┤\n",
      "│ Set              │ Only unique items          │ Unordered, No Duplicates                  │ Patient ID Register  │\n",
      "╘══════════════════╧════════════════════════════╧═══════════════════════════════════════════╧══════════════════════╛\n"
     ]
    }
   ],
   "source": [
    "import sys\n",
    "!{sys.executable} -m pip install tabulate\n",
    "\n",
    "from tabulate import tabulate\n",
    "\n",
    "# List of rows\n",
    "table = [\n",
    "    [\"List\", \"You can change and reorder\", \"Ordered, Editable, Duplicates Allowed\", \"Patient Queue\"],\n",
    "    [\"Tuple\", \"You cannot change it\", \"Ordered, Not Editable, Duplicates Allowed\", \"Birth Details\"],\n",
    "    [\"Dictionary\", \"Labels linked to details\", \"Key-Value, Editable, Fast Lookups\", \"Patient File\"],\n",
    "    [\"Set\", \"Only unique items\", \"Unordered, No Duplicates\", \"Patient ID Register\"]\n",
    "]\n",
    "\n",
    "# Headers\n",
    "headers = [\"Data Structure\", \"Simple Meaning\", \"Python Behavior\", \"Healthcare Example\"]\n",
    "\n",
    "# Print table\n",
    "print(tabulate(table, headers, tablefmt=\"fancy_grid\"))\n"
   ]
  },
  {
   "cell_type": "markdown",
   "id": "4a14dba4",
   "metadata": {},
   "source": [
    "Lists → The Flexible Queue\n",
    "- Think: Patient waiting list.\n",
    "- You can add, remove, reorder, and yes — someone’s name can appear twice (if someone registers twice by mistake).\n",
    "```patient_queue = [\"Sandra\", \"Ahmed\", \"Sandra\"]```\n",
    "\n",
    "Tuples → The Permanent Record\n",
    "- Think: Birth record or blood type.\n",
    "- Once it’s recorded, you don’t just go and change it anyhow.\n",
    "```birth_record = (\"Chidinma\", \"O+\", \"14-Feb-1998\")```\n",
    "\n",
    "Dictionaries → The Complete File\n",
    "- Think: A patient’s folder.\n",
    "- You can quickly look up details by labels — like \"Name\", \"Age\", or \"Diagnosis\".\n",
    "```patient_file = {\"Name\": \"Sandra\", \"Age\": 35, \"Diagnosis\": \"Hypertension\"}```\n",
    "\n",
    "Sets → The Clean ID Register\n",
    "- Think: EMR patient IDs — unique only.\n",
    "- Even if you mistakenly type an ID twice, Python will quietly remove the duplicate for you.\n",
    "```patient_ids = {101, 202, 303}```\n"
   ]
  },
  {
   "cell_type": "markdown",
   "id": "aa7261b8",
   "metadata": {},
   "source": [
    "##### Wow! We’ve covered alot: Lists, Slicing, Step sizes, Loops, Conditionals, List Comprehensions, Dictionaries, and Sets. And we’ve done all these with a healthcare flavor and lots of smiles. 🤭🥰"
   ]
  },
  {
   "cell_type": "markdown",
   "id": "a313cdfd",
   "metadata": {},
   "source": [
    "# ¡Seguimos en la próxima, nos vemos prontito! 🙋‍♀️"
   ]
  }
 ],
 "metadata": {
  "kernelspec": {
   "display_name": "base",
   "language": "python",
   "name": "python3"
  },
  "language_info": {
   "codemirror_mode": {
    "name": "ipython",
    "version": 3
   },
   "file_extension": ".py",
   "mimetype": "text/x-python",
   "name": "python",
   "nbconvert_exporter": "python",
   "pygments_lexer": "ipython3",
   "version": "3.12.10"
  }
 },
 "nbformat": 4,
 "nbformat_minor": 5
}
