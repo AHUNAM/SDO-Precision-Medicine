{
 "cells": [
  {
   "cell_type": "markdown",
   "id": "49fd7880",
   "metadata": {},
   "source": [
    "# ¡Buenos Dias! ☀️🌞"
   ]
  },
  {
   "cell_type": "markdown",
   "id": "ea37bce1",
   "metadata": {},
   "source": [
    "Come, come — let me show you how far I’ve come! 😀  "
   ]
  },
  {
   "cell_type": "markdown",
   "id": "2d6e572a",
   "metadata": {},
   "source": [
    "*from learning `Python Data Types` to applying them for healthcare — it's happening! Shhh... this glow-up was inspired by my training at Standard Data Ocean.*   "
   ]
  },
  {
   "cell_type": "markdown",
   "id": "c77f6740",
   "metadata": {},
   "source": [
    "- Just like every other programming language, this is my first print statement on python!!! 😂🤭🤗"
   ]
  },
  {
   "cell_type": "code",
   "execution_count": 1014,
   "id": "f841f138",
   "metadata": {},
   "outputs": [
    {
     "name": "stdout",
     "output_type": "stream",
     "text": [
      "hello!, VS code and Jupyter notebook!!\n"
     ]
    }
   ],
   "source": [
    "print(\"hello!, VS code and Jupyter notebook!!\")"
   ]
  },
  {
   "cell_type": "markdown",
   "id": "0fc51593",
   "metadata": {},
   "source": [
    "So what Operators can we find in Python?"
   ]
  },
  {
   "cell_type": "markdown",
   "id": "743302b5",
   "metadata": {},
   "source": [
    "- Numericals 🔢"
   ]
  },
  {
   "cell_type": "code",
   "execution_count": 1015,
   "id": "a29c6113",
   "metadata": {},
   "outputs": [
    {
     "data": {
      "text/plain": [
       "5"
      ]
     },
     "execution_count": 1015,
     "metadata": {},
     "output_type": "execute_result"
    }
   ],
   "source": [
    "#Numbers (deals with integers and float expressions), these are the common expressions: \n",
    "3+2  #addition"
   ]
  },
  {
   "cell_type": "code",
   "execution_count": 1016,
   "id": "786aba5a",
   "metadata": {},
   "outputs": [
    {
     "data": {
      "text/plain": [
       "1"
      ]
     },
     "execution_count": 1016,
     "metadata": {},
     "output_type": "execute_result"
    }
   ],
   "source": [
    "3-2  #subtraction"
   ]
  },
  {
   "cell_type": "code",
   "execution_count": 1017,
   "id": "b5df4989",
   "metadata": {},
   "outputs": [
    {
     "data": {
      "text/plain": [
       "1.5"
      ]
     },
     "execution_count": 1017,
     "metadata": {},
     "output_type": "execute_result"
    }
   ],
   "source": [
    "3/2  #division (always returns a float)"
   ]
  },
  {
   "cell_type": "code",
   "execution_count": 1018,
   "id": "6872fa59",
   "metadata": {},
   "outputs": [
    {
     "data": {
      "text/plain": [
       "1"
      ]
     },
     "execution_count": 1018,
     "metadata": {},
     "output_type": "execute_result"
    }
   ],
   "source": [
    "3//2 #floor_division (always returns the integer of the division and ignores the decimal float or remainder)"
   ]
  },
  {
   "cell_type": "code",
   "execution_count": 1019,
   "id": "0a0592be",
   "metadata": {},
   "outputs": [
    {
     "data": {
      "text/plain": [
       "1"
      ]
     },
     "execution_count": 1019,
     "metadata": {},
     "output_type": "execute_result"
    }
   ],
   "source": [
    "3%2  #modulus (always returns the decimal(float or remainder) of the division and ignores the integer)"
   ]
  },
  {
   "cell_type": "code",
   "execution_count": 1020,
   "id": "6a588ebc",
   "metadata": {},
   "outputs": [
    {
     "data": {
      "text/plain": [
       "9"
      ]
     },
     "execution_count": 1020,
     "metadata": {},
     "output_type": "execute_result"
    }
   ],
   "source": [
    "3**2 #exponentiation (this is python's representation of raised to the power of)\n"
   ]
  },
  {
   "cell_type": "markdown",
   "id": "602f59e6",
   "metadata": {},
   "source": [
    "What of writing (coding) extra info not related to the codes, say a guideline or comment?\n",
    "- Comments 🗨️"
   ]
  },
  {
   "cell_type": "code",
   "execution_count": 1021,
   "id": "78e58c0d",
   "metadata": {},
   "outputs": [],
   "source": [
    "# Comments \n",
    "#This is a comment, a comment is written with a # symbol in front\n",
    "# As you're learning Python, use comments to take notes to remember key concepts and to enhance your understanding."
   ]
  },
  {
   "cell_type": "markdown",
   "id": "1f50f399",
   "metadata": {},
   "source": [
    "Or coding anything you do not want to identify as numbers\n",
    "- Strings 🔡"
   ]
  },
  {
   "cell_type": "code",
   "execution_count": 1022,
   "id": "f5344615",
   "metadata": {},
   "outputs": [
    {
     "data": {
      "text/plain": [
       "'I am learning python for health'"
      ]
     },
     "execution_count": 1022,
     "metadata": {},
     "output_type": "execute_result"
    }
   ],
   "source": [
    "# Strings\n",
    "# These are characters wrapped as a text, so even if its a number python will see it as a text. \n",
    "# Strings are written with single quotes ' ' or double quotes \"\"\n",
    "# if an apostrophe is used ', double quotes must be used to differentiate them\n",
    "\"I am learning python for health\"  # <<< double quotes"
   ]
  },
  {
   "cell_type": "code",
   "execution_count": 1023,
   "id": "2ac803ee",
   "metadata": {},
   "outputs": [
    {
     "data": {
      "text/plain": [
       "'I am learning python for health'"
      ]
     },
     "execution_count": 1023,
     "metadata": {},
     "output_type": "execute_result"
    }
   ],
   "source": [
    "'I am learning python for health' # <<< single quotes (returns ame result as double quote)"
   ]
  },
  {
   "cell_type": "code",
   "execution_count": 1024,
   "id": "f6d0e342",
   "metadata": {},
   "outputs": [
    {
     "data": {
      "text/plain": [
       "\"You are learning python for health! Aren't you\""
      ]
     },
     "execution_count": 1024,
     "metadata": {},
     "output_type": "execute_result"
    }
   ],
   "source": [
    "\"You are learning python for health! Aren't you\"  # <<< with apostrophe"
   ]
  },
  {
   "cell_type": "markdown",
   "id": "314294d7",
   "metadata": {},
   "source": [
    "How can we save things to use them later? \n",
    "- Variables 🗳️"
   ]
  },
  {
   "cell_type": "code",
   "execution_count": 1025,
   "id": "e6b74079",
   "metadata": {},
   "outputs": [
    {
     "name": "stdout",
     "output_type": "stream",
     "text": [
      "Sandra\n"
     ]
    }
   ],
   "source": [
    "#Variables - these are name values, like labelling or given your value a name.\n",
    "#python also updates variables when they are changed, like it keeps the current information. \n",
    "#Tips: can only be one word, if more than one separate with _ , dont start with a number, but it can contain a number.\n",
    "# For example:\n",
    "patient_name= \"Sandra\"\n",
    "print (patient_name)"
   ]
  },
  {
   "cell_type": "code",
   "execution_count": 1026,
   "id": "fc9e71dd",
   "metadata": {},
   "outputs": [
    {
     "name": "stdout",
     "output_type": "stream",
     "text": [
      "Ginika\n"
     ]
    }
   ],
   "source": [
    "#update patient_name to Ginika  \n",
    "patient_name=\"Ginika\" #saves this name, forgets Sandra\n",
    "print (patient_name)"
   ]
  },
  {
   "cell_type": "code",
   "execution_count": 1027,
   "id": "3b61f521",
   "metadata": {},
   "outputs": [
    {
     "name": "stdout",
     "output_type": "stream",
     "text": [
      "37500\n"
     ]
    }
   ],
   "source": [
    "#Applying variable knowledge\n",
    "number_of_screenings = 25\n",
    "cost_per_screening = 1500\n",
    "target_population = 30\n",
    "cervical_program_cost = number_of_screenings*cost_per_screening\n",
    "cervical_program_budget= cost_per_screening*target_population\n",
    "print(cervical_program_cost)"
   ]
  },
  {
   "cell_type": "markdown",
   "id": "04dc70d3",
   "metadata": {},
   "source": [
    "Say you want to print statements and still call a variable within it 🤔\n",
    "- Print Formatting 🖨️"
   ]
  },
  {
   "cell_type": "code",
   "execution_count": 1028,
   "id": "41443d73",
   "metadata": {},
   "outputs": [
    {
     "name": "stdout",
     "output_type": "stream",
     "text": [
      "With a total budget of $45000 and target population of 30, carved out for the free cervical screening. We only spent $37500, after conducting 25 screenings. Leaving us with only $5 in the bank.\n"
     ]
    }
   ],
   "source": [
    "#if you want your result to be in a sentence structure, with the result of the variable still outputed within it,\n",
    "#Print formatting is your best choice - and this can be done in 2 ways\n",
    "#1st Method\n",
    "## use .format(first_variable, seond_variable) outside the string quotes and use empty curly {} braces to indicate the position of the variable within the sentence.\n",
    "print(\"With a total budget of ${} and target population of {}, carved out for the free cervical screening. We only spent ${}, after conducting {} screenings. Leaving us with only ${} in the bank.\".format(cervical_program_budget, target_population, cervical_program_cost, number_of_screenings, target_population-number_of_screenings))"
   ]
  },
  {
   "cell_type": "code",
   "execution_count": 1029,
   "id": "dfbbe6d2",
   "metadata": {},
   "outputs": [
    {
     "name": "stdout",
     "output_type": "stream",
     "text": [
      "With a total budget of $45000 and target population of 30, carved out for the free cervical screening. We only spent $37500, after conducting 25 screenings. Leaving us with only $5 in the bank.\n"
     ]
    }
   ],
   "source": [
    "#2nd Method\n",
    "## use f-string just put an f within the print bracket before the first string quote, and place the curly braces {}, the positions you want each variable to be.\n",
    "print(f\"With a total budget of ${cervical_program_budget} and target population of {target_population}, carved out for the free cervical screening. We only spent ${cervical_program_cost}, after conducting {number_of_screenings} screenings. Leaving us with only ${target_population-number_of_screenings} in the bank.\")"
   ]
  },
  {
   "cell_type": "markdown",
   "id": "94c7b281",
   "metadata": {},
   "source": [
    "- Unpacking/Multiple Variables"
   ]
  },
  {
   "cell_type": "code",
   "execution_count": 1030,
   "id": "465b7047",
   "metadata": {},
   "outputs": [
    {
     "name": "stdout",
     "output_type": "stream",
     "text": [
      "fever\n"
     ]
    }
   ],
   "source": [
    "#Do you know that you can assign or store more than one variable on the same line of code by separating them by a comma, and making sure the number of variables = the number of value\n",
    "patient_a, patient_b, patient_c = \"fever\", \"cough\", \"cold\"\n",
    "print(patient_a)"
   ]
  },
  {
   "cell_type": "code",
   "execution_count": 1031,
   "id": "4382fdcc",
   "metadata": {},
   "outputs": [
    {
     "name": "stdout",
     "output_type": "stream",
     "text": [
      "fever has fever\n"
     ]
    }
   ],
   "source": [
    "#Application\n",
    "print(f\"{patient_a} has {patient_a}\")"
   ]
  },
  {
   "cell_type": "code",
   "execution_count": 1032,
   "id": "fb0ce760",
   "metadata": {},
   "outputs": [
    {
     "name": "stdout",
     "output_type": "stream",
     "text": [
      "patient_a has fever\n"
     ]
    }
   ],
   "source": [
    "#Application\n",
    "print(f\"patient_a has {patient_a}\")"
   ]
  },
  {
   "cell_type": "markdown",
   "id": "7a8b495a",
   "metadata": {},
   "source": [
    "Let's make variables mutable! I mean Unchangeable, don't reason it too much\n",
    "- Constants"
   ]
  },
  {
   "cell_type": "code",
   "execution_count": 1033,
   "id": "967e90fc",
   "metadata": {},
   "outputs": [],
   "source": [
    "#CONSTANTS\n",
    "#if we do not want a variable to change, we better declare them as constants, that way, python sees it as immutable\n",
    "ORGANIZATION_NAME = \"Stanford Data Ocean\"\n",
    "PROGRAM_NAME = \"Stanford Data Ocean Precision Medicine Program\"\n",
    "TRACK = \"Bioinformatics Certificate\"\n",
    "COURSE = \"Introduction to Python\""
   ]
  },
  {
   "cell_type": "markdown",
   "id": "6e3d5da3",
   "metadata": {},
   "source": [
    "And when we want to be sure of something or want some clarification 🧠\n",
    "- Conditional Operators"
   ]
  },
  {
   "cell_type": "markdown",
   "id": "519a5dc5",
   "metadata": {},
   "source": [
    "Booleans\n",
    "- True\n",
    "- False"
   ]
  },
  {
   "cell_type": "code",
   "execution_count": 1034,
   "id": "e7f9673a",
   "metadata": {},
   "outputs": [
    {
     "data": {
      "text/plain": [
       "1"
      ]
     },
     "execution_count": 1034,
     "metadata": {},
     "output_type": "execute_result"
    }
   ],
   "source": [
    "#This is needed when you want to code statements that can either be right or wrong, true or false, yes or no, or in-between etc.\n",
    "#The integer value can either be 1 or 0, 1 for true and 0 for false.\n",
    "int(True)"
   ]
  },
  {
   "cell_type": "code",
   "execution_count": 1035,
   "id": "0e26d7b0",
   "metadata": {},
   "outputs": [
    {
     "data": {
      "text/plain": [
       "0"
      ]
     },
     "execution_count": 1035,
     "metadata": {},
     "output_type": "execute_result"
    }
   ],
   "source": [
    "int(False)"
   ]
  },
  {
   "cell_type": "markdown",
   "id": "bd4d2eaa",
   "metadata": {},
   "source": [
    "How do we use booleans to interprete conditions? 🤔"
   ]
  },
  {
   "cell_type": "code",
   "execution_count": 1036,
   "id": "89cf12ac",
   "metadata": {},
   "outputs": [
    {
     "data": {
      "text/plain": [
       "True"
      ]
     },
     "execution_count": 1036,
     "metadata": {},
     "output_type": "execute_result"
    }
   ],
   "source": [
    "#with and\n",
    "True and True #means both conditions are true so, the answer must be true, just like + + + will always be +, see and as plus sign"
   ]
  },
  {
   "cell_type": "code",
   "execution_count": 1037,
   "id": "6c76e125",
   "metadata": {},
   "outputs": [
    {
     "data": {
      "text/plain": [
       "False"
      ]
     },
     "execution_count": 1037,
     "metadata": {},
     "output_type": "execute_result"
    }
   ],
   "source": [
    "True and False #+ + - = -, one condition is not true, so this will return false"
   ]
  },
  {
   "cell_type": "code",
   "execution_count": 1038,
   "id": "c516cf46",
   "metadata": {},
   "outputs": [
    {
     "data": {
      "text/plain": [
       "True"
      ]
     },
     "execution_count": 1038,
     "metadata": {},
     "output_type": "execute_result"
    }
   ],
   "source": [
    "#with or \n",
    "True or False #means if any condition is true, even if it's one, he result will be positive"
   ]
  },
  {
   "cell_type": "code",
   "execution_count": 1039,
   "id": "cd000ba1",
   "metadata": {},
   "outputs": [
    {
     "data": {
      "text/plain": [
       "True"
      ]
     },
     "execution_count": 1039,
     "metadata": {},
     "output_type": "execute_result"
    }
   ],
   "source": [
    "True or True"
   ]
  },
  {
   "cell_type": "code",
   "execution_count": 1040,
   "id": "b1a1c38d",
   "metadata": {},
   "outputs": [
    {
     "data": {
      "text/plain": [
       "False"
      ]
     },
     "execution_count": 1040,
     "metadata": {},
     "output_type": "execute_result"
    }
   ],
   "source": [
    "#with not \n",
    "#use when you want to return the opposite\n",
    "not True #will return its opposite"
   ]
  },
  {
   "cell_type": "code",
   "execution_count": 1041,
   "id": "790ca392",
   "metadata": {},
   "outputs": [
    {
     "data": {
      "text/plain": [
       "True"
      ]
     },
     "execution_count": 1041,
     "metadata": {},
     "output_type": "execute_result"
    }
   ],
   "source": [
    "not False"
   ]
  },
  {
   "cell_type": "markdown",
   "id": "142a1128",
   "metadata": {},
   "source": [
    "We can also use Operators as Conditionals"
   ]
  },
  {
   "cell_type": "code",
   "execution_count": 1042,
   "id": "85b910b4",
   "metadata": {},
   "outputs": [
    {
     "data": {
      "text/plain": [
       "True"
      ]
     },
     "execution_count": 1042,
     "metadata": {},
     "output_type": "execute_result"
    }
   ],
   "source": [
    "#instead of using booleans we ca decide to use arithmetic operators to code conditions\n",
    "#if the conditional statement is correct/true it will return True, but if it's not correct/true it will return false\n",
    "1 < 20 #askes python, \"is 1 less than 20?\" and it says yes in code (True)"
   ]
  },
  {
   "cell_type": "code",
   "execution_count": 1043,
   "id": "e6198ea4",
   "metadata": {},
   "outputs": [
    {
     "data": {
      "text/plain": [
       "False"
      ]
     },
     "execution_count": 1043,
     "metadata": {},
     "output_type": "execute_result"
    }
   ],
   "source": [
    "20 < 1 # is 20 less than 1? and it says no in code (False)"
   ]
  },
  {
   "cell_type": "code",
   "execution_count": 1044,
   "id": "1e2ddcb3",
   "metadata": {},
   "outputs": [
    {
     "data": {
      "text/plain": [
       "True"
      ]
     },
     "execution_count": 1044,
     "metadata": {},
     "output_type": "execute_result"
    }
   ],
   "source": [
    "20 > 1 #is 20 greater than 1?"
   ]
  },
  {
   "cell_type": "code",
   "execution_count": 1045,
   "id": "0e1c76f0",
   "metadata": {},
   "outputs": [
    {
     "data": {
      "text/plain": [
       "True"
      ]
     },
     "execution_count": 1045,
     "metadata": {},
     "output_type": "execute_result"
    }
   ],
   "source": [
    "20 >= 1 #is 20 greater than or equal to 1?"
   ]
  },
  {
   "cell_type": "code",
   "execution_count": 1046,
   "id": "ccd7d029",
   "metadata": {},
   "outputs": [
    {
     "data": {
      "text/plain": [
       "False"
      ]
     },
     "execution_count": 1046,
     "metadata": {},
     "output_type": "execute_result"
    }
   ],
   "source": [
    "20 <= 1 #20 less than or equal to 1?"
   ]
  },
  {
   "cell_type": "code",
   "execution_count": 1047,
   "id": "c2936447",
   "metadata": {},
   "outputs": [
    {
     "data": {
      "text/plain": [
       "True"
      ]
     },
     "execution_count": 1047,
     "metadata": {},
     "output_type": "execute_result"
    }
   ],
   "source": [
    "20 != 1 #confirming if 20 is not equal to 1"
   ]
  },
  {
   "cell_type": "code",
   "execution_count": 1048,
   "id": "198107a7",
   "metadata": {},
   "outputs": [
    {
     "data": {
      "text/plain": [
       "False"
      ]
     },
     "execution_count": 1048,
     "metadata": {},
     "output_type": "execute_result"
    }
   ],
   "source": [
    "20 == 1 #confirming if 20 is equal to 1"
   ]
  },
  {
   "cell_type": "code",
   "execution_count": 1049,
   "id": "e0f47e92",
   "metadata": {},
   "outputs": [
    {
     "data": {
      "text/plain": [
       "False"
      ]
     },
     "execution_count": 1049,
     "metadata": {},
     "output_type": "execute_result"
    }
   ],
   "source": [
    "# we can also do same with string variables see,\n",
    "\"chidinma\" == \"chidima\""
   ]
  },
  {
   "cell_type": "code",
   "execution_count": 1050,
   "id": "e15f1f59",
   "metadata": {},
   "outputs": [
    {
     "data": {
      "text/plain": [
       "False"
      ]
     },
     "execution_count": 1050,
     "metadata": {},
     "output_type": "execute_result"
    }
   ],
   "source": [
    "ORGANIZATION_NAME == PROGRAM_NAME"
   ]
  },
  {
   "cell_type": "code",
   "execution_count": 1051,
   "id": "6f1bf120",
   "metadata": {},
   "outputs": [
    {
     "data": {
      "text/plain": [
       "True"
      ]
     },
     "execution_count": 1051,
     "metadata": {},
     "output_type": "execute_result"
    }
   ],
   "source": [
    "ORG_NAME = \"Stanford Data Ocean\"\n",
    "ORGANIZATION_NAME == ORG_NAME #you can see this return true because literally the 2 variables store the same value (scroll upwards to see ORGANIZATION_NAME value)"
   ]
  },
  {
   "cell_type": "code",
   "execution_count": 1052,
   "id": "f7920151",
   "metadata": {},
   "outputs": [
    {
     "data": {
      "text/plain": [
       "False"
      ]
     },
     "execution_count": 1052,
     "metadata": {},
     "output_type": "execute_result"
    }
   ],
   "source": [
    "#so far the condition is correct, the statement will return true, else false, please study below\n",
    "\"chidinma\" == \"chidima\""
   ]
  },
  {
   "cell_type": "code",
   "execution_count": 1053,
   "id": "ae1bda31",
   "metadata": {},
   "outputs": [
    {
     "data": {
      "text/plain": [
       "True"
      ]
     },
     "execution_count": 1053,
     "metadata": {},
     "output_type": "execute_result"
    }
   ],
   "source": [
    "\"chidinma\" == \"chidinma\" #words are the same"
   ]
  },
  {
   "cell_type": "code",
   "execution_count": 1054,
   "id": "f82f230e",
   "metadata": {},
   "outputs": [
    {
     "data": {
      "text/plain": [
       "True"
      ]
     },
     "execution_count": 1054,
     "metadata": {},
     "output_type": "execute_result"
    }
   ],
   "source": [
    "\"chidinma\" == 'chidinma' #double and single quotes are the same thing, however note that you cannot use single quotes on the left side\n",
    "                         #it is always ideal to use double quotes for the comparison variable while the single quote for assignments, though both will run."
   ]
  },
  {
   "cell_type": "code",
   "execution_count": 1055,
   "id": "d0bdcfba",
   "metadata": {},
   "outputs": [
    {
     "data": {
      "text/plain": [
       "True"
      ]
     },
     "execution_count": 1055,
     "metadata": {},
     "output_type": "execute_result"
    }
   ],
   "source": [
    "'chidinma'==\"chidinma\"  \n",
    "#read the line comment above, also string comparison can be useful, when comparing if the text a person entered is equaivalent to the saved password."
   ]
  },
  {
   "cell_type": "markdown",
   "id": "857f934d",
   "metadata": {},
   "source": [
    "Say we want to convert a variable type to another....\n",
    "- Casting ↪↩"
   ]
  },
  {
   "cell_type": "code",
   "execution_count": 1056,
   "id": "0fa51f1d",
   "metadata": {},
   "outputs": [
    {
     "data": {
      "text/plain": [
       "14"
      ]
     },
     "execution_count": 1056,
     "metadata": {},
     "output_type": "execute_result"
    }
   ],
   "source": [
    "#to convert a type, just wrap the variable name in the type \n",
    "int(14.2) #(! an integer will always givee you a round number, so you can use it for round ups)"
   ]
  },
  {
   "cell_type": "code",
   "execution_count": 1057,
   "id": "3d9acd76",
   "metadata": {},
   "outputs": [
    {
     "data": {
      "text/plain": [
       "14.0"
      ]
     },
     "execution_count": 1057,
     "metadata": {},
     "output_type": "execute_result"
    }
   ],
   "source": [
    "float(14) # converting it back to float"
   ]
  },
  {
   "cell_type": "code",
   "execution_count": 1058,
   "id": "1f7f83b7",
   "metadata": {},
   "outputs": [
    {
     "data": {
      "text/plain": [
       "True"
      ]
     },
     "execution_count": 1058,
     "metadata": {},
     "output_type": "execute_result"
    }
   ],
   "source": [
    "bool(1)"
   ]
  },
  {
   "cell_type": "code",
   "execution_count": 1059,
   "id": "a0d3080b",
   "metadata": {},
   "outputs": [
    {
     "data": {
      "text/plain": [
       "'1'"
      ]
     },
     "execution_count": 1059,
     "metadata": {},
     "output_type": "execute_result"
    }
   ],
   "source": [
    "str(1)"
   ]
  },
  {
   "cell_type": "markdown",
   "id": "880a64a5",
   "metadata": {},
   "source": [
    "# ¡hasta pronto! 🙋‍♀️"
   ]
  }
 ],
 "metadata": {
  "kernelspec": {
   "display_name": "base",
   "language": "python",
   "name": "python3"
  },
  "language_info": {
   "codemirror_mode": {
    "name": "ipython",
    "version": 3
   },
   "file_extension": ".py",
   "mimetype": "text/x-python",
   "name": "python",
   "nbconvert_exporter": "python",
   "pygments_lexer": "ipython3",
   "version": "3.12.10"
  }
 },
 "nbformat": 4,
 "nbformat_minor": 5
}
