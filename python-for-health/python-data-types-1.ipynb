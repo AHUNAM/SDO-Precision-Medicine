{
 "cells": [
  {
   "cell_type": "markdown",
   "id": "49fd7880",
   "metadata": {},
   "source": [
    "# ¡Buenos Dias! ☀️🌞 My lovelies...."
   ]
  },
  {
   "cell_type": "markdown",
   "id": "ea37bce1",
   "metadata": {},
   "source": [
    "So I jumped on this course on ```Python Data Types```, and started applying them for healthcare. \n",
    "\n",
    "Guess what? \n",
    "\n",
    "It's been amazing so far! \n",
    "\n",
    "After a year of struggling with Python, I am really believing this glow-up is really happening --- All thanks to my training at Standard Data Ocean. 🤭   \n",
    "\n",
    "##### Walk with me, let me show you what i have learnt."
   ]
  },
  {
   "cell_type": "markdown",
   "id": "c77f6740",
   "metadata": {},
   "source": [
    "...and just like every other programming language, I wrote(code, its actualy code, lol) my first print statement on python!!! 👇"
   ]
  },
  {
   "cell_type": "code",
   "execution_count": 331,
   "id": "f841f138",
   "metadata": {},
   "outputs": [
    {
     "name": "stdout",
     "output_type": "stream",
     "text": [
      "hello!, VS code and Jupyter notebook!!\n"
     ]
    }
   ],
   "source": [
    "print(\"hello!, VS code and Jupyter notebook!!\")"
   ]
  },
  {
   "cell_type": "markdown",
   "id": "602f59e6",
   "metadata": {},
   "source": [
    "Before we dive deep in let me just hint you! \n",
    "\n",
    "Okay this is it, when we need to code extra info, i mean things not related to the codes, say like an extra guide to the reader or write ups to help you remember what each code is for, in Python we just put them in \n",
    "### Comments 🗨️\n",
    "i hope you see my comments as you go through this notebook, (in whispers: commenting is a skill, not everyone gets it immediately as you can see below, but you just try)"
   ]
  },
  {
   "cell_type": "code",
   "execution_count": 332,
   "id": "78e58c0d",
   "metadata": {},
   "outputs": [],
   "source": [
    "# Comments \n",
    "#This is a comment, a comment is written with a # symbol in front\n",
    "# As you're learning Python, use comments to take notes to remember key concepts and to enhance your understanding."
   ]
  },
  {
   "cell_type": "markdown",
   "id": "743302b5",
   "metadata": {},
   "source": [
    "In every programming language, one of the first set of things you get meet is \n",
    "\n",
    "### Data Types and Operators\n",
    "\n",
    "Don't fret is very easy, you may know them as well, but not have put labels on them... I will rather categorize them for you, instead of splitting them, that way you would always remember. Don't say i didn't do something nice for you 😂 *one day i knew i was going to use that line*"
   ]
  },
  {
   "cell_type": "markdown",
   "id": "0c6b4a5e",
   "metadata": {},
   "source": [
    "### 1. Numericals \n",
    "- Integers\n",
    "- Floats \n",
    "\n",
    "Numericals, can either be integers as a whole number for example `5`, or floats as in numbers with decimals for example `5.0`.\n",
    "\n",
    "And they all work with the operators below 👇"
   ]
  },
  {
   "cell_type": "code",
   "execution_count": 333,
   "id": "a29c6113",
   "metadata": {},
   "outputs": [
    {
     "data": {
      "text/plain": [
       "5"
      ]
     },
     "execution_count": 333,
     "metadata": {},
     "output_type": "execute_result"
    }
   ],
   "source": [
    "# `+` addition (adds numericals)\n",
    "\n",
    "3+2 "
   ]
  },
  {
   "cell_type": "code",
   "execution_count": 334,
   "id": "786aba5a",
   "metadata": {},
   "outputs": [
    {
     "data": {
      "text/plain": [
       "1"
      ]
     },
     "execution_count": 334,
     "metadata": {},
     "output_type": "execute_result"
    }
   ],
   "source": [
    "# `-` subtraction (minuses numericals)\n",
    "\n",
    "3-2  "
   ]
  },
  {
   "cell_type": "code",
   "execution_count": 335,
   "id": "b5df4989",
   "metadata": {},
   "outputs": [
    {
     "data": {
      "text/plain": [
       "1.5"
      ]
     },
     "execution_count": 335,
     "metadata": {},
     "output_type": "execute_result"
    }
   ],
   "source": [
    "# `/` division (divides numericals to always return the complete float)\n",
    "\n",
    "3/2 "
   ]
  },
  {
   "cell_type": "code",
   "execution_count": 336,
   "id": "6872fa59",
   "metadata": {},
   "outputs": [
    {
     "data": {
      "text/plain": [
       "2"
      ]
     },
     "execution_count": 336,
     "metadata": {},
     "output_type": "execute_result"
    }
   ],
   "source": [
    "# `//`floor_division (divides numericals to always return only the wholenumber in the float)\n",
    "\n",
    "5//2 "
   ]
  },
  {
   "cell_type": "code",
   "execution_count": 337,
   "id": "0a0592be",
   "metadata": {},
   "outputs": [
    {
     "data": {
      "text/plain": [
       "1"
      ]
     },
     "execution_count": 337,
     "metadata": {},
     "output_type": "execute_result"
    }
   ],
   "source": [
    "# `%`modulus (divides numericals to always return only the remainder (the decimal or float part))\n",
    "\n",
    "3%2  "
   ]
  },
  {
   "cell_type": "code",
   "execution_count": 338,
   "id": "6a588ebc",
   "metadata": {},
   "outputs": [
    {
     "data": {
      "text/plain": [
       "9"
      ]
     },
     "execution_count": 338,
     "metadata": {},
     "output_type": "execute_result"
    }
   ],
   "source": [
    "# `**`exponentiation (simply raised to the power of 😂)\n",
    "\n",
    "3**2 "
   ]
  },
  {
   "cell_type": "markdown",
   "id": "1f50f399",
   "metadata": {},
   "source": [
    "Anything that is not a number, not a numerical is identified and called a\n",
    "\n",
    "### 2. String 🔡\n",
    "\n",
    "Strings are characters wrapped as a text, so even if its a number python will see it as a text, *emojis are strings, punctuations are strings etc.*\n",
    "- They are written with single quotes ' ' or double quotes \"\"\n",
    "- If you want to use apostrophe is used ', you use double quotes to differentiate them so python see's it as a string in punctuation format."
   ]
  },
  {
   "cell_type": "code",
   "execution_count": 339,
   "id": "f5344615",
   "metadata": {},
   "outputs": [
    {
     "data": {
      "text/plain": [
       "'I am learning python for health'"
      ]
     },
     "execution_count": 339,
     "metadata": {},
     "output_type": "execute_result"
    }
   ],
   "source": [
    "# \"\" double quotes\n",
    "\n",
    "\"I am learning python for health\"  "
   ]
  },
  {
   "cell_type": "code",
   "execution_count": 340,
   "id": "2ac803ee",
   "metadata": {},
   "outputs": [
    {
     "data": {
      "text/plain": [
       "'I am learning python for health'"
      ]
     },
     "execution_count": 340,
     "metadata": {},
     "output_type": "execute_result"
    }
   ],
   "source": [
    "# '' single quotes (returns ame result as double quote)\n",
    "\n",
    "'I am learning python for health' "
   ]
  },
  {
   "cell_type": "code",
   "execution_count": 341,
   "id": "f6d0e342",
   "metadata": {},
   "outputs": [
    {
     "data": {
      "text/plain": [
       "\"You are learning python for health! Aren't you\""
      ]
     },
     "execution_count": 341,
     "metadata": {},
     "output_type": "execute_result"
    }
   ],
   "source": [
    "# \"'\" with apostrophe <-- double quotes and single quotes together. Python see's ' as a string instead.\n",
    "\n",
    "\"You are learning python for health! Aren't you\"  "
   ]
  },
  {
   "cell_type": "markdown",
   "id": "519a5dc5",
   "metadata": {},
   "source": [
    "Data type needed to code statements that can either be right or wrong, true or false, yes or no, or in-between etc.\n",
    "\n",
    "### 3. Booleans\n",
    "- True\n",
    "- False"
   ]
  },
  {
   "cell_type": "code",
   "execution_count": 342,
   "id": "e7f9673a",
   "metadata": {},
   "outputs": [
    {
     "data": {
      "text/plain": [
       "1"
      ]
     },
     "execution_count": 342,
     "metadata": {},
     "output_type": "execute_result"
    }
   ],
   "source": [
    "\n",
    "#The integer value can either be 1 or 0, 1 for true and 0 for false.\n",
    "int(True)"
   ]
  },
  {
   "cell_type": "code",
   "execution_count": 343,
   "id": "0e26d7b0",
   "metadata": {},
   "outputs": [
    {
     "data": {
      "text/plain": [
       "0"
      ]
     },
     "execution_count": 343,
     "metadata": {},
     "output_type": "execute_result"
    }
   ],
   "source": [
    "int(False)"
   ]
  },
  {
   "cell_type": "markdown",
   "id": "314294d7",
   "metadata": {},
   "source": [
    "So what if we want to save things to use them later? \n",
    "### Variables 🗳️"
   ]
  },
  {
   "cell_type": "code",
   "execution_count": 344,
   "id": "e6b74079",
   "metadata": {},
   "outputs": [
    {
     "name": "stdout",
     "output_type": "stream",
     "text": [
      "Sandra\n"
     ]
    }
   ],
   "source": [
    "#Variables - these are name values, like labelling or given your value a name.\n",
    "#python also updates variables when they are changed, like it keeps the current information. \n",
    "#Tips: can only be one word, if more than one separate with _ , dont start with a number, but it can contain a number.\n",
    "# For example:\n",
    "patient_name= \"Sandra\"\n",
    "print (patient_name)"
   ]
  },
  {
   "cell_type": "code",
   "execution_count": 345,
   "id": "fc9e71dd",
   "metadata": {},
   "outputs": [
    {
     "name": "stdout",
     "output_type": "stream",
     "text": [
      "Ginika\n"
     ]
    }
   ],
   "source": [
    "#update patient_name to Ginika  \n",
    "patient_name=\"Ginika\" #saves this name, forgets Sandra\n",
    "print (patient_name)"
   ]
  },
  {
   "cell_type": "code",
   "execution_count": 346,
   "id": "3b61f521",
   "metadata": {},
   "outputs": [
    {
     "name": "stdout",
     "output_type": "stream",
     "text": [
      "37500\n"
     ]
    }
   ],
   "source": [
    "#Applying variable knowledge\n",
    "number_of_screenings = 25\n",
    "cost_per_screening = 1500\n",
    "target_population = 30\n",
    "cervical_program_cost = number_of_screenings*cost_per_screening\n",
    "cervical_program_budget= cost_per_screening*target_population\n",
    "print(cervical_program_cost)"
   ]
  },
  {
   "cell_type": "markdown",
   "id": "7a8b495a",
   "metadata": {},
   "source": [
    "There are also times, when you would want to create a variable, but never want them to change or you know it wouldn't make sense if it chnages, for example *someone's DNA*. These variables will be described as immutables, in python they are called\n",
    "\n",
    "### CONSTANTS - Other type of variable\n",
    "\n",
    "Let's make variables immutable! \n",
    "\n",
    "*The word immutable means Unchangeable, new word yeah?... it was my first time too 🙈*"
   ]
  },
  {
   "cell_type": "code",
   "execution_count": 347,
   "id": "967e90fc",
   "metadata": {},
   "outputs": [],
   "source": [
    "#If we do not want a variable to change, we code their variable names in uppercase (capital letter)\n",
    "\n",
    "ORGANIZATION_NAME = \"Stanford Data Ocean\"\n",
    "PROGRAM_NAME = \"Stanford Data Ocean Precision Medicine Program\"\n",
    "TRACK = \"Bioinformatics Certificate\"\n",
    "COURSE = \"Introduction to Python\""
   ]
  },
  {
   "cell_type": "markdown",
   "id": "04dc70d3",
   "metadata": {},
   "source": [
    "Or we want to print statements but still call the result of variable(s) we created before within the print statement.\n",
    "### Print Formatting 🖨️ is your best choice - and this can be done in 2 ways\n",
    "- .format\n",
    "- f-string"
   ]
  },
  {
   "cell_type": "code",
   "execution_count": 348,
   "id": "41443d73",
   "metadata": {},
   "outputs": [
    {
     "name": "stdout",
     "output_type": "stream",
     "text": [
      "With a total budget of $45000 and target population of 30, carved out for the free cervical screening. We only spent $37500, after conducting 25 screenings. Leaving us with only $5 in the bank.\n"
     ]
    }
   ],
   "source": [
    "# use .format(first_variable, seond_variable) outside the string quotes \n",
    "# use empty curly {} braces to indicate the position of the variable within the sentence.\n",
    "print(\"With a total budget of ${} and target population of {}, carved out for the free cervical screening. We only spent ${}, after conducting {} screenings. Leaving us with only ${} in the bank.\".format(cervical_program_budget, target_population, cervical_program_cost, number_of_screenings, target_population-number_of_screenings))"
   ]
  },
  {
   "cell_type": "code",
   "execution_count": 349,
   "id": "dfbbe6d2",
   "metadata": {},
   "outputs": [
    {
     "name": "stdout",
     "output_type": "stream",
     "text": [
      "With a total budget of $45000 and target population of 30, carved out for the free cervical screening. We only spent $37500, after conducting 25 screenings. Leaving us with only $5 in the bank.\n"
     ]
    }
   ],
   "source": [
    "# use f-string just put an f within the print bracket before the first string quote, \n",
    "# and place the curly braces {}, the positions you want each variable to be.\n",
    "print(f\"With a total budget of ${cervical_program_budget} and target population of {target_population}, carved out for the free cervical screening. We only spent ${cervical_program_cost}, after conducting {number_of_screenings} screenings. Leaving us with only ${target_population-number_of_screenings} in the bank.\")"
   ]
  },
  {
   "cell_type": "markdown",
   "id": "94c7b281",
   "metadata": {},
   "source": [
    "Do you know that you can assign or store more than one variable on the same line of code?\n",
    "\n",
    "### Unpacking/Multiple Variables\n",
    "- first, separate all values by a comma, \n",
    "- then make sure the number of variables = the number of value"
   ]
  },
  {
   "cell_type": "code",
   "execution_count": 350,
   "id": "465b7047",
   "metadata": {},
   "outputs": [
    {
     "name": "stdout",
     "output_type": "stream",
     "text": [
      "fever\n"
     ]
    }
   ],
   "source": [
    "\n",
    "patient_a, patient_b, patient_c = \"fever\", \"cough\", \"cold\"\n",
    "print(patient_a)"
   ]
  },
  {
   "cell_type": "code",
   "execution_count": 351,
   "id": "4382fdcc",
   "metadata": {},
   "outputs": [
    {
     "name": "stdout",
     "output_type": "stream",
     "text": [
      "fever has fever\n"
     ]
    }
   ],
   "source": [
    "#Application\n",
    "\n",
    "print(f\"{patient_a} has {patient_a}\")"
   ]
  },
  {
   "cell_type": "code",
   "execution_count": 352,
   "id": "fb0ce760",
   "metadata": {},
   "outputs": [
    {
     "name": "stdout",
     "output_type": "stream",
     "text": [
      "patient_a has fever\n"
     ]
    }
   ],
   "source": [
    "#Application\n",
    "\n",
    "print(f\"patient_a has {patient_a}\")"
   ]
  },
  {
   "cell_type": "markdown",
   "id": "6e3d5da3",
   "metadata": {},
   "source": [
    "Say you want to be sure of something or want some clarification 🧠 We can make python reason first before giving us an answer 🤔"
   ]
  },
  {
   "cell_type": "markdown",
   "id": "bd4d2eaa",
   "metadata": {},
   "source": [
    "### Understanding conditions with Booleans "
   ]
  },
  {
   "cell_type": "code",
   "execution_count": 353,
   "id": "89cf12ac",
   "metadata": {},
   "outputs": [
    {
     "data": {
      "text/plain": [
       "True"
      ]
     },
     "execution_count": 353,
     "metadata": {},
     "output_type": "execute_result"
    }
   ],
   "source": [
    "#with and\n",
    "True and True #means both conditions are true so, the answer must be true, just like + + + will always be +, see and as plus sign"
   ]
  },
  {
   "cell_type": "code",
   "execution_count": 354,
   "id": "6c76e125",
   "metadata": {},
   "outputs": [
    {
     "data": {
      "text/plain": [
       "False"
      ]
     },
     "execution_count": 354,
     "metadata": {},
     "output_type": "execute_result"
    }
   ],
   "source": [
    "True and False #+ + - = -, one condition is not true, so this will return false"
   ]
  },
  {
   "cell_type": "code",
   "execution_count": 355,
   "id": "c516cf46",
   "metadata": {},
   "outputs": [
    {
     "data": {
      "text/plain": [
       "True"
      ]
     },
     "execution_count": 355,
     "metadata": {},
     "output_type": "execute_result"
    }
   ],
   "source": [
    "#with or \n",
    "True or False #means if any condition is true, even if it's one, he result will be positive"
   ]
  },
  {
   "cell_type": "code",
   "execution_count": 356,
   "id": "cd000ba1",
   "metadata": {},
   "outputs": [
    {
     "data": {
      "text/plain": [
       "True"
      ]
     },
     "execution_count": 356,
     "metadata": {},
     "output_type": "execute_result"
    }
   ],
   "source": [
    "True or True"
   ]
  },
  {
   "cell_type": "code",
   "execution_count": 357,
   "id": "b1a1c38d",
   "metadata": {},
   "outputs": [
    {
     "data": {
      "text/plain": [
       "False"
      ]
     },
     "execution_count": 357,
     "metadata": {},
     "output_type": "execute_result"
    }
   ],
   "source": [
    "#with not \n",
    "#use when you want to return the opposite\n",
    "not True #will return its opposite"
   ]
  },
  {
   "cell_type": "code",
   "execution_count": 358,
   "id": "790ca392",
   "metadata": {},
   "outputs": [
    {
     "data": {
      "text/plain": [
       "True"
      ]
     },
     "execution_count": 358,
     "metadata": {},
     "output_type": "execute_result"
    }
   ],
   "source": [
    "not False"
   ]
  },
  {
   "cell_type": "markdown",
   "id": "142a1128",
   "metadata": {},
   "source": [
    "### We can also use Operators as Conditionals ◀️▶️"
   ]
  },
  {
   "cell_type": "code",
   "execution_count": 359,
   "id": "85b910b4",
   "metadata": {},
   "outputs": [
    {
     "data": {
      "text/plain": [
       "True"
      ]
     },
     "execution_count": 359,
     "metadata": {},
     "output_type": "execute_result"
    }
   ],
   "source": [
    "#instead of using booleans we ca decide to use arithmetic operators to code conditions\n",
    "#if the conditional statement is correct/true it will return True, but if it's not correct/true it will return false\n",
    "1 < 20 #askes python, \"is 1 less than 20?\" and it says yes in code (True)"
   ]
  },
  {
   "cell_type": "code",
   "execution_count": 360,
   "id": "e6198ea4",
   "metadata": {},
   "outputs": [
    {
     "data": {
      "text/plain": [
       "False"
      ]
     },
     "execution_count": 360,
     "metadata": {},
     "output_type": "execute_result"
    }
   ],
   "source": [
    "20 < 1 # is 20 less than 1? and it says no in code (False)"
   ]
  },
  {
   "cell_type": "code",
   "execution_count": 361,
   "id": "1e2ddcb3",
   "metadata": {},
   "outputs": [
    {
     "data": {
      "text/plain": [
       "True"
      ]
     },
     "execution_count": 361,
     "metadata": {},
     "output_type": "execute_result"
    }
   ],
   "source": [
    "20 > 1 #is 20 greater than 1?"
   ]
  },
  {
   "cell_type": "code",
   "execution_count": 362,
   "id": "0e1c76f0",
   "metadata": {},
   "outputs": [
    {
     "data": {
      "text/plain": [
       "True"
      ]
     },
     "execution_count": 362,
     "metadata": {},
     "output_type": "execute_result"
    }
   ],
   "source": [
    "20 >= 1 #is 20 greater than or equal to 1?"
   ]
  },
  {
   "cell_type": "code",
   "execution_count": 363,
   "id": "ccd7d029",
   "metadata": {},
   "outputs": [
    {
     "data": {
      "text/plain": [
       "False"
      ]
     },
     "execution_count": 363,
     "metadata": {},
     "output_type": "execute_result"
    }
   ],
   "source": [
    "20 <= 1 #20 less than or equal to 1?"
   ]
  },
  {
   "cell_type": "code",
   "execution_count": 364,
   "id": "c2936447",
   "metadata": {},
   "outputs": [
    {
     "data": {
      "text/plain": [
       "True"
      ]
     },
     "execution_count": 364,
     "metadata": {},
     "output_type": "execute_result"
    }
   ],
   "source": [
    "20 != 1 #confirming if 20 is not equal to 1"
   ]
  },
  {
   "cell_type": "code",
   "execution_count": 365,
   "id": "198107a7",
   "metadata": {},
   "outputs": [
    {
     "data": {
      "text/plain": [
       "False"
      ]
     },
     "execution_count": 365,
     "metadata": {},
     "output_type": "execute_result"
    }
   ],
   "source": [
    "20 == 1 #confirming if 20 is equal to 1"
   ]
  },
  {
   "cell_type": "code",
   "execution_count": 366,
   "id": "e0f47e92",
   "metadata": {},
   "outputs": [
    {
     "data": {
      "text/plain": [
       "False"
      ]
     },
     "execution_count": 366,
     "metadata": {},
     "output_type": "execute_result"
    }
   ],
   "source": [
    "# we can also do same with string variables see,\n",
    "\"chidinma\" == \"chidima\""
   ]
  },
  {
   "cell_type": "code",
   "execution_count": 367,
   "id": "e15f1f59",
   "metadata": {},
   "outputs": [
    {
     "data": {
      "text/plain": [
       "False"
      ]
     },
     "execution_count": 367,
     "metadata": {},
     "output_type": "execute_result"
    }
   ],
   "source": [
    "ORGANIZATION_NAME == PROGRAM_NAME"
   ]
  },
  {
   "cell_type": "code",
   "execution_count": 368,
   "id": "6f1bf120",
   "metadata": {},
   "outputs": [
    {
     "data": {
      "text/plain": [
       "True"
      ]
     },
     "execution_count": 368,
     "metadata": {},
     "output_type": "execute_result"
    }
   ],
   "source": [
    "ORG_NAME = \"Stanford Data Ocean\"\n",
    "ORGANIZATION_NAME == ORG_NAME #you can see this return true because literally the 2 variables store the same value (scroll upwards to see ORGANIZATION_NAME value)"
   ]
  },
  {
   "cell_type": "code",
   "execution_count": 369,
   "id": "f7920151",
   "metadata": {},
   "outputs": [
    {
     "data": {
      "text/plain": [
       "False"
      ]
     },
     "execution_count": 369,
     "metadata": {},
     "output_type": "execute_result"
    }
   ],
   "source": [
    "#so far the condition is correct, the statement will return true, else false, please study below\n",
    "\"chidinma\" == \"chidima\""
   ]
  },
  {
   "cell_type": "code",
   "execution_count": 370,
   "id": "ae1bda31",
   "metadata": {},
   "outputs": [
    {
     "data": {
      "text/plain": [
       "True"
      ]
     },
     "execution_count": 370,
     "metadata": {},
     "output_type": "execute_result"
    }
   ],
   "source": [
    "\"chidinma\" == \"chidinma\" #words are the same"
   ]
  },
  {
   "cell_type": "code",
   "execution_count": 371,
   "id": "f82f230e",
   "metadata": {},
   "outputs": [
    {
     "data": {
      "text/plain": [
       "True"
      ]
     },
     "execution_count": 371,
     "metadata": {},
     "output_type": "execute_result"
    }
   ],
   "source": [
    "\"chidinma\" == 'chidinma' #double and single quotes are the same thing, however note that you cannot use single quotes on the left side\n",
    "                         #it is always ideal to use double quotes for the comparison variable while the single quote for assignments, though both will run."
   ]
  },
  {
   "cell_type": "code",
   "execution_count": 372,
   "id": "d0bdcfba",
   "metadata": {},
   "outputs": [
    {
     "data": {
      "text/plain": [
       "True"
      ]
     },
     "execution_count": 372,
     "metadata": {},
     "output_type": "execute_result"
    }
   ],
   "source": [
    "'chidinma'==\"chidinma\"  \n",
    "#read the line comment above, also string comparison can be useful, when comparing if the text a person entered is equaivalent to the saved password."
   ]
  },
  {
   "cell_type": "markdown",
   "id": "857f934d",
   "metadata": {},
   "source": [
    "And then convert a variable's type into another....\n",
    "### Casting ↪↩"
   ]
  },
  {
   "cell_type": "code",
   "execution_count": 373,
   "id": "0fa51f1d",
   "metadata": {},
   "outputs": [
    {
     "data": {
      "text/plain": [
       "14"
      ]
     },
     "execution_count": 373,
     "metadata": {},
     "output_type": "execute_result"
    }
   ],
   "source": [
    "#to convert a type, just wrap the variable name in the type \n",
    "int(14.2) #(! an integer will always givee you a round number, so you can use it for round ups)"
   ]
  },
  {
   "cell_type": "code",
   "execution_count": 374,
   "id": "3d9acd76",
   "metadata": {},
   "outputs": [
    {
     "data": {
      "text/plain": [
       "14.0"
      ]
     },
     "execution_count": 374,
     "metadata": {},
     "output_type": "execute_result"
    }
   ],
   "source": [
    "float(14) # converting it back to float"
   ]
  },
  {
   "cell_type": "code",
   "execution_count": 375,
   "id": "1f7f83b7",
   "metadata": {},
   "outputs": [
    {
     "data": {
      "text/plain": [
       "True"
      ]
     },
     "execution_count": 375,
     "metadata": {},
     "output_type": "execute_result"
    }
   ],
   "source": [
    "bool(1)"
   ]
  },
  {
   "cell_type": "code",
   "execution_count": 376,
   "id": "a0d3080b",
   "metadata": {},
   "outputs": [
    {
     "data": {
      "text/plain": [
       "'1'"
      ]
     },
     "execution_count": 376,
     "metadata": {},
     "output_type": "execute_result"
    }
   ],
   "source": [
    "str(1)"
   ]
  },
  {
   "cell_type": "markdown",
   "id": "880a64a5",
   "metadata": {},
   "source": [
    "It's time to go now lovelies...\n",
    "# ¡hasta pronto! 🙋‍♀️"
   ]
  },
  {
   "cell_type": "code",
   "execution_count": 377,
   "id": "6a8f83e8",
   "metadata": {},
   "outputs": [
    {
     "data": {
      "text/plain": [
       "False"
      ]
     },
     "execution_count": 377,
     "metadata": {},
     "output_type": "execute_result"
    }
   ],
   "source": [
    "not(50 < 50) and (100 < 100)"
   ]
  }
 ],
 "metadata": {
  "kernelspec": {
   "display_name": "base",
   "language": "python",
   "name": "python3"
  },
  "language_info": {
   "codemirror_mode": {
    "name": "ipython",
    "version": 3
   },
   "file_extension": ".py",
   "mimetype": "text/x-python",
   "name": "python",
   "nbconvert_exporter": "python",
   "pygments_lexer": "ipython3",
   "version": "3.12.10"
  }
 },
 "nbformat": 4,
 "nbformat_minor": 5
}
