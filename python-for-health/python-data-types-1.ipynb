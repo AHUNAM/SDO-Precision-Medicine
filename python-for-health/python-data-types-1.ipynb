{
 "cells": [
  {
   "cell_type": "markdown",
   "id": "49fd7880",
   "metadata": {},
   "source": [
    "# 🧡 ¡Buenos Dias! ☀️🌞 My lovelies...."
   ]
  },
  {
   "cell_type": "markdown",
   "id": "ea37bce1",
   "metadata": {},
   "source": [
    "So I jumped on this course on Python Data Types, and started applying them to healthcare. \n",
    "\n",
    "Guess what? \n",
    "It's been amazing so far! \n",
    "\n",
    "After a year of struggling with Python, I am finally feeling the glow-up is real --- All thanks to my training at Standard Data Ocean. 🤭   \n",
    "\n",
    "##### Walk with me, let me show you what I've learnt.\n"
   ]
  },
  {
   "cell_type": "markdown",
   "id": "a5448aa8",
   "metadata": {},
   "source": [
    "### 🖨️ My First Python \n",
    "...and just like every other programming language, I wrotemy first print statement on python!!! 👇"
   ]
  },
  {
   "cell_type": "code",
   "execution_count": 802,
   "id": "f841f138",
   "metadata": {},
   "outputs": [
    {
     "name": "stdout",
     "output_type": "stream",
     "text": [
      "hello!, VS code and Jupyter notebook!!\n"
     ]
    }
   ],
   "source": [
    "print(\"hello!, VS code and Jupyter notebook!!\")"
   ]
  },
  {
   "cell_type": "markdown",
   "id": "602f59e6",
   "metadata": {},
   "source": [
    "Okay, here’s a hint before we go deeper! When you need to add extra info (not code), like tips, guidelines or reminders, you use \n",
    "### Comments 🗨️\n",
    "\n",
    "*(Whispers: commenting is a skill — not everyone gets it immediately 😉)*"
   ]
  },
  {
   "cell_type": "code",
   "execution_count": 803,
   "id": "78e58c0d",
   "metadata": {},
   "outputs": [],
   "source": [
    "# This is a comment.\n",
    "# A comment is any code that starts with the # symbol in front and Python ignores it.\n",
    "# As you're learning Python, use comments to take notes to remember key concepts, enhance your understanding, or explain your code to your future self."
   ]
  },
  {
   "cell_type": "markdown",
   "id": "743302b5",
   "metadata": {},
   "source": [
    "In every programming language, one of the first set of things you get meet is \n",
    "\n",
    "### Data Types and Operators\n",
    "\n",
    "Don’t fret — it’s very easy.\n",
    "You probably know them already, but now we’re putting labels on them.... \n",
    "\n",
    "I will rather categorize them for you, instead of splitting them, that way you would always remember. Don't say i didn't do something nice for you 😂 *one day i knew i was going to use that line*"
   ]
  },
  {
   "cell_type": "markdown",
   "id": "0c6b4a5e",
   "metadata": {},
   "source": [
    "### 1. Numericals \n",
    "- Integers\n",
    "- Floats \n",
    "\n",
    "Numericals, can either be integers as a whole number like `5`, or floats as in numbers with decimals like `5.0`.\n",
    "\n",
    "And they all work with the operators below 👇"
   ]
  },
  {
   "cell_type": "code",
   "execution_count": 804,
   "id": "a29c6113",
   "metadata": {},
   "outputs": [
    {
     "data": {
      "text/plain": [
       "5"
      ]
     },
     "execution_count": 804,
     "metadata": {},
     "output_type": "execute_result"
    }
   ],
   "source": [
    "# `+` addition (adds numericals)\n",
    "\n",
    "3+2 "
   ]
  },
  {
   "cell_type": "code",
   "execution_count": 805,
   "id": "786aba5a",
   "metadata": {},
   "outputs": [
    {
     "data": {
      "text/plain": [
       "1"
      ]
     },
     "execution_count": 805,
     "metadata": {},
     "output_type": "execute_result"
    }
   ],
   "source": [
    "# `-` subtraction (minuses numericals)\n",
    "\n",
    "3-2  "
   ]
  },
  {
   "cell_type": "code",
   "execution_count": 806,
   "id": "b5df4989",
   "metadata": {},
   "outputs": [
    {
     "data": {
      "text/plain": [
       "1.5"
      ]
     },
     "execution_count": 806,
     "metadata": {},
     "output_type": "execute_result"
    }
   ],
   "source": [
    "# `/` division (divides numericals to always return the complete float)\n",
    "\n",
    "3/2 "
   ]
  },
  {
   "cell_type": "code",
   "execution_count": 807,
   "id": "6872fa59",
   "metadata": {},
   "outputs": [
    {
     "data": {
      "text/plain": [
       "2"
      ]
     },
     "execution_count": 807,
     "metadata": {},
     "output_type": "execute_result"
    }
   ],
   "source": [
    "# `//`floor_division (divides numericals to always return only the wholenumber in the float)\n",
    "\n",
    "5//2 "
   ]
  },
  {
   "cell_type": "code",
   "execution_count": 808,
   "id": "0a0592be",
   "metadata": {},
   "outputs": [
    {
     "data": {
      "text/plain": [
       "1"
      ]
     },
     "execution_count": 808,
     "metadata": {},
     "output_type": "execute_result"
    }
   ],
   "source": [
    "# `%`modulus (divides numericals to always return only the remainder (the decimal or float part))\n",
    "\n",
    "3%2  "
   ]
  },
  {
   "cell_type": "code",
   "execution_count": 809,
   "id": "6a588ebc",
   "metadata": {},
   "outputs": [
    {
     "data": {
      "text/plain": [
       "9"
      ]
     },
     "execution_count": 809,
     "metadata": {},
     "output_type": "execute_result"
    }
   ],
   "source": [
    "# `**`exponentiation (simply raised to the power of 😂)\n",
    "\n",
    "3**2 "
   ]
  },
  {
   "cell_type": "markdown",
   "id": "1f50f399",
   "metadata": {},
   "source": [
    "Anything that is not a number, not a numerical is identified and called a\n",
    "\n",
    "### 2. String 🔡\n",
    "\n",
    "Strings are characters wrapped as a text, so even if its a number python will see it as a text, *emojis are strings, punctuations are strings etc.*\n",
    "- They are written with single quotes ' ' or double quotes \"\"\n",
    "- If you want to use apostrophe is used ', you use double quotes to differentiate them so python see's it as a string in punctuation format."
   ]
  },
  {
   "cell_type": "code",
   "execution_count": 810,
   "id": "f5344615",
   "metadata": {},
   "outputs": [
    {
     "data": {
      "text/plain": [
       "'I am learning python for health'"
      ]
     },
     "execution_count": 810,
     "metadata": {},
     "output_type": "execute_result"
    }
   ],
   "source": [
    "# \"\" double quotes\n",
    "\n",
    "\"I am learning python for health\"  "
   ]
  },
  {
   "cell_type": "code",
   "execution_count": 811,
   "id": "2ac803ee",
   "metadata": {},
   "outputs": [
    {
     "data": {
      "text/plain": [
       "'I am learning python for health'"
      ]
     },
     "execution_count": 811,
     "metadata": {},
     "output_type": "execute_result"
    }
   ],
   "source": [
    "# '' single quotes (returns same result as double quote)\n",
    "\n",
    "'I am learning python for health' "
   ]
  },
  {
   "cell_type": "code",
   "execution_count": 812,
   "id": "f6d0e342",
   "metadata": {},
   "outputs": [
    {
     "data": {
      "text/plain": [
       "\"You are learning python for health! Aren't you\""
      ]
     },
     "execution_count": 812,
     "metadata": {},
     "output_type": "execute_result"
    }
   ],
   "source": [
    "# \"'\" with apostrophe <-- double quotes and single quotes together. Python see's ' as a string instead.\n",
    "\n",
    "\"You are learning python for health! Aren't you\"  "
   ]
  },
  {
   "cell_type": "markdown",
   "id": "519a5dc5",
   "metadata": {},
   "source": [
    "Data type needed to code statements that can either be right or wrong, true or false, yes or no, or in-between etc.\n",
    "\n",
    "### 3. Booleans\n",
    "- True\n",
    "- False"
   ]
  },
  {
   "cell_type": "code",
   "execution_count": 813,
   "id": "e7f9673a",
   "metadata": {},
   "outputs": [
    {
     "data": {
      "text/plain": [
       "1"
      ]
     },
     "execution_count": 813,
     "metadata": {},
     "output_type": "execute_result"
    }
   ],
   "source": [
    "\n",
    "#The integer value can either be 1 or 0, 1 for true and 0 for false.\n",
    "int(True)"
   ]
  },
  {
   "cell_type": "code",
   "execution_count": 814,
   "id": "0e26d7b0",
   "metadata": {},
   "outputs": [
    {
     "data": {
      "text/plain": [
       "0"
      ]
     },
     "execution_count": 814,
     "metadata": {},
     "output_type": "execute_result"
    }
   ],
   "source": [
    "int(False)"
   ]
  },
  {
   "cell_type": "markdown",
   "id": "314294d7",
   "metadata": {},
   "source": [
    "So what if we want to save things to use them later? \n",
    "### Variables 🗳️\n",
    "\n",
    "Variables are just names we give to values."
   ]
  },
  {
   "cell_type": "code",
   "execution_count": 815,
   "id": "e6b74079",
   "metadata": {},
   "outputs": [
    {
     "name": "stdout",
     "output_type": "stream",
     "text": [
      "Sandra\n"
     ]
    }
   ],
   "source": [
    "#Variables - these are name values, like labelling or given your value a name.\n",
    "#python also updates variables when they are changed, like it keeps the current information. \n",
    "#Tips: can only be one word, if more than one separate with _ , dont start with a number, but it can contain a number.\n",
    "# For example:\n",
    "patient_name= \"Sandra\"\n",
    "print (patient_name)"
   ]
  },
  {
   "cell_type": "code",
   "execution_count": 816,
   "id": "fc9e71dd",
   "metadata": {},
   "outputs": [
    {
     "name": "stdout",
     "output_type": "stream",
     "text": [
      "Ginika\n"
     ]
    }
   ],
   "source": [
    "#update patient_name to Ginika  \n",
    "patient_name=\"Ginika\" #saves this name, forgets Sandra\n",
    "print (patient_name)"
   ]
  },
  {
   "cell_type": "code",
   "execution_count": 817,
   "id": "3b61f521",
   "metadata": {},
   "outputs": [
    {
     "name": "stdout",
     "output_type": "stream",
     "text": [
      "37500\n"
     ]
    }
   ],
   "source": [
    "#Applying variable knowledge\n",
    "number_of_screenings = 25\n",
    "cost_per_screening = 1500\n",
    "target_population = 30\n",
    "cervical_program_cost = number_of_screenings*cost_per_screening\n",
    "cervical_program_budget= cost_per_screening*target_population\n",
    "print(cervical_program_cost)"
   ]
  },
  {
   "cell_type": "markdown",
   "id": "7a8b495a",
   "metadata": {},
   "source": [
    "There are also times, when you would want to create a variable, but never want them to change or you know it wouldn't make sense if it changes, for example *someone's DNA*. These variables will be described as immutables, in python they are called\n",
    "\n",
    "### 🚫 CONSTANTS - a variable you don't want to change\n",
    "\n",
    "Let's make variables immutable! \n",
    "\n",
    "*The word immutable means Unchangeable, new word yeah?... it was my first time too 🙈*"
   ]
  },
  {
   "cell_type": "code",
   "execution_count": 818,
   "id": "967e90fc",
   "metadata": {},
   "outputs": [],
   "source": [
    "#If we do not want a variable to change, we code their variable names in uppercase (capital letter)\n",
    "\n",
    "ORGANIZATION_NAME = \"Stanford Data Ocean\"\n",
    "PROGRAM_NAME = \"Stanford Data Ocean Precision Medicine Program\"\n",
    "TRACK = \"Bioinformatics Certificate\"\n",
    "COURSE = \"Introduction to Python\""
   ]
  },
  {
   "cell_type": "markdown",
   "id": "04dc70d3",
   "metadata": {},
   "source": [
    "Or we want to print statements but still call the result of variable(s) we created before within the print statement.\n",
    "### Print Formatting 🖨️ is your best choice - and this can be done in 2 ways\n",
    "- .format\n",
    "- f-string"
   ]
  },
  {
   "cell_type": "code",
   "execution_count": 819,
   "id": "41443d73",
   "metadata": {},
   "outputs": [
    {
     "name": "stdout",
     "output_type": "stream",
     "text": [
      "With a total budget of $45000 and target population of 30, carved out for the free cervical screening. We only spent $37500, after conducting 25 screenings. Leaving us with only $5 in the bank.\n"
     ]
    }
   ],
   "source": [
    "# use .format(first_variable, seond_variable) outside the string quotes \n",
    "# use empty curly {} braces to indicate the position of the variable within the sentence.\n",
    "print(\"With a total budget of ${} and target population of {}, carved out for the free cervical screening. We only spent ${}, after conducting {} screenings. Leaving us with only ${} in the bank.\".format(cervical_program_budget, target_population, cervical_program_cost, number_of_screenings, target_population-number_of_screenings))"
   ]
  },
  {
   "cell_type": "code",
   "execution_count": 820,
   "id": "dfbbe6d2",
   "metadata": {},
   "outputs": [
    {
     "name": "stdout",
     "output_type": "stream",
     "text": [
      "With a total budget of $45000 and target population of 30, carved out for the free cervical screening. We only spent $37500, after conducting 25 screenings. Leaving us with only $5 in the bank.\n"
     ]
    }
   ],
   "source": [
    "# use f-string just put an f within the print bracket before the first string quote, \n",
    "# and place the curly braces {}, the positions you want each variable to be.\n",
    "print(f\"With a total budget of ${cervical_program_budget} and target population of {target_population}, carved out for the free cervical screening. We only spent ${cervical_program_cost}, after conducting {number_of_screenings} screenings. Leaving us with only ${target_population-number_of_screenings} in the bank.\")"
   ]
  },
  {
   "cell_type": "markdown",
   "id": "94c7b281",
   "metadata": {},
   "source": [
    "Do you know that you can assign or store more than one variable on the same line of code?\n",
    "\n",
    "### Unpacking/Multiple Variables\n",
    "- first, separate all values by a comma, \n",
    "- then make sure the number of variables = the number of value"
   ]
  },
  {
   "cell_type": "code",
   "execution_count": 821,
   "id": "465b7047",
   "metadata": {},
   "outputs": [
    {
     "name": "stdout",
     "output_type": "stream",
     "text": [
      "fever\n"
     ]
    }
   ],
   "source": [
    "\n",
    "patient_a, patient_b, patient_c = \"fever\", \"cough\", \"cold\"\n",
    "print(patient_a)"
   ]
  },
  {
   "cell_type": "code",
   "execution_count": 822,
   "id": "4382fdcc",
   "metadata": {},
   "outputs": [
    {
     "name": "stdout",
     "output_type": "stream",
     "text": [
      "fever has fever\n"
     ]
    }
   ],
   "source": [
    "#Application\n",
    "\n",
    "print(f\"{patient_a} has {patient_a}\")"
   ]
  },
  {
   "cell_type": "code",
   "execution_count": 823,
   "id": "fb0ce760",
   "metadata": {},
   "outputs": [
    {
     "name": "stdout",
     "output_type": "stream",
     "text": [
      "patient_a has fever\n"
     ]
    }
   ],
   "source": [
    "#Application\n",
    "\n",
    "print(f\"patient_a has {patient_a}\")"
   ]
  },
  {
   "cell_type": "markdown",
   "id": "6e3d5da3",
   "metadata": {},
   "source": [
    "Say you want to be sure of something or want some clarification 🧠 We can make python reason first before giving us an answer 🤔"
   ]
  },
  {
   "cell_type": "markdown",
   "id": "bd4d2eaa",
   "metadata": {},
   "source": [
    "### Understanding conditions with Booleans "
   ]
  },
  {
   "cell_type": "code",
   "execution_count": 824,
   "id": "89cf12ac",
   "metadata": {},
   "outputs": [
    {
     "data": {
      "text/plain": [
       "True"
      ]
     },
     "execution_count": 824,
     "metadata": {},
     "output_type": "execute_result"
    }
   ],
   "source": [
    "#with and\n",
    "True and True #means both conditions are true so, the answer must be true, just like + + + will always be +, see and as plus sign"
   ]
  },
  {
   "cell_type": "code",
   "execution_count": 825,
   "id": "6c76e125",
   "metadata": {},
   "outputs": [
    {
     "data": {
      "text/plain": [
       "False"
      ]
     },
     "execution_count": 825,
     "metadata": {},
     "output_type": "execute_result"
    }
   ],
   "source": [
    "True and False #+ + - = -, one condition is not true, so this will return false"
   ]
  },
  {
   "cell_type": "code",
   "execution_count": 826,
   "id": "c516cf46",
   "metadata": {},
   "outputs": [
    {
     "data": {
      "text/plain": [
       "True"
      ]
     },
     "execution_count": 826,
     "metadata": {},
     "output_type": "execute_result"
    }
   ],
   "source": [
    "#with or \n",
    "True or False #means if any condition is true, even if it's one, he result will be positive"
   ]
  },
  {
   "cell_type": "code",
   "execution_count": 827,
   "id": "cd000ba1",
   "metadata": {},
   "outputs": [
    {
     "data": {
      "text/plain": [
       "True"
      ]
     },
     "execution_count": 827,
     "metadata": {},
     "output_type": "execute_result"
    }
   ],
   "source": [
    "True or True"
   ]
  },
  {
   "cell_type": "code",
   "execution_count": 828,
   "id": "b1a1c38d",
   "metadata": {},
   "outputs": [
    {
     "data": {
      "text/plain": [
       "False"
      ]
     },
     "execution_count": 828,
     "metadata": {},
     "output_type": "execute_result"
    }
   ],
   "source": [
    "#with not \n",
    "#use when you want to return the opposite\n",
    "not True #will return its opposite"
   ]
  },
  {
   "cell_type": "code",
   "execution_count": 829,
   "id": "790ca392",
   "metadata": {},
   "outputs": [
    {
     "data": {
      "text/plain": [
       "True"
      ]
     },
     "execution_count": 829,
     "metadata": {},
     "output_type": "execute_result"
    }
   ],
   "source": [
    "not False"
   ]
  },
  {
   "cell_type": "code",
   "execution_count": 830,
   "id": "6a8f83e8",
   "metadata": {},
   "outputs": [
    {
     "data": {
      "text/plain": [
       "False"
      ]
     },
     "execution_count": 830,
     "metadata": {},
     "output_type": "execute_result"
    }
   ],
   "source": [
    "not(50 < 50) and (100 < 100)"
   ]
  },
  {
   "cell_type": "markdown",
   "id": "142a1128",
   "metadata": {},
   "source": [
    "### We can also use Operators as Conditionals ◀️▶️"
   ]
  },
  {
   "cell_type": "code",
   "execution_count": 831,
   "id": "85b910b4",
   "metadata": {},
   "outputs": [
    {
     "data": {
      "text/plain": [
       "True"
      ]
     },
     "execution_count": 831,
     "metadata": {},
     "output_type": "execute_result"
    }
   ],
   "source": [
    "#instead of using booleans we ca decide to use arithmetic operators to code conditions\n",
    "#if the conditional statement is correct/true it will return True, but if it's not correct/true it will return false\n",
    "1 < 20 #askes python, \"is 1 less than 20?\" and it says yes in code (True)"
   ]
  },
  {
   "cell_type": "code",
   "execution_count": 832,
   "id": "e6198ea4",
   "metadata": {},
   "outputs": [
    {
     "data": {
      "text/plain": [
       "False"
      ]
     },
     "execution_count": 832,
     "metadata": {},
     "output_type": "execute_result"
    }
   ],
   "source": [
    "20 < 1 # is 20 less than 1? and it says no in code (False)"
   ]
  },
  {
   "cell_type": "code",
   "execution_count": 833,
   "id": "1e2ddcb3",
   "metadata": {},
   "outputs": [
    {
     "data": {
      "text/plain": [
       "True"
      ]
     },
     "execution_count": 833,
     "metadata": {},
     "output_type": "execute_result"
    }
   ],
   "source": [
    "20 > 1 #is 20 greater than 1?"
   ]
  },
  {
   "cell_type": "code",
   "execution_count": 834,
   "id": "0e1c76f0",
   "metadata": {},
   "outputs": [
    {
     "data": {
      "text/plain": [
       "True"
      ]
     },
     "execution_count": 834,
     "metadata": {},
     "output_type": "execute_result"
    }
   ],
   "source": [
    "20 >= 1 #is 20 greater than or equal to 1?"
   ]
  },
  {
   "cell_type": "code",
   "execution_count": 835,
   "id": "ccd7d029",
   "metadata": {},
   "outputs": [
    {
     "data": {
      "text/plain": [
       "False"
      ]
     },
     "execution_count": 835,
     "metadata": {},
     "output_type": "execute_result"
    }
   ],
   "source": [
    "20 <= 1 #20 less than or equal to 1?"
   ]
  },
  {
   "cell_type": "code",
   "execution_count": 836,
   "id": "c2936447",
   "metadata": {},
   "outputs": [
    {
     "data": {
      "text/plain": [
       "True"
      ]
     },
     "execution_count": 836,
     "metadata": {},
     "output_type": "execute_result"
    }
   ],
   "source": [
    "20 != 1 #confirming if 20 is not equal to 1"
   ]
  },
  {
   "cell_type": "code",
   "execution_count": 837,
   "id": "198107a7",
   "metadata": {},
   "outputs": [
    {
     "data": {
      "text/plain": [
       "False"
      ]
     },
     "execution_count": 837,
     "metadata": {},
     "output_type": "execute_result"
    }
   ],
   "source": [
    "20 == 1 #confirming if 20 is equal to 1"
   ]
  },
  {
   "cell_type": "code",
   "execution_count": 838,
   "id": "e0f47e92",
   "metadata": {},
   "outputs": [
    {
     "data": {
      "text/plain": [
       "False"
      ]
     },
     "execution_count": 838,
     "metadata": {},
     "output_type": "execute_result"
    }
   ],
   "source": [
    "# we can also do same with string variables see,\n",
    "\"chidinma\" == \"chidima\""
   ]
  },
  {
   "cell_type": "code",
   "execution_count": 839,
   "id": "e15f1f59",
   "metadata": {},
   "outputs": [
    {
     "data": {
      "text/plain": [
       "False"
      ]
     },
     "execution_count": 839,
     "metadata": {},
     "output_type": "execute_result"
    }
   ],
   "source": [
    "ORGANIZATION_NAME == PROGRAM_NAME"
   ]
  },
  {
   "cell_type": "code",
   "execution_count": 840,
   "id": "6f1bf120",
   "metadata": {},
   "outputs": [
    {
     "data": {
      "text/plain": [
       "True"
      ]
     },
     "execution_count": 840,
     "metadata": {},
     "output_type": "execute_result"
    }
   ],
   "source": [
    "ORG_NAME = \"Stanford Data Ocean\"\n",
    "ORGANIZATION_NAME == ORG_NAME #you can see this return true because literally the 2 variables store the same value (scroll upwards to see ORGANIZATION_NAME value)"
   ]
  },
  {
   "cell_type": "code",
   "execution_count": 841,
   "id": "f7920151",
   "metadata": {},
   "outputs": [
    {
     "data": {
      "text/plain": [
       "False"
      ]
     },
     "execution_count": 841,
     "metadata": {},
     "output_type": "execute_result"
    }
   ],
   "source": [
    "#so far the condition is correct, the statement will return true, else false, please study below\n",
    "\"chidinma\" == \"chidima\""
   ]
  },
  {
   "cell_type": "code",
   "execution_count": 842,
   "id": "ae1bda31",
   "metadata": {},
   "outputs": [
    {
     "data": {
      "text/plain": [
       "True"
      ]
     },
     "execution_count": 842,
     "metadata": {},
     "output_type": "execute_result"
    }
   ],
   "source": [
    "\"chidinma\" == \"chidinma\" #words are the same"
   ]
  },
  {
   "cell_type": "code",
   "execution_count": 843,
   "id": "f82f230e",
   "metadata": {},
   "outputs": [
    {
     "data": {
      "text/plain": [
       "True"
      ]
     },
     "execution_count": 843,
     "metadata": {},
     "output_type": "execute_result"
    }
   ],
   "source": [
    "\"chidinma\" == 'chidinma' #double and single quotes are the same thing, however note that you cannot use single quotes on the left side\n",
    "                         #it is always ideal to use double quotes for the comparison variable while the single quote for assignments, though both will run."
   ]
  },
  {
   "cell_type": "code",
   "execution_count": 844,
   "id": "d0bdcfba",
   "metadata": {},
   "outputs": [
    {
     "data": {
      "text/plain": [
       "True"
      ]
     },
     "execution_count": 844,
     "metadata": {},
     "output_type": "execute_result"
    }
   ],
   "source": [
    "'chidinma'==\"chidinma\"  \n",
    "#read the line comment above, also string comparison can be useful, when comparing if the text a person entered is equaivalent to the saved password."
   ]
  },
  {
   "cell_type": "markdown",
   "id": "857f934d",
   "metadata": {},
   "source": [
    "And then convert a variable's type into another....\n",
    "### Casting ↪↩"
   ]
  },
  {
   "cell_type": "code",
   "execution_count": 845,
   "id": "0fa51f1d",
   "metadata": {},
   "outputs": [
    {
     "data": {
      "text/plain": [
       "14"
      ]
     },
     "execution_count": 845,
     "metadata": {},
     "output_type": "execute_result"
    }
   ],
   "source": [
    "#to convert a type, just wrap the variable name in the type \n",
    "int(14.2) #(! an integer will always givee you a round number, so you can use it for round ups)"
   ]
  },
  {
   "cell_type": "code",
   "execution_count": 846,
   "id": "3d9acd76",
   "metadata": {},
   "outputs": [
    {
     "data": {
      "text/plain": [
       "14.0"
      ]
     },
     "execution_count": 846,
     "metadata": {},
     "output_type": "execute_result"
    }
   ],
   "source": [
    "float(14) # converting it back to float"
   ]
  },
  {
   "cell_type": "code",
   "execution_count": 847,
   "id": "1f7f83b7",
   "metadata": {},
   "outputs": [
    {
     "data": {
      "text/plain": [
       "True"
      ]
     },
     "execution_count": 847,
     "metadata": {},
     "output_type": "execute_result"
    }
   ],
   "source": [
    "bool(1)"
   ]
  },
  {
   "cell_type": "code",
   "execution_count": 848,
   "id": "a0d3080b",
   "metadata": {},
   "outputs": [
    {
     "data": {
      "text/plain": [
       "'1'"
      ]
     },
     "execution_count": 848,
     "metadata": {},
     "output_type": "execute_result"
    }
   ],
   "source": [
    "str(1)"
   ]
  },
  {
   "cell_type": "markdown",
   "id": "880a64a5",
   "metadata": {},
   "source": [
    "It's time to go now lovelies...\n",
    "\n",
    "Python is not just a language — it’s starting to feel like a conversation.\n",
    "\n",
    "I'm still learning, still growing, and still glowing up ✨\n",
    "\n",
    "# ¡hasta pronto! mis amores 🙋‍♀️"
   ]
  }
 ],
 "metadata": {
  "kernelspec": {
   "display_name": "base",
   "language": "python",
   "name": "python3"
  },
  "language_info": {
   "codemirror_mode": {
    "name": "ipython",
    "version": 3
   },
   "file_extension": ".py",
   "mimetype": "text/x-python",
   "name": "python",
   "nbconvert_exporter": "python",
   "pygments_lexer": "ipython3",
   "version": "3.12.10"
  }
 },
 "nbformat": 4,
 "nbformat_minor": 5
}
